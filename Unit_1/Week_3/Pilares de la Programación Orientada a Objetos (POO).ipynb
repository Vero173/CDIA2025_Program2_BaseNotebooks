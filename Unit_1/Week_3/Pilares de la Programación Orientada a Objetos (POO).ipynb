{
 "cells": [
  {
   "cell_type": "markdown",
   "id": "56bff6f2",
   "metadata": {},
   "source": [
    "# Programación Orientada a Objetos (POO)\n",
    "La POO es un paradigma que permite organizar el código de forma más modular y reutilizable. En este cuaderno trabajaremos con los cuatro pilares fundamentales:\n",
    "- Encapsulamiento\n",
    "- Herencia\n",
    "- Polimorfismo\n",
    "- Abstracción\n"
   ]
  },
  {
   "cell_type": "markdown",
   "id": "57a13253",
   "metadata": {},
   "source": [
    "### 🧩 Encapsulamiento"
   ]
  },
  {
   "cell_type": "code",
   "execution_count": 112,
   "id": "4bbc9917",
   "metadata": {},
   "outputs": [
    {
     "name": "stdout",
     "output_type": "stream",
     "text": [
      "Saldo actual: 150\n"
     ]
    }
   ],
   "source": [
    "class Cuenta:\n",
    "    def __init__(self, saldo):\n",
    "        self.__saldo = saldo  # atributo privado\n",
    "\n",
    "    def depositar(self, cantidad):\n",
    "        if cantidad > 0:\n",
    "            self.__saldo += cantidad\n",
    "\n",
    "    def retirar(self, cantidad):\n",
    "        if 0 < cantidad <= self.__saldo:\n",
    "            self.__saldo -= cantidad\n",
    "            return True\n",
    "        return False\n",
    "\n",
    "    def mostrar_saldo(self):\n",
    "        return self.__saldo\n",
    "\n",
    "cuenta = Cuenta(100)\n",
    "cuenta.depositar(50)\n",
    "print(\"Saldo actual:\", cuenta.mostrar_saldo())"
   ]
  },
  {
   "cell_type": "code",
   "execution_count": 113,
   "id": "737ac3f5",
   "metadata": {},
   "outputs": [
    {
     "name": "stdout",
     "output_type": "stream",
     "text": [
      "150\n"
     ]
    }
   ],
   "source": [
    "print(cuenta.mostrar_saldo())\n"
   ]
  },
  {
   "cell_type": "markdown",
   "id": "022247b7",
   "metadata": {},
   "source": [
    "Transformar al método por medio de decorador "
   ]
  },
  {
   "cell_type": "code",
   "execution_count": 114,
   "id": "fdaa2817",
   "metadata": {},
   "outputs": [],
   "source": [
    "class Cuenta_py:\n",
    "    def __init__(self, saldo):\n",
    "        self.__saldo = saldo  # atributo público\n",
    "        \n",
    "    @property\n",
    "    def saldo(self):\n",
    "        return self.__saldo\n",
    "    \n",
    "    @saldo.setter\n",
    "    def saldo(self, nuevo_saldo):\n",
    "        if nuevo_saldo >= 0:\n",
    "            self.__saldo += nuevo_saldo\n",
    "        else:\n",
    "            raise ValueError(\"El saldo no puede ser negativo\") \n",
    "    \n",
    "    def depositar(self, cantidad):\n",
    "        if cantidad > 0:\n",
    "            self.__saldo += cantidad\n",
    "\n",
    "             \n",
    "\n",
    " \n",
    "           \n",
    "\n",
    "   \n"
   ]
  },
  {
   "cell_type": "code",
   "execution_count": 115,
   "id": "92c7af44",
   "metadata": {},
   "outputs": [
    {
     "name": "stdout",
     "output_type": "stream",
     "text": [
      "Saldo inicial: 100\n",
      "Saldo después del depósito: 150\n"
     ]
    }
   ],
   "source": [
    "C1=Cuenta_py(100)\n",
    "print(\"Saldo inicial:\", C1.saldo)\n",
    "\n",
    "C1.depositar(50)\n",
    "print(\"Saldo después del depósito:\", C1.saldo)\n",
    "\n"
   ]
  },
  {
   "cell_type": "code",
   "execution_count": 116,
   "id": "24248284",
   "metadata": {},
   "outputs": [
    {
     "name": "stdout",
     "output_type": "stream",
     "text": [
      "Saldo después de ganarse la lotería: 10150\n"
     ]
    }
   ],
   "source": [
    "\n",
    "C1.saldo=10000\n",
    "print(\"Saldo después de ganarse la lotería:\", C1.saldo)\n"
   ]
  },
  {
   "cell_type": "markdown",
   "id": "b6628ab4",
   "metadata": {},
   "source": [
    "### 🧠 Ejercicio 1 - Estudiantes (En clase)\n",
    "Crea una clase Estudiante con atributos privados nombre y nota. Implementa métodos get_nota() y set_nota() (en forma de decoradores) que validen que la nota esté entre 0 y 10."
   ]
  },
  {
   "cell_type": "code",
   "execution_count": 117,
   "id": "a2efe56c",
   "metadata": {},
   "outputs": [],
   "source": [
    "class Estudiante:\n",
    "    def __init__(self,nombre,nota):\n",
    "        self.__nombre=nombre\n",
    "        self.__nota=nota\n",
    "    \n",
    "    @property\n",
    "    def nombre(self):\n",
    "        return self.__nombre\n",
    "    @property\n",
    "    def nota(self):\n",
    "        return self.__nota\n",
    "   \n",
    "    @nota.setter\n",
    "    def nota(self,nueva_nota):\n",
    "        if nueva_nota>=0 and nueva_nota<=10:\n",
    "            self.__nota=nueva_nota\n",
    "        else:\n",
    "            raise ValueError(\"La nota debe estar entre 0 y 10\")\n",
    "\n"
   ]
  },
  {
   "cell_type": "code",
   "execution_count": 118,
   "id": "176cf977",
   "metadata": {},
   "outputs": [
    {
     "name": "stdout",
     "output_type": "stream",
     "text": [
      "Nombre: Juan\n",
      "Nota: 8.5\n"
     ]
    }
   ],
   "source": [
    "Estudiante_1=Estudiante(\"Juan\", 8.5)\n",
    "\n",
    "print(\"Nombre:\", Estudiante_1.nombre)\n",
    "print(\"Nota:\", Estudiante_1.nota) #Todo: Propiedad no necesita los parentesis"
   ]
  },
  {
   "cell_type": "code",
   "execution_count": 119,
   "id": "67d299d9",
   "metadata": {},
   "outputs": [
    {
     "name": "stdout",
     "output_type": "stream",
     "text": [
      "Nueva nota: 10\n"
     ]
    }
   ],
   "source": [
    "Estudiante_1.nota=10\n",
    "print(\"Nueva nota:\", Estudiante_1.nota) #Todo: Propiedad no necesita los parentesis"
   ]
  },
  {
   "cell_type": "markdown",
   "id": "593e7954",
   "metadata": {},
   "source": [
    "### 👨‍👩‍👧‍👦 Herencia"
   ]
  },
  {
   "cell_type": "markdown",
   "id": "f64301ae",
   "metadata": {},
   "source": [
    "### 🔸 Objetivo:\n",
    "Aplicar herencia para extender una clase base (Contact) y crear contactos especiales como Supplier."
   ]
  },
  {
   "cell_type": "markdown",
   "id": "b2082347",
   "metadata": {},
   "source": [
    "### 1️⃣ Clase base: Contact"
   ]
  },
  {
   "cell_type": "code",
   "execution_count": 120,
   "id": "ecf0e793",
   "metadata": {},
   "outputs": [],
   "source": [
    "from typing import List\n",
    "\n",
    "class Contact(object): #Por defecto siempre se llama a object\n",
    "    all_contacts: List[\"Contact\"] = []\n",
    "\n",
    "    def __init__(self, name: str, email: str) -> None:\n",
    "        self.name = name\n",
    "        self.email = email\n",
    "        Contact.all_contacts.append(self)\n",
    "\n",
    "    def __repr__(self) -> str: ## Presentar de manera legible el objeto\n",
    "        return f\"{self.__class__.__name__}({self.name!r}, {self.email!r})\""
   ]
  },
  {
   "cell_type": "code",
   "execution_count": 121,
   "id": "52fd3c94",
   "metadata": {},
   "outputs": [
    {
     "name": "stdout",
     "output_type": "stream",
     "text": [
      "Contact('Andrés', 'jose@gmail.com')\n"
     ]
    }
   ],
   "source": [
    "Cont_1=Contact(\"Andrés\",\"jose@gmail.com\")\n",
    "\n",
    "print(Cont_1)"
   ]
  },
  {
   "cell_type": "markdown",
   "id": "22746c4b",
   "metadata": {},
   "source": [
    "✅ Esta clase guarda automáticamente cada contacto creado en la lista all_contacts."
   ]
  },
  {
   "cell_type": "markdown",
   "id": "86f20e11",
   "metadata": {},
   "source": [
    "### 2️⃣ Uso de la clase base"
   ]
  },
  {
   "cell_type": "code",
   "execution_count": 122,
   "id": "c736e8e1",
   "metadata": {},
   "outputs": [
    {
     "name": "stdout",
     "output_type": "stream",
     "text": [
      "Lista de contactos:\n",
      "Contact('Andrés', 'jose@gmail.com')\n",
      "<class '__main__.Contact'>\n",
      "Contact('Jaime', 'jose@example.com')\n",
      "<class '__main__.Contact'>\n",
      "Contact('Ana', 'ana@example.com')\n",
      "<class '__main__.Contact'>\n"
     ]
    }
   ],
   "source": [
    "contact1 = Contact(\"Jaime\", \"jose@example.com\")\n",
    "contact2 = Contact(\"Ana\", \"ana@example.com\")\n",
    "\n",
    "print(\"Lista de contactos:\")\n",
    "for c in Contact.all_contacts:\n",
    "    print(c)\n",
    "    print(type(c)) # Muestra el tipo de objeto, es decir imprimos el objeto, como tiene el método __repr__ se imprime\n",
    "    ##de forma legible\n",
    "    "
   ]
  },
  {
   "cell_type": "markdown",
   "id": "5f148637",
   "metadata": {},
   "source": [
    "### 3️⃣ Subclase: Supplier"
   ]
  },
  {
   "cell_type": "markdown",
   "id": "80889a67",
   "metadata": {},
   "source": [
    "Ahora vamos a heredar de Contact para crear una subclase que representa a un proveedor y añade un nuevo método."
   ]
  },
  {
   "cell_type": "code",
   "execution_count": 123,
   "id": "eaba6e88",
   "metadata": {},
   "outputs": [],
   "source": [
    "class Supplier(Contact):\n",
    "    def order(self, pedido: str) -> str:\n",
    "        return f\"Orden enviada a {self.name} ({self.email}): {pedido}\""
   ]
  },
  {
   "cell_type": "code",
   "execution_count": 124,
   "id": "5148883e",
   "metadata": {},
   "outputs": [
    {
     "name": "stdout",
     "output_type": "stream",
     "text": [
      "Supplier('Proveedor XYZ', 'ventas@xyz.com')\n",
      "Orden enviada a Proveedor XYZ (ventas@xyz.com): 50 unidades de sensor AI-Vision\n"
     ]
    }
   ],
   "source": [
    "supplier1 = Supplier(\"Proveedor XYZ\", \"ventas@xyz.com\")\n",
    "\n",
    "print(supplier1)\n",
    "print(supplier1.order(\"50 unidades de sensor AI-Vision\"))\n",
    "\n"
   ]
  },
  {
   "cell_type": "code",
   "execution_count": 125,
   "id": "6e3f380a",
   "metadata": {},
   "outputs": [],
   "source": [
    "class Supplier_1(Contact):\n",
    "    def __init__(self,name: str,email:str, tel) :\n",
    "        super().__init__(name,email)\n",
    "        self.__tel=tel\n",
    "    def order(self, pedido: str) -> str:\n",
    "        return f\"Orden enviada a {self.name} ({self.email}): {pedido}, Al teléfono: {self.__tel}\""
   ]
  },
  {
   "cell_type": "code",
   "execution_count": 126,
   "id": "6fad2835",
   "metadata": {},
   "outputs": [
    {
     "name": "stdout",
     "output_type": "stream",
     "text": [
      "Orden enviada a ABC (ABC@ABC): 50 unidades de sensor AI-Vision, Al teléfono: 123456789\n"
     ]
    }
   ],
   "source": [
    "Proveedor_1=Supplier_1(\"ABC\",\"ABC@ABC\",\"123456789\")\n",
    "print(Proveedor_1.order(\"50 unidades de sensor AI-Vision\"))"
   ]
  },
  {
   "cell_type": "markdown",
   "id": "ba3cd3b4",
   "metadata": {},
   "source": [
    "### Ejercicio "
   ]
  },
  {
   "cell_type": "markdown",
   "id": "876dc016",
   "metadata": {},
   "source": [
    "### Instrucciones:\n",
    "\n",
    "- Crea una nueva clase llamada ClienteFrecuente que herede de Contact.\n",
    "\n",
    "- Esta clase debe tener un atributo adicional llamado puntos que se inicialice en 0.\n",
    "\n",
    "- Implementa un método sumar_puntos(cantidad) que aumente el valor de puntos.\n",
    "\n",
    "- Implementa un __repr__() que también muestre los puntos."
   ]
  },
  {
   "cell_type": "code",
   "execution_count": 127,
   "id": "6ce91541",
   "metadata": {},
   "outputs": [],
   "source": [
    "class ClienteFrecuente(Contact):\n",
    "    def __init__(self, name: str, email: str, puntos: float=0) -> None:\n",
    "        super().__init__(name, email)\n",
    "        self.punto = puntos\n",
    "        \n",
    "    def sumar_puntos(self,mas_puntos):\n",
    "        self.punto += mas_puntos\n",
    "        \n",
    "    def __repr__(self):\n",
    "        return super().__repr__() + f\", {self.punto!r})\" # Llamamos al método __repr__ de la clase padre y le sumamos el nuevo atributo"
   ]
  },
  {
   "cell_type": "code",
   "execution_count": 128,
   "id": "126599d7",
   "metadata": {},
   "outputs": [],
   "source": [
    "    # def __repr__(self) -> str: ## Presentar de manera legible el objeto\n",
    "    #     return f\"{self.__class__.__name__}({self.name!r}, {self.email!r})\""
   ]
  },
  {
   "cell_type": "code",
   "execution_count": 129,
   "id": "16f93638",
   "metadata": {},
   "outputs": [
    {
     "name": "stdout",
     "output_type": "stream",
     "text": [
      "ClienteFrecuente('Juan', 'Juan@Juan'), 0)\n"
     ]
    }
   ],
   "source": [
    "Cliente_F1=ClienteFrecuente(\"Juan\",\"Juan@Juan\")\n",
    "print(Cliente_F1)\n"
   ]
  },
  {
   "cell_type": "code",
   "execution_count": 130,
   "id": "37e64fe1",
   "metadata": {},
   "outputs": [
    {
     "name": "stdout",
     "output_type": "stream",
     "text": [
      "ClienteFrecuente('Juan', 'Juan@Juan'), 100)\n"
     ]
    }
   ],
   "source": [
    "Cliente_F1.sumar_puntos(100)\n",
    "print(Cliente_F1) # Muestra el nuevo atributo"
   ]
  },
  {
   "cell_type": "code",
   "execution_count": 131,
   "id": "795d30a0",
   "metadata": {},
   "outputs": [
    {
     "name": "stdout",
     "output_type": "stream",
     "text": [
      "[Contact('Andrés', 'jose@gmail.com'), Contact('Jaime', 'jose@example.com'), Contact('Ana', 'ana@example.com'), Supplier('Proveedor XYZ', 'ventas@xyz.com'), Supplier_1('ABC', 'ABC@ABC'), ClienteFrecuente('Juan', 'Juan@Juan'), 100)]\n"
     ]
    }
   ],
   "source": [
    "print(Contact.all_contacts)"
   ]
  },
  {
   "cell_type": "markdown",
   "id": "3266ca48",
   "metadata": {},
   "source": [
    "### 🧪  Ejercicio práctico: super() y Overriding en clases heredadas"
   ]
  },
  {
   "cell_type": "markdown",
   "id": "0eb265ce",
   "metadata": {},
   "source": [
    "### 1️⃣ ❌ Clase hija sin usar super() (mala práctica)"
   ]
  },
  {
   "cell_type": "markdown",
   "id": "9b4f77e1",
   "metadata": {},
   "source": [
    "### 🔴 Problemas detectados:\n",
    "\n",
    "- Código duplicado (self.name, self.email)\n",
    "\n",
    "- El objeto no está en Contact.all_contacts\n",
    "\n",
    "- No se aprovechan mejoras en Contact"
   ]
  },
  {
   "cell_type": "markdown",
   "id": "df9ee7f9",
   "metadata": {},
   "source": [
    "### 2️⃣ ✅ Clase hija con super() (buena práctica)"
   ]
  },
  {
   "cell_type": "code",
   "execution_count": 132,
   "id": "7cf461b5",
   "metadata": {},
   "outputs": [
    {
     "name": "stdout",
     "output_type": "stream",
     "text": [
      "Friend('Carlos', 'carlos@example.com', '0988888888')\n",
      "Contactos globales: [Contact('Andrés', 'jose@gmail.com'), Contact('Jaime', 'jose@example.com'), Contact('Ana', 'ana@example.com'), Supplier('Proveedor XYZ', 'ventas@xyz.com'), Supplier_1('ABC', 'ABC@ABC'), ClienteFrecuente('Juan', 'Juan@Juan'), 100), Friend('Carlos', 'carlos@example.com', '0988888888')]\n"
     ]
    }
   ],
   "source": [
    "class Friend(Contact):\n",
    "    def __init__(self, name: str, email: str, phone: str) -> None:\n",
    "        super().__init__(name, email)  # Llama al constructor de Contact\n",
    "        self.phone = phone\n",
    "\n",
    "    def __repr__(self) -> str:  #Todo: Se ejecuta un overriding\n",
    "        return (\n",
    "            f\"{self.__class__.__name__}(\"\n",
    "            f\"{self.name!r}, {self.email!r}, {self.phone!r})\"\n",
    "        )\n",
    "\n",
    "f2 = Friend(\"Carlos\", \"carlos@example.com\", \"0988888888\")\n",
    "print(f2)\n",
    "print(\"Contactos globales:\", Contact.all_contacts)"
   ]
  },
  {
   "cell_type": "markdown",
   "id": "c85b9414",
   "metadata": {},
   "source": [
    "### 🧠 Actividad para el estudiante"
   ]
  },
  {
   "cell_type": "markdown",
   "id": "52a7805e",
   "metadata": {},
   "source": [
    "1. Crea una subclase BestFriend que herede de Friend. Añade un atributo birthday.\n",
    "2. Asegúrate de llamar a super() correctamente y sobrescribe __repr__() para incluir todos los datos."
   ]
  },
  {
   "cell_type": "code",
   "execution_count": 133,
   "id": "6ac7b171",
   "metadata": {},
   "outputs": [],
   "source": [
    "class BestFriend(Friend):\n",
    "    def __init__(self, name: str, email: str, phone: str, birthday: str) -> None:\n",
    "        super().__init__(name, email, phone)  # Llama al constructor de Friend\n",
    "        self.birthday = birthday\n",
    "    def __repr__(self) -> str:  #Todo: Se ejecuta un overriding\n",
    "          return super().__repr__() + f\", {self.birthday!r})\" "
   ]
  },
  {
   "cell_type": "code",
   "execution_count": 134,
   "id": "57746431",
   "metadata": {},
   "outputs": [
    {
     "name": "stdout",
     "output_type": "stream",
     "text": [
      "BestFriend('Pedro', 'Pedro@Pedro', '0988888888'), '01/01/2000')\n"
     ]
    }
   ],
   "source": [
    "BFF_1=BestFriend(\"Pedro\",\"Pedro@Pedro\",\"0988888888\",\"01/01/2000\")\n",
    "\n",
    "print(BFF_1)"
   ]
  },
  {
   "cell_type": "markdown",
   "id": "6eeee9ca",
   "metadata": {},
   "source": [
    "### Herencia Múltiple con Mixins y Composición"
   ]
  },
  {
   "cell_type": "markdown",
   "id": "9f20c139",
   "metadata": {},
   "source": [
    "Mixin MailSender"
   ]
  },
  {
   "cell_type": "markdown",
   "id": "487e6ddc",
   "metadata": {},
   "source": [
    "Este mixin aporta un método para enviar correos electrónicos. No tiene constructor propio porque depende de que la clase donde se mezcle tenga un atributo email."
   ]
  },
  {
   "cell_type": "code",
   "execution_count": 135,
   "id": "5ed3d517",
   "metadata": {},
   "outputs": [],
   "source": [
    "from typing import Protocol\n",
    "\n",
    "class Emailable(Protocol):\n",
    "    email:str\n",
    "\n",
    "class MailSender(Emailable):\n",
    "    def send_mail(self, message: str) -> None:\n",
    "        print(f\"📤 Sending mail to {self.email}: {message}\")"
   ]
  },
  {
   "cell_type": "markdown",
   "id": "5454cda4",
   "metadata": {},
   "source": [
    "### Herencia múltiple: EmailableContact"
   ]
  },
  {
   "cell_type": "markdown",
   "id": "59fbefa4",
   "metadata": {},
   "source": [
    "Aquí combinamos Contact y MailSender."
   ]
  },
  {
   "cell_type": "code",
   "execution_count": 136,
   "id": "af61357b",
   "metadata": {},
   "outputs": [
    {
     "name": "stdout",
     "output_type": "stream",
     "text": [
      "📤 Sending mail to johnb@example.com: ¡Hola desde Python OOP!\n",
      "[Contact('Andrés', 'jose@gmail.com'), Contact('Jaime', 'jose@example.com'), Contact('Ana', 'ana@example.com'), Supplier('Proveedor XYZ', 'ventas@xyz.com'), Supplier_1('ABC', 'ABC@ABC'), ClienteFrecuente('Juan', 'Juan@Juan'), 100), Friend('Carlos', 'carlos@example.com', '0988888888'), BestFriend('Pedro', 'Pedro@Pedro', '0988888888'), '01/01/2000'), EmailableContact('John B', 'johnb@example.com')]\n"
     ]
    }
   ],
   "source": [
    "class EmailableContact(Contact, MailSender):\n",
    "    pass\n",
    "\n",
    "\n",
    "# Prueba del comportamiento combinado\n",
    "e = EmailableContact(\"John B\", \"johnb@example.com\")\n",
    "e.send_mail(\"¡Hola desde Python OOP!\")\n",
    "print(Contact.all_contacts)\n",
    "\n"
   ]
  },
  {
   "cell_type": "code",
   "execution_count": 137,
   "id": "500117bb",
   "metadata": {},
   "outputs": [],
   "source": [
    "class BestFriend(Friend, MailSender):\n",
    "    def __init__(self, name: str, email: str, phone: str, birthday: str) -> None:\n",
    "        super().__init__(name, email, phone)  # Llama al constructor de Friend\n",
    "        self.birthday = birthday\n",
    "    def __repr__(self) -> str:  #Todo: Se ejecuta un overriding\n",
    "          return super().__repr__() + f\", {self.birthday!r})\" "
   ]
  },
  {
   "cell_type": "code",
   "execution_count": 138,
   "id": "1ccd2eff",
   "metadata": {},
   "outputs": [
    {
     "name": "stdout",
     "output_type": "stream",
     "text": [
      "📤 Sending mail to Pedro@Pedro: ¡Hola desde Python OOP!\n"
     ]
    }
   ],
   "source": [
    "BFF_1_email=BestFriend(\"Pedro\",\"Pedro@Pedro\",\"0988888888\",\"01/01/2000\")\n",
    "\n",
    "BFF_1_email.send_mail(\"¡Hola desde Python OOP!\")"
   ]
  },
  {
   "cell_type": "code",
   "execution_count": 139,
   "id": "62036b72",
   "metadata": {},
   "outputs": [
    {
     "name": "stdout",
     "output_type": "stream",
     "text": [
      "[Contact('Andrés', 'jose@gmail.com'), Contact('Jaime', 'jose@example.com'), Contact('Ana', 'ana@example.com'), Supplier('Proveedor XYZ', 'ventas@xyz.com'), Supplier_1('ABC', 'ABC@ABC'), ClienteFrecuente('Juan', 'Juan@Juan'), 100), Friend('Carlos', 'carlos@example.com', '0988888888'), BestFriend('Pedro', 'Pedro@Pedro', '0988888888'), '01/01/2000'), EmailableContact('John B', 'johnb@example.com'), BestFriend('Pedro', 'Pedro@Pedro', '0988888888'), '01/01/2000')]\n"
     ]
    }
   ],
   "source": [
    "\n",
    "print(Contact.all_contacts)\n",
    "\n"
   ]
  },
  {
   "cell_type": "markdown",
   "id": "80efcd9c",
   "metadata": {},
   "source": [
    "### 💡 Explicación para clase\n",
    "- MailSender es un mixin: no debe usarse solo, sino junto a una clase que tenga email\n",
    "- Usamos herencia múltiple para combinar comportamientos\n",
    "- La clase EmailableContact no necesita definir __init__ ni send_mail porque hereda ambos"
   ]
  },
  {
   "cell_type": "markdown",
   "id": "21684515",
   "metadata": {},
   "source": [
    "Crea un mixin WhatsAppSender que permita enviar un mensaje de WhatsApp usando el número de teléfono (self.phone).\n",
    "Crea una clase WhatsAppFriend(Contact, WhatsAppSender) y úsala para enviar un mensaje."
   ]
  },
  {
   "cell_type": "code",
   "execution_count": 148,
   "id": "39597881",
   "metadata": {},
   "outputs": [],
   "source": [
    "class Whatsappable(Protocol):\n",
    "    phone:str\n",
    "\n",
    "class WhatsAppSender(Whatsappable):\n",
    "    def send_wpp(self, message: str) -> None:\n",
    "        print(f\"Sending Whatsapp to {self.phone}: {message}\")"
   ]
  },
  {
   "cell_type": "code",
   "execution_count": 149,
   "id": "fdcaeca4",
   "metadata": {},
   "outputs": [],
   "source": [
    "class WhatsAppFriend(Friend,WhatsAppSender):\n",
    "    def __init__(self, name: str, email: str, phone: str) -> None:\n",
    "        super().__init__(name, email, phone)  # Llama al constructor de Friend\n",
    "\n",
    "    def __repr__(self) -> str:  #Todo: Se ejecuta un overriding\n",
    "        return f\"{self.__class__.__name__}({self.name!r}, {self.email!r}, {self.phone!r})\""
   ]
  },
  {
   "cell_type": "code",
   "execution_count": 151,
   "id": "a0c452ee",
   "metadata": {},
   "outputs": [
    {
     "name": "stdout",
     "output_type": "stream",
     "text": [
      "WhatsAppFriend('Fabian', 'Fabina@gmail', '0988888888')\n"
     ]
    }
   ],
   "source": [
    "Wpp_1=WhatsAppFriend(\"Fabian\",\"Fabina@gmail\",\"0988888888\")\n",
    "print(Wpp_1)"
   ]
  },
  {
   "cell_type": "code",
   "execution_count": 152,
   "id": "adf24663",
   "metadata": {},
   "outputs": [
    {
     "name": "stdout",
     "output_type": "stream",
     "text": [
      "Sending Whatsapp to 0988888888: Hola desde Python OOP a Whatsapp\n"
     ]
    }
   ],
   "source": [
    "Wpp_1.send_wpp(\"Hola desde Python OOP a Whatsapp\")"
   ]
  },
  {
   "cell_type": "markdown",
   "id": "a0bcb5bb",
   "metadata": {},
   "source": [
    "### Composición: diseño alternativo con AddressHolder"
   ]
  },
  {
   "cell_type": "code",
   "execution_count": 140,
   "id": "31df61ca",
   "metadata": {},
   "outputs": [],
   "source": [
    "class AddressHolder:\n",
    "    def __init__(self, street, city, state, code):\n",
    "        self.street = street\n",
    "        self.city = city\n",
    "        self.state = state\n",
    "        self.code = code\n",
    "\n",
    "    def __repr__(self):\n",
    "        return f\"{self.street}, {self.city}, {self.state} {self.code}\""
   ]
  },
  {
   "cell_type": "code",
   "execution_count": 141,
   "id": "e42d506d",
   "metadata": {},
   "outputs": [],
   "source": [
    "# Usamos composición: un contacto \"tiene una\" dirección\n",
    "class Cliente():\n",
    "    def __init__(self, name, email, direccion: AddressHolder):\n",
    "        self.name = name\n",
    "        self.email = email\n",
    "        self.direccion = direccion\n",
    "\n",
    "    def __repr__(self):\n",
    "        return f\"{self.name} - {self.email} - Dirección: {self.direccion}\"\n"
   ]
  },
  {
   "cell_type": "code",
   "execution_count": 142,
   "id": "99d51c26",
   "metadata": {},
   "outputs": [
    {
     "name": "stdout",
     "output_type": "stream",
     "text": [
      "Lisa - lisa@unach.edu.ec - Dirección: Av. Siempre Viva 123, Riobamba, Chimborazo EC0601\n"
     ]
    }
   ],
   "source": [
    "direccion = AddressHolder(\"Av. Siempre Viva 123\", \"Riobamba\", \"Chimborazo\", \"EC0601\")\n",
    "cliente = Cliente(\"Lisa\", \"lisa@unach.edu.ec\", direccion)\n",
    "print(cliente)"
   ]
  },
  {
   "cell_type": "markdown",
   "id": "968d2eb5",
   "metadata": {},
   "source": [
    "1. Crea una clase Empresa con nombre, correo electrónico y dirección (AddressHolder)\n",
    "2. Implementa un método mostrar_direccion() que imprima la dirección con formato personalizado."
   ]
  },
  {
   "cell_type": "code",
   "execution_count": 2,
   "id": "10d278eb",
   "metadata": {},
   "outputs": [
    {
     "name": "stdout",
     "output_type": "stream",
     "text": [
      "Dirección de la empresa 'Tech Solutions': Heroes del 41, 01010 Gualaceo, Ecuador\n"
     ]
    }
   ],
   "source": [
    "class AddressHolder:\n",
    "    def __init__(self, calle, ciudad, codigo_postal, pais):\n",
    "        self.calle = calle\n",
    "        self.ciudad = ciudad\n",
    "        self.codigo_postal = codigo_postal\n",
    "        self.pais = pais\n",
    "\n",
    "    def formato_direccion(self):\n",
    "        return f\"{self.calle}, {self.codigo_postal} {self.ciudad}, {self.pais}\"\n",
    "\n",
    "\n",
    "class Empresa:\n",
    "    def __init__(self, nombre, correo_electronico, direccion: AddressHolder):\n",
    "        self.nombre = nombre\n",
    "        self.correo_electronico = correo_electronico\n",
    "        self.direccion = direccion\n",
    "\n",
    "    def mostrar_direccion(self):\n",
    "        print(f\"Dirección de la empresa '{self.nombre}': {self.direccion.formato_direccion()}\")\n",
    "\n",
    "\n",
    "# Ejemplo de uso:\n",
    "direccion = AddressHolder(\n",
    "    calle=\"Heroes del 41\",\n",
    "    ciudad=\"Gualaceo\",\n",
    "    codigo_postal=\"01010\",\n",
    "    pais=\"Ecuador\"\n",
    ")\n",
    "\n",
    "empresa = Empresa(\n",
    "    nombre=\"Tech Solutions\",\n",
    "    correo_electronico=\"contacto@techsolutions.com\",\n",
    "    direccion=direccion\n",
    ")\n",
    "\n",
    "empresa.mostrar_direccion()\n",
    "\n"
   ]
  },
  {
   "cell_type": "markdown",
   "id": "f8b59dcc",
   "metadata": {},
   "source": [
    "### Polimorfismo en Python "
   ]
  },
  {
   "cell_type": "markdown",
   "id": "93cc3d9b",
   "metadata": {},
   "source": [
    "📌 ¿Qué es polimorfismo?\n",
    "\n",
    "Es la capacidad de usar un mismo método (play()) en diferentes clases, y que cada clase lo ejecute a su manera, sin necesidad de saber cuál es exactamente."
   ]
  },
  {
   "cell_type": "code",
   "execution_count": 143,
   "id": "8f98dbf8",
   "metadata": {},
   "outputs": [],
   "source": [
    "from pathlib import Path\n",
    "\n",
    "# Clase base (abstracta)\n",
    "class AudioFile:\n",
    "    ext: str\n",
    "\n",
    "    def __init__(self, filepath: Path) -> None:\n",
    "        if not filepath.suffix == self.ext:\n",
    "            raise ValueError(\"Invalid file format\")\n",
    "        self.filepath = filepath\n",
    "\n",
    "# Subclases específicas\n",
    "class MP3File(AudioFile):\n",
    "    ext = \".mp3\"\n",
    "    def play(self) -> None:\n",
    "        print(f\"Reproduciendo {self.filepath} como archivo MP3\")\n",
    "\n",
    "class WavFile(AudioFile):\n",
    "    ext = \".wav\"\n",
    "    def play(self) -> None:\n",
    "        print(f\"Reproduciendo {self.filepath} como archivo WAV\")\n",
    "\n",
    "class OggFile(AudioFile):\n",
    "    ext = \".ogg\"\n",
    "    def play(self) -> None:\n",
    "        print(f\"Reproduciendo {self.filepath} como archivo OGG\")\n"
   ]
  },
  {
   "cell_type": "code",
   "execution_count": 144,
   "id": "480eaf37",
   "metadata": {},
   "outputs": [
    {
     "name": "stdout",
     "output_type": "stream",
     "text": [
      "Reproduciendo song.mp3 como archivo MP3\n",
      "Reproduciendo song.wav como archivo WAV\n",
      "Reproduciendo song.ogg como archivo OGG\n"
     ]
    }
   ],
   "source": [
    "files = [\n",
    "    MP3File(Path(\"song.mp3\")),\n",
    "    WavFile(Path(\"song.wav\")),\n",
    "    OggFile(Path(\"song.ogg\"))\n",
    "]\n",
    "\n",
    "for audio in files:\n",
    "    audio.play()"
   ]
  },
  {
   "cell_type": "markdown",
   "id": "a987ee1c",
   "metadata": {},
   "source": [
    "📌 El mismo código .play() se adapta automáticamente al tipo de archivo.\n",
    "\n",
    "🔁 Esto es polimorfismo: comportamiento distinto con la misma interfaz."
   ]
  },
  {
   "cell_type": "markdown",
   "id": "1e417eae",
   "metadata": {},
   "source": [
    "\n",
    "Crea una clase base llamada Figura que tenga un método llamado area().\n",
    "\n",
    "Luego crea tres clases que hereden de ella:\n",
    "\n",
    "- Cuadrado, que recibe el lado.\n",
    "\n",
    "- Círculo, que recibe el radio.\n",
    "\n",
    "- Triángulo, que recibe base y altura"
   ]
  },
  {
   "cell_type": "code",
   "execution_count": 3,
   "id": "08ad48a9",
   "metadata": {},
   "outputs": [
    {
     "name": "stdout",
     "output_type": "stream",
     "text": [
      "Área de Cuadrado: 16.00\n",
      "Área de Circulo: 28.27\n",
      "Área de Triangulo: 6.00\n"
     ]
    }
   ],
   "source": [
    "import math\n",
    "\n",
    "# Clase base\n",
    "class Figura:\n",
    "    def area(self):\n",
    "        raise NotImplementedError(\"Este método debe ser implementado por las subclases.\")\n",
    "\n",
    "# Subclase: Cuadrado\n",
    "class Cuadrado(Figura):\n",
    "    def __init__(self, lado):\n",
    "        self.lado = lado\n",
    "\n",
    "    def area(self):\n",
    "        return self.lado ** 2\n",
    "\n",
    "# Subclase: Círculo\n",
    "class Circulo(Figura):\n",
    "    def __init__(self, radio):\n",
    "        self.radio = radio\n",
    "\n",
    "    def area(self):\n",
    "        return math.pi * self.radio ** 2\n",
    "\n",
    "# Subclase: Triángulo\n",
    "class Triangulo(Figura):\n",
    "    def __init__(self, base, altura):\n",
    "        self.base = base\n",
    "        self.altura = altura\n",
    "\n",
    "    def area(self):\n",
    "        return 0.5 * self.base * self.altura\n",
    "\n",
    "# Ejemplo de uso:\n",
    "formas = [\n",
    "    Cuadrado(4),\n",
    "    Circulo(3),\n",
    "    Triangulo(6, 2)\n",
    "]\n",
    "\n",
    "for forma in formas:\n",
    "    print(f\"Área de {type(forma).__name__}: {forma.area():.2f}\")\n"
   ]
  },
  {
   "cell_type": "markdown",
   "id": "71dd6957",
   "metadata": {},
   "source": [
    "### Clases Abstractas con Métodos y Propiedades"
   ]
  },
  {
   "cell_type": "markdown",
   "id": "86f63b20",
   "metadata": {},
   "source": [
    "🦆 Ejercicio práctico: Duck Typing en Python"
   ]
  },
  {
   "cell_type": "code",
   "execution_count": 145,
   "id": "93ee5e3d",
   "metadata": {},
   "outputs": [
    {
     "name": "stdout",
     "output_type": "stream",
     "text": [
      "¡Cuac!\n",
      "¡Hola!\n",
      "¡Guau!\n"
     ]
    }
   ],
   "source": [
    "class Pato:\n",
    "    def hacer_sonido(self):\n",
    "        print(\"¡Cuac!\")\n",
    "\n",
    "class Persona:\n",
    "    def hacer_sonido(self):\n",
    "        print(\"¡Hola!\")\n",
    "\n",
    "class Perro:\n",
    "    def hacer_sonido(self):\n",
    "        print(\"¡Guau!\")\n",
    "\n",
    "# Función que no sabe qué tipo de objeto recibe,\n",
    "# solo espera que tenga el método hacer_sonido\n",
    "def reproducir_sonido(objeto):\n",
    "    objeto.hacer_sonido()\n",
    "\n",
    "# Probamos con distintas clases\n",
    "reproducir_sonido(Pato())     # ¡Cuac!\n",
    "reproducir_sonido(Persona())  # ¡Hola!\n",
    "reproducir_sonido(Perro())    # ¡Guau!\n"
   ]
  },
  {
   "cell_type": "markdown",
   "id": "22750b0a",
   "metadata": {},
   "source": [
    "### 📌 Escenario:\n",
    "\n",
    "Vamos a crear un reproductor multimedia donde se puedan usar plugins de terceros. Para asegurar que todos los plugins usen el mismo formato (tengan el mismo “contrato”), definimos una clase base abstracta llamada MediaLoader."
   ]
  },
  {
   "cell_type": "markdown",
   "id": "5aac3369",
   "metadata": {},
   "source": [
    "🧪 Paso 1: Crear la clase abstracta con abc.ABC"
   ]
  },
  {
   "cell_type": "code",
   "execution_count": 146,
   "id": "4b78bf7d",
   "metadata": {},
   "outputs": [],
   "source": [
    "from abc import ABC, abstractmethod\n",
    "\n",
    "class MediaLoader(ABC):\n",
    "\n",
    "    @abstractmethod\n",
    "    def play(self) -> None:\n",
    "        \"\"\"Debe reproducir el archivo\"\"\"\n",
    "        ...\n",
    "\n",
    "    @property\n",
    "    @abstractmethod\n",
    "    def ext(self) -> str:\n",
    "        \"\"\"Debe retornar la extensión de archivo (ej. '.mp3')\"\"\"\n",
    "        ..."
   ]
  },
  {
   "cell_type": "markdown",
   "id": "5ca5ff74",
   "metadata": {},
   "source": [
    "📌 Aquí estamos obligando a que todas las subclases implementen:\n",
    "\n",
    "- Un método play()\n",
    "\n",
    "- Una propiedad ext (se puede implementar como atributo o como @property)"
   ]
  },
  {
   "cell_type": "markdown",
   "id": "a1270884",
   "metadata": {},
   "source": [
    "🧪 Paso 2: Intentar crear una subclase sin implementar nada (¡error!)"
   ]
  },
  {
   "cell_type": "code",
   "execution_count": 147,
   "id": "9550ecb9",
   "metadata": {},
   "outputs": [
    {
     "ename": "TypeError",
     "evalue": "Can't instantiate abstract class Wav without an implementation for abstract methods 'ext', 'play'",
     "output_type": "error",
     "traceback": [
      "\u001b[1;31m---------------------------------------------------------------------------\u001b[0m",
      "\u001b[1;31mTypeError\u001b[0m                                 Traceback (most recent call last)",
      "Cell \u001b[1;32mIn[147], line 4\u001b[0m\n\u001b[0;32m      1\u001b[0m \u001b[38;5;28;01mclass\u001b[39;00m \u001b[38;5;21;01mWav\u001b[39;00m(MediaLoader):\n\u001b[0;32m      2\u001b[0m     \u001b[38;5;28;01mpass\u001b[39;00m\n\u001b[1;32m----> 4\u001b[0m wav \u001b[38;5;241m=\u001b[39m \u001b[43mWav\u001b[49m\u001b[43m(\u001b[49m\u001b[43m)\u001b[49m  \u001b[38;5;66;03m# ❌ Esto lanza un error\u001b[39;00m\n",
      "\u001b[1;31mTypeError\u001b[0m: Can't instantiate abstract class Wav without an implementation for abstract methods 'ext', 'play'"
     ]
    }
   ],
   "source": [
    "class Wav(MediaLoader):\n",
    "    pass\n",
    "\n",
    "wav = Wav()  # ❌ Esto lanza un error\n"
   ]
  },
  {
   "cell_type": "markdown",
   "id": "6f283a6c",
   "metadata": {},
   "source": [
    "🧪 Paso 3: Crear una subclase concreta correctamente"
   ]
  },
  {
   "cell_type": "code",
   "execution_count": null,
   "id": "94c6fc76",
   "metadata": {},
   "outputs": [],
   "source": [
    "class MP3(MediaLoader):\n",
    "\n",
    "    @property\n",
    "    def ext(self) -> str:\n",
    "        return \".mp3\"\n",
    "\n",
    "    def play(self) -> None:\n",
    "        print(\"Reproduciendo archivo MP3\")\n"
   ]
  },
  {
   "cell_type": "code",
   "execution_count": null,
   "id": "68ab1a97",
   "metadata": {},
   "outputs": [],
   "source": [
    "archivo = MP3()\n",
    "print(\"Extensión:\", archivo.ext)\n",
    "archivo.play()\n"
   ]
  },
  {
   "cell_type": "markdown",
   "id": "37362082",
   "metadata": {},
   "source": [
    "1. Crear otra subclase, por ejemplo Ogg, que implemente ext y play().\n",
    "\n",
    "2. Crear una lista con varias clases concretas (MP3, Ogg) y recorrerla llamando play() de forma polimórfica."
   ]
  },
  {
   "cell_type": "code",
   "execution_count": 4,
   "id": "1acac5ee",
   "metadata": {},
   "outputs": [
    {
     "name": "stdout",
     "output_type": "stream",
     "text": [
      "Reproduciendo archivo de audio en formato .mp3\n",
      "Reproduciendo archivo de audio en formato .ogg\n",
      "Reproduciendo archivo de audio en formato .mp3\n",
      "Reproduciendo archivo de audio en formato .ogg\n"
     ]
    }
   ],
   "source": [
    "# Clase base\n",
    "class Audio:\n",
    "    def ext(self):\n",
    "        raise NotImplementedError(\"Debe implementar el método ext().\")\n",
    "\n",
    "    def play(self):\n",
    "        raise NotImplementedError(\"Debe implementar el método play().\")\n",
    "\n",
    "# Subclase MP3\n",
    "class MP3(Audio):\n",
    "    def ext(self):\n",
    "        return \".mp3\"\n",
    "\n",
    "    def play(self):\n",
    "        print(f\"Reproduciendo archivo de audio en formato {self.ext()}\")\n",
    "\n",
    "# Subclase Ogg\n",
    "class Ogg(Audio):\n",
    "    def ext(self):\n",
    "        return \".ogg\"\n",
    "\n",
    "    def play(self):\n",
    "        print(f\"Reproduciendo archivo de audio en formato {self.ext()}\")\n",
    "\n",
    "# Lista de objetos de clases concretas\n",
    "playlist = [MP3(), Ogg(), MP3(), Ogg()]\n",
    "\n",
    "# Reproducción polimórfica\n",
    "for pista in playlist:\n",
    "    pista.play()\n"
   ]
  }
 ],
 "metadata": {
  "kernelspec": {
   "display_name": "Programacion_2",
   "language": "python",
   "name": "python3"
  },
  "language_info": {
   "codemirror_mode": {
    "name": "ipython",
    "version": 3
   },
   "file_extension": ".py",
   "mimetype": "text/x-python",
   "name": "python",
   "nbconvert_exporter": "python",
   "pygments_lexer": "ipython3",
   "version": "3.12.9"
  }
 },
 "nbformat": 4,
 "nbformat_minor": 5
}
