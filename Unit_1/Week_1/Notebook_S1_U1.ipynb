{
 "cells": [
  {
   "cell_type": "markdown",
   "metadata": {},
   "source": [
    "# -----------------------------------------------\n",
    "# 📘 Tema: Introducción a la POO, Clases y Objetos\n",
    "# Semana 1 - Unidad 1 - Programación II\n",
    "# -----------------------------------------------\n",
    "\n",
    "# 👋 Bienvenida y objetivos\n",
    "\n",
    "En este notebook aprenderás:\n",
    "1. Qué es la programación orientada a objetos.\n",
    "2. Cómo definir una clase en Python.\n",
    "3. Cómo crear objetos a partir de clases.\n",
    "4. Qué son los atributos y métodos.\n"
   ]
  },
  {
   "cell_type": "markdown",
   "metadata": {},
   "source": [
    "🧱 1. Conceptos básicos de POO (por completar)\n",
    "\n",
    "💬 Completa la definición de los siguientes conceptos:"
   ]
  },
  {
   "cell_type": "code",
   "execution_count": 1,
   "metadata": {},
   "outputs": [
    {
     "name": "stdout",
     "output_type": "stream",
     "text": [
      "Clase: Es una _______ que permite crear _______.\n",
      "Objeto: Es una _______ creada a partir de una _______.\n",
      "Atributo: Es una _______ que representa una propiedad del objeto.\n",
      "Método: Es una _______ que define el comportamiento del objeto.\n"
     ]
    }
   ],
   "source": [
    "conceptos = {\n",
    "    \"Clase\": \"Es una _______ que permite crear _______.\",\n",
    "    \"Objeto\": \"Es una _______ creada a partir de una _______.\",\n",
    "    \"Atributo\": \"Es una _______ que representa una propiedad del objeto.\",\n",
    "    \"Método\": \"Es una _______ que define el comportamiento del objeto.\",\n",
    "}\n",
    "for k, v in conceptos.items():\n",
    "    print(f\"{k}: {v}\")\n"
   ]
  },
  {
   "cell_type": "markdown",
   "metadata": {},
   "source": [
    "🧪 2. Primera clase en Python (ejemplo guiado)"
   ]
  },
  {
   "cell_type": "code",
   "execution_count": 3,
   "metadata": {},
   "outputs": [],
   "source": [
    "class Persona:\n",
    "    def __init__(self, nombre, edad):\n",
    "        self.nombre = nombre\n",
    "        self.edad = edad\n",
    "\n",
    "    def saludar(self):\n",
    "        print(f\"Hola, me llamo {self.nombre} y tengo {self.edad} años.\")"
   ]
  },
  {
   "cell_type": "markdown",
   "metadata": {},
   "source": [
    "### 🧱 Actividad 1:\n",
    "\n",
    "Modifica esta clase para que también almacene el género de la persona.\n",
    "\n",
    "Luego crea una persona llamada \"Ana\", de 25 años y género \"Femenino\""
   ]
  },
  {
   "cell_type": "code",
   "execution_count": 4,
   "metadata": {},
   "outputs": [
    {
     "name": "stdout",
     "output_type": "stream",
     "text": [
      "Ana\n",
      "25\n",
      "Femenino\n",
      "Hola, me llamo Ana, tengo 25 años, y mi genero es Femenino.\n"
     ]
    }
   ],
   "source": [
    "class Persona:\n",
    "    def __init__(self, nombre, edad,genero):\n",
    "        self.nombre = nombre\n",
    "        self.edad = edad\n",
    "        self.genero= genero\n",
    "\n",
    "    def saludar(self):\n",
    "        print(f\"Hola, me llamo {self.nombre}, tengo {self.edad} años, y mi genero es {self.genero}.\")\n",
    "p1 = Persona(nombre=\"Ana\", edad=25, genero=\"Femenino\")\n",
    "print(p1.nombre)\n",
    "print(p1.edad)\n",
    "print(p1.genero)\n",
    "p1.saludar()"
   ]
  }
 ],
 "metadata": {
  "kernelspec": {
   "display_name": "Programacion_2",
   "language": "python",
   "name": "python3"
  },
  "language_info": {
   "codemirror_mode": {
    "name": "ipython",
    "version": 3
   },
   "file_extension": ".py",
   "mimetype": "text/x-python",
   "name": "python",
   "nbconvert_exporter": "python",
   "pygments_lexer": "ipython3",
   "version": "3.12.9"
  }
 },
 "nbformat": 4,
 "nbformat_minor": 2
}
