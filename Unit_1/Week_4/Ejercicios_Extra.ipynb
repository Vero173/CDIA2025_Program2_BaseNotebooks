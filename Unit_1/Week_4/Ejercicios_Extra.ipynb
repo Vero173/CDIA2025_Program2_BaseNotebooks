{
 "cells": [
  {
   "cell_type": "markdown",
   "id": "766b8d7f",
   "metadata": {},
   "source": [
    "# Programación Orientada a Objetos: Pilares y Métodos de Acceso\n",
    "\n",
    "## Ejercicio Resuelto 1: Encapsulamiento"
   ]
  },
  {
   "cell_type": "markdown",
   "id": "5d34a7d5",
   "metadata": {},
   "source": [
    "Ejemplo sencillo de Clase Persona "
   ]
  },
  {
   "cell_type": "code",
   "execution_count": 1,
   "id": "c8818950",
   "metadata": {},
   "outputs": [],
   "source": [
    "class Persona:\n",
    "    def __init__(self, nombre, edad, sexo):\n",
    "        self.nombre = nombre\n",
    "        self.edad = edad\n",
    "        self.sexo = sexo\n",
    "\n",
    "    def saludar(self):\n",
    "        print(f\"Hola, mi nombre es {self.nombre} y tengo {self.edad} años.\")"
   ]
  },
  {
   "cell_type": "code",
   "execution_count": 3,
   "id": "d38d6db3",
   "metadata": {},
   "outputs": [
    {
     "name": "stdout",
     "output_type": "stream",
     "text": [
      "Hola, mi nombre es Juan y tengo 30 años.\n"
     ]
    }
   ],
   "source": [
    "P1=Persona(\"Juan\", 30, \"Masculino\")\n",
    "\n",
    "P1.saludar()"
   ]
  },
  {
   "cell_type": "markdown",
   "id": "1f420506",
   "metadata": {},
   "source": [
    "### Otro Ejemplo "
   ]
  },
  {
   "cell_type": "code",
   "execution_count": 18,
   "id": "54591088",
   "metadata": {},
   "outputs": [
    {
     "name": "stdout",
     "output_type": "stream",
     "text": [
      "Marca: Toyota, Modelo: Corolla, Puertas: 4\n"
     ]
    }
   ],
   "source": [
    "class Vehiculo:\n",
    "    def __init__(self, marca, modelo):\n",
    "        self.marca = marca\n",
    "        self.modelo = modelo\n",
    "\n",
    "    def describir(self):\n",
    "        return f\"Marca: {self.marca}, Modelo: {self.modelo}\"\n",
    "\n",
    "class Automovil(Vehiculo):\n",
    "    def __init__(self, marca, modelo, puertas):\n",
    "        super().__init__(marca, modelo)\n",
    "        self.puertas = puertas\n",
    "\n",
    "    def describir(self):\n",
    "        descripcion = super().describir()\n",
    "        return f\"{descripcion}, Puertas: {self.puertas}\"\n",
    "    \n",
    "    # Uso de la clase Automovil\n",
    "coche = Automovil(\"Toyota\", \"Corolla\", 4)\n",
    "print(coche.describir())\n"
   ]
  },
  {
   "cell_type": "markdown",
   "id": "40d0794b",
   "metadata": {},
   "source": [
    "### Encapsulamiento es proteger los atributos de una clase\n"
   ]
  },
  {
   "cell_type": "code",
   "execution_count": 8,
   "id": "dfaffb55",
   "metadata": {},
   "outputs": [],
   "source": [
    "class Persona_Privada:\n",
    "    def __init__(self, nombre, edad,sexo):\n",
    "        self.__nombre = nombre\n",
    "        self.__edad = edad\n",
    "        self.__sexo = sexo\n",
    "\n",
    "    def get_nombre(self):\n",
    "        return self.__nombre\n",
    "\n",
    "    def set_edad(self, edad):\n",
    "        if edad > 0:\n",
    "            self.__edad = edad\n",
    "        else:\n",
    "            raise ValueError(\"Edad debe ser positiva.\")\n",
    "\n",
    "    def get_edad(self):\n",
    "        return self.__edad\n",
    "    \n",
    "    def get_sexo(self):\n",
    "        return self.__sexo  \n",
    "\n"
   ]
  },
  {
   "cell_type": "code",
   "execution_count": 9,
   "id": "6cd8d1ef",
   "metadata": {},
   "outputs": [
    {
     "name": "stdout",
     "output_type": "stream",
     "text": [
      "Nombre: Ana, Edad: 30\n",
      "Edad actualizada: 31\n"
     ]
    }
   ],
   "source": [
    "# Uso de la clase Persona\n",
    "persona1 = Persona_Privada(\"Ana\", 30, \"Femenino\")\n",
    "print(f\"Nombre: {persona1.get_nombre()}, Edad: {persona1.get_edad()}\")\n",
    "persona1.set_edad(31)\n",
    "print(f\"Edad actualizada: {persona1.get_edad()}\")"
   ]
  },
  {
   "cell_type": "markdown",
   "id": "4b9181b8",
   "metadata": {},
   "source": [
    "## En python tenemos decoradores"
   ]
  },
  {
   "cell_type": "code",
   "execution_count": 13,
   "id": "2b2adf10",
   "metadata": {},
   "outputs": [],
   "source": [
    "class Persona_Privada_Python:\n",
    "    def __init__(self, nombre, edad,sexo):\n",
    "        self.__nombre = nombre\n",
    "        self.__edad = edad\n",
    "        self.__sexo = sexo\n",
    "        \n",
    "    @property\n",
    "    def nombre(self):\n",
    "        return self.__nombre\n",
    "    \n",
    "    \n",
    "    @property\n",
    "    def edad(self):\n",
    "        return self.__edad\n",
    "    \n",
    "    @property\n",
    "    def sexo(self):\n",
    "        return self.__sexo  \n",
    "    \n",
    "    @edad.setter\n",
    "    def edad(self, edad):\n",
    "        if edad > 0:\n",
    "            self.__edad = edad\n",
    "        else:\n",
    "            raise ValueError(\"Edad debe ser positiva.\")\n",
    "\n",
    "\n"
   ]
  },
  {
   "cell_type": "code",
   "execution_count": 16,
   "id": "1e542728",
   "metadata": {},
   "outputs": [
    {
     "name": "stdout",
     "output_type": "stream",
     "text": [
      "Nombre: Ana, Edad: 30\n",
      "Edad actualizada: 31\n"
     ]
    }
   ],
   "source": [
    "persona1 = Persona_Privada_Python(\"Ana\", 30, \"Femenino\")\n",
    "print(f\"Nombre: {persona1.nombre}, Edad: {persona1.edad}\")\n",
    "persona1.edad=31\n",
    "print(f\"Edad actualizada: {persona1.edad}\")"
   ]
  },
  {
   "cell_type": "markdown",
   "id": "7c1cd545",
   "metadata": {},
   "source": [
    "# Ejercicio para resolver grupalmente 1:\n",
    "- Crea una clase Producto con atributos privados nombre, precio y cantidad.\n",
    "-  Implementa getters y setters con validaciones adecuadas Y tambien en modelidad Python\n"
   ]
  },
  {
   "cell_type": "code",
   "execution_count": 4,
   "id": "98df065f",
   "metadata": {},
   "outputs": [],
   "source": [
    "\n",
    "class Producto:\n",
    "    def __init__(self, nombre, precio, cantidad):\n",
    "        self.nombre = nombre\n",
    "        self.precio = precio\n",
    "        self.cantidad = cantidad\n",
    "\n",
    "    @property\n",
    "    def nombre(self):\n",
    "        return self.__nombre\n",
    "\n",
    "    @nombre.setter\n",
    "    def nombre(self, valor):\n",
    "        if isinstance(valor, str) and valor.strip():\n",
    "            self.__nombre = valor\n",
    "        else:\n",
    "            raise ValueError(\"El nombre debe ser una cadena no vacía.\")\n",
    "\n",
    "    @property\n",
    "    def precio(self):\n",
    "        return self.__precio\n",
    "\n",
    "    @precio.setter\n",
    "    def precio(self, valor):\n",
    "        if isinstance(valor, (int, float)) and valor >= 0:\n",
    "            self.__precio = valor\n",
    "        else:\n",
    "            raise ValueError(\"El precio debe ser un número mayor o igual a cero.\")\n",
    "\n",
    "    @property\n",
    "    def cantidad(self):\n",
    "        return self.__cantidad\n",
    "\n",
    "    @cantidad.setter\n",
    "    def cantidad(self, valor):\n",
    "        if isinstance(valor, int) and valor >= 0:\n",
    "            self.__cantidad = valor\n",
    "        else:\n",
    "            raise ValueError(\"La cantidad debe ser un entero no negativo.\")\n"
   ]
  },
  {
   "cell_type": "markdown",
   "id": "a350a6f8",
   "metadata": {},
   "source": [
    "# Herencia "
   ]
  },
  {
   "cell_type": "markdown",
   "id": "c54c6a74",
   "metadata": {},
   "source": [
    "## Clase Padre  (Tambien conocida como superclase)"
   ]
  },
  {
   "cell_type": "code",
   "execution_count": 19,
   "id": "255266c4",
   "metadata": {},
   "outputs": [],
   "source": [
    "class Vehiculo:\n",
    "    def __init__(self, marca, modelo):\n",
    "        self.marca = marca\n",
    "        self.modelo = modelo\n",
    "\n",
    "    def describir(self):\n",
    "        return f\"Marca: {self.marca}, Modelo: {self.modelo}\"\n",
    "\n",
    "\n",
    "\n",
    "    "
   ]
  },
  {
   "cell_type": "code",
   "execution_count": 20,
   "id": "ffb34d0e",
   "metadata": {},
   "outputs": [],
   "source": [
    "class Automovil(Vehiculo):\n",
    "    def __init__(self, marca, modelo, puertas):\n",
    "        \n",
    "        super().__init__(marca, modelo)\n",
    "        \n",
    "        self.puertas = puertas\n",
    "\n",
    "    def describir(self):\n",
    "        descripcion = super().describir()\n",
    "        return f\"{descripcion}, Puertas: {self.puertas}\"\n",
    "    \n"
   ]
  },
  {
   "cell_type": "code",
   "execution_count": 22,
   "id": "d0e73ed9",
   "metadata": {},
   "outputs": [
    {
     "data": {
      "text/plain": [
       "'Marca: Toyota, Modelo: 3000'"
      ]
     },
     "execution_count": 22,
     "metadata": {},
     "output_type": "execute_result"
    }
   ],
   "source": [
    "v1=Vehiculo(\"Toyota\", \"3000\")\n",
    "v1.describir()"
   ]
  },
  {
   "cell_type": "code",
   "execution_count": 25,
   "id": "0b74a92a",
   "metadata": {},
   "outputs": [
    {
     "name": "stdout",
     "output_type": "stream",
     "text": [
      "Marca: Chevrolet, Modelo: Onix, Puertas: 4\n"
     ]
    }
   ],
   "source": [
    "    # Uso de la clase Automovil\n",
    "coche = Automovil(\"Chevrolet\", \"Onix\", 4)\n",
    "print(coche.describir())\n"
   ]
  },
  {
   "cell_type": "markdown",
   "id": "1e3f16ee",
   "metadata": {},
   "source": [
    "# Ejercicio para resolver grupalmente 2:\n",
    "- Crea una clase Camion que herede de Vehiculo y agrega el atributo capacidad_carga.\n",
    "- Sobreescribe el método describir."
   ]
  },
  {
   "cell_type": "code",
   "execution_count": 5,
   "id": "577de404",
   "metadata": {},
   "outputs": [
    {
     "name": "stdout",
     "output_type": "stream",
     "text": [
      "Vehículo marca Toyota, modelo Corolla.\n",
      "Camión marca Volvo, modelo FH16, con capacidad de carga de 25 toneladas.\n"
     ]
    }
   ],
   "source": [
    "class Vehiculo:\n",
    "    def __init__(self, marca, modelo):\n",
    "        self.marca = marca\n",
    "        self.modelo = modelo\n",
    "\n",
    "    def describir(self):\n",
    "        return f\"Vehículo marca {self.marca}, modelo {self.modelo}.\"\n",
    "class Camion(Vehiculo):\n",
    "    def __init__(self, marca, modelo, capacidad_carga):\n",
    "        super().__init__(marca, modelo)\n",
    "        self.capacidad_carga = capacidad_carga  # en toneladas, por ejemplo\n",
    "\n",
    "    def describir(self):\n",
    "        return f\"Camión marca {self.marca}, modelo {self.modelo}, con capacidad de carga de {self.capacidad_carga} toneladas.\"\n",
    "vehiculo = Vehiculo(\"Toyota\", \"Corolla\")\n",
    "camion = Camion(\"Volvo\", \"FH16\", 25)\n",
    "\n",
    "print(vehiculo.describir())\n",
    "# → Vehículo marca Toyota, modelo Corolla.\n",
    "\n",
    "print(camion.describir())\n",
    "# → Camión marca Volvo, modelo FH16, con capacidad de carga de 25 toneladas.\n"
   ]
  },
  {
   "cell_type": "markdown",
   "id": "19799f3e",
   "metadata": {},
   "source": [
    "# Ejercicio Resuelto 3: Polimorfismo"
   ]
  },
  {
   "cell_type": "markdown",
   "id": "f715e008",
   "metadata": {},
   "source": [
    "Polimorfismo consiste en el cambio a partir de las mismas interfaces, es decir diferentes funcionalidades"
   ]
  },
  {
   "cell_type": "code",
   "execution_count": 26,
   "id": "f7d03596",
   "metadata": {},
   "outputs": [
    {
     "name": "stdout",
     "output_type": "stream",
     "text": [
      "Guau!\n",
      "Miau!\n"
     ]
    }
   ],
   "source": [
    "class Animal:\n",
    "    def hablar(self):\n",
    "        pass\n",
    "\n",
    "class Perro(Animal):\n",
    "    def hablar(self):\n",
    "        return \"Guau!\"\n",
    "\n",
    "class Gato(Animal):\n",
    "    def hablar(self):\n",
    "        return \"Miau!\"\n",
    "\n",
    "animales = [Perro(), Gato()]\n",
    "\n",
    "for animal in animales:\n",
    "    print(animal.hablar())"
   ]
  },
  {
   "cell_type": "markdown",
   "id": "28148cb7",
   "metadata": {},
   "source": [
    "# Ejercicio para resolver grupalmente 3:\n",
    "- Define dos clases adicionales (Ave y Vaca) que hereden de Animal.\n",
    "- Implementa el método hablar de manera adecuada para cada animal."
   ]
  },
  {
   "cell_type": "code",
   "execution_count": 7,
   "id": "0c1422eb",
   "metadata": {},
   "outputs": [
    {
     "name": "stdout",
     "output_type": "stream",
     "text": [
      "Canario dice: Pío pío\n",
      "Lola dice: Muuu\n",
      "Gorrión dice: Pío pío\n",
      "Pancha dice: Muuu\n"
     ]
    }
   ],
   "source": [
    "class Animal:\n",
    "    def __init__(self, nombre):\n",
    "        self.nombre = nombre\n",
    "\n",
    "    def hablar(self):\n",
    "        raise NotImplementedError(\"Este método debe ser implementado por las subclases.\")\n",
    "\n",
    "class Ave(Animal):\n",
    "    def hablar(self):\n",
    "        return f\"{self.nombre} dice: Pío pío\"\n",
    "\n",
    "class Vaca(Animal):\n",
    "    def hablar(self):\n",
    "        return f\"{self.nombre} dice: Muuu\"\n",
    "\n",
    "# Lista de animales\n",
    "animales = [\n",
    "    Ave(\"Canario\"),\n",
    "    Vaca(\"Lola\"),\n",
    "    Ave(\"Gorrión\"),\n",
    "    Vaca(\"Pancha\")\n",
    "]\n",
    "\n",
    "# Iterar sobre los animales y llamar al método hablar\n",
    "for animal in animales:\n",
    "    print(animal.hablar())\n",
    "\n"
   ]
  },
  {
   "cell_type": "markdown",
   "id": "f5fd9c24",
   "metadata": {},
   "source": [
    "# Ejercicio Resuelto 4: Abstracción"
   ]
  },
  {
   "cell_type": "code",
   "execution_count": null,
   "id": "d8c2fd47",
   "metadata": {},
   "outputs": [],
   "source": [
    "from abc import ABC, abstractmethod\n",
    "\n",
    "class Figura(ABC):\n",
    "    @abstractmethod\n",
    "    def area(self):\n",
    "        pass\n",
    "\n",
    "class Circulo(Figura):\n",
    "    def __init__(self, radio):\n",
    "        self.radio = radio\n",
    "\n",
    "    def area(self):\n",
    "        return 3.1416 * (self.radio ** 2)\n",
    "\n",
    "class Cuadrado(Figura):\n",
    "    def __init__(self, lado):\n",
    "        self.lado = lado\n",
    "\n",
    "    def area(self):\n",
    "        return self.lado ** 2\n",
    "\n",
    "# Uso de clases abstractas\n",
    "circulo = Circulo(5)\n",
    "cuadrado = Cuadrado(4)\n",
    "print(f\"Área del círculo: {circulo.area()}\")\n",
    "print(f\"Área del cuadrado: {cuadrado.area()}\")\n"
   ]
  },
  {
   "cell_type": "markdown",
   "id": "cd891575",
   "metadata": {},
   "source": [
    "\n",
    "# Ejercicio para resolver grupalmente 4:\n",
    "- Define una clase adicional Triangulo que herede de Figura.\n",
    "- Implementa el método area adecuadamente."
   ]
  },
  {
   "cell_type": "code",
   "execution_count": 8,
   "id": "9d3a857b",
   "metadata": {},
   "outputs": [
    {
     "name": "stdout",
     "output_type": "stream",
     "text": [
      "Área del triángulo: 12.0\n"
     ]
    }
   ],
   "source": [
    "class Figura:\n",
    "    def area(self):\n",
    "        raise NotImplementedError(\"Este método debe ser implementado por las subclases.\")\n",
    "\n",
    "\n",
    "class Triangulo(Figura):\n",
    "    def __init__(self, base, altura):\n",
    "        self.base = base\n",
    "        self.altura = altura\n",
    "\n",
    "    def area(self):\n",
    "        return 0.5 * self.base * self.altura\n",
    "\n",
    "figura = Triangulo(base=6, altura=4)\n",
    "print(f\"Área del triángulo: {figura.area()}\")\n",
    "\n"
   ]
  }
 ],
 "metadata": {
  "kernelspec": {
   "display_name": "Programacion_2",
   "language": "python",
   "name": "python3"
  },
  "language_info": {
   "codemirror_mode": {
    "name": "ipython",
    "version": 3
   },
   "file_extension": ".py",
   "mimetype": "text/x-python",
   "name": "python",
   "nbconvert_exporter": "python",
   "pygments_lexer": "ipython3",
   "version": "3.12.9"
  }
 },
 "nbformat": 4,
 "nbformat_minor": 5
}
