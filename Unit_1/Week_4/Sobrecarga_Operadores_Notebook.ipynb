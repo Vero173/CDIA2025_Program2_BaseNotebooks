{
 "cells": [
  {
   "cell_type": "markdown",
   "id": "f10cb3c5",
   "metadata": {},
   "source": [
    "# Sobrecarga de Operadores en Python\n",
    "Este notebook acompaña la presentación sobre Sobrecarga de Operadores. Contiene ejemplos prácticos resueltos y ejercicios propuestos para reforzar los conceptos clave."
   ]
  },
  {
   "cell_type": "markdown",
   "id": "d4ea84fc",
   "metadata": {},
   "source": [
    "## ¿Qué es la Sobrecarga de Operadores?\n",
    "La sobrecarga de operadores permite personalizar cómo operan los símbolos como `+`, `-`, `==` en objetos definidos por el usuario, mediante la implementación de métodos especiales o \"mágicos\"."
   ]
  },
  {
   "cell_type": "code",
   "execution_count": 1,
   "id": "740a0a5c",
   "metadata": {},
   "outputs": [],
   "source": [
    "# Ejemplo básico: suma de objetos de tipo Complejo\n",
    "class Complejo:\n",
    "    def __init__(self, real, imag):\n",
    "        self.real = real\n",
    "        self.imag = imag\n",
    "\n",
    "    def __add__(self, other):\n",
    "        return Complejo(self.real + other.real, self.imag + other.imag)\n",
    "\n",
    "    def __repr__(self):\n",
    "        return f\"{self.real} + {self.imag}i\"\n"
   ]
  },
  {
   "cell_type": "code",
   "execution_count": 2,
   "id": "85af2516",
   "metadata": {},
   "outputs": [
    {
     "data": {
      "text/plain": [
       "3 + 7i"
      ]
     },
     "execution_count": 2,
     "metadata": {},
     "output_type": "execute_result"
    }
   ],
   "source": [
    "\n",
    "# Uso:\n",
    "c1 = Complejo(2, 3)\n",
    "c2 = Complejo(1, 4)\n",
    "c3 = c1 + c2\n",
    "c3"
   ]
  },
  {
   "cell_type": "code",
   "execution_count": 5,
   "id": "0516d6b7",
   "metadata": {},
   "outputs": [
    {
     "data": {
      "text/plain": [
       "3 + 5i"
      ]
     },
     "execution_count": 5,
     "metadata": {},
     "output_type": "execute_result"
    }
   ],
   "source": [
    "c4=Complejo(1, 2)\n",
    "\n",
    "c5=c1+c4\n",
    "\n",
    "\n",
    "c5"
   ]
  },
  {
   "cell_type": "markdown",
   "id": "3834a3f3",
   "metadata": {},
   "source": [
    "\n",
    "## Sobrecarga de Operadores Aritméticos\n",
    "Puedes redefinir operaciones como la resta (`__sub__`), multiplicación (`__mul__`) y división (`__truediv__`)."
   ]
  },
  {
   "attachments": {
    "image.png": {
     "image/png": "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"
    }
   },
   "cell_type": "markdown",
   "id": "30941fd8",
   "metadata": {},
   "source": [
    "![image.png](attachment:image.png)"
   ]
  },
  {
   "cell_type": "code",
   "execution_count": 7,
   "id": "2ae422f7",
   "metadata": {},
   "outputs": [
    {
     "name": "stdout",
     "output_type": "stream",
     "text": [
      "Suma: -4 + -4i\n",
      "Resta: -6 + 8i\n",
      "Multiplicación: 7 + 32i\n",
      "División: -0.4594594594594595 + -0.7567567567567568i\n"
     ]
    }
   ],
   "source": [
    "# Extensión de la clase Complejo\n",
    "class Complejo:\n",
    "    def __init__(self, real, imag):\n",
    "        self.real = real\n",
    "        self.imag = imag\n",
    "\n",
    "    def __add__(self, other):   #Todo: El other es el segundo objeto Complejo\n",
    "        return Complejo(self.real + other.real, self.imag + other.imag)\n",
    "\n",
    "    def __sub__(self, other):\n",
    "        return Complejo(self.real - other.real, self.imag - other.imag)\n",
    "\n",
    "    def __mul__(self, other):\n",
    "        return Complejo(self.real * other.real - self.imag * other.imag,\n",
    "                        self.real * other.imag + self.imag * other.real)\n",
    "\n",
    "    def __truediv__(self, other):\n",
    "        denom = other.real**2 + other.imag**2\n",
    "        return Complejo((self.real * other.real + self.imag * other.imag) / denom,\n",
    "                        (self.imag * other.real - self.real * other.imag) / denom)\n",
    "\n",
    "    def __repr__(self):\n",
    "        return f\"{self.real} + {self.imag}i\"\n",
    "\n",
    "# Pruebas\n",
    "c1 = Complejo(-5, 2)\n",
    "c2 = Complejo(1, -6)\n",
    "print(\"Suma:\", c1 + c2)\n",
    "print(\"Resta:\", c1 - c2)\n",
    "print(\"Multiplicación:\", c1 * c2)\n",
    "print(\"División:\", c1 / c2)"
   ]
  },
  {
   "cell_type": "markdown",
   "id": "fbbeeccc",
   "metadata": {},
   "source": [
    "## Ejercicio Propuesto 1\n",
    "Crea una clase `Vector2D` que sobrecargue los operadores `+`, `-`, y `==`. Implementa también el método `__repr__` para imprimir vectores de forma legible.\n",
    "\n",
    "**Extensión:** Implementa también `__abs__` para calcular la magnitud del vector."
   ]
  },
  {
   "cell_type": "code",
   "execution_count": 10,
   "id": "170e9378",
   "metadata": {},
   "outputs": [],
   "source": [
    "class Vector2D:\n",
    "    def __init__(self, x, y):\n",
    "        self.x = x\n",
    "        self.y = y\n",
    "    def __add__(self,other):\n",
    "        return Vector2D(self.x + other.x, self.y + other.y)\n",
    "    def __sub__(self,other):\n",
    "        return Vector2D(self.x-other.x, self.y - other.y)\n",
    "    def __eq__(self, other):\n",
    "        return self.x == other.x and self.y == other.y\n",
    "    \n",
    "    def __repr__(self):\n",
    "        return f\"({self.x}, {self.y})\"\n",
    "    \n",
    "    \n",
    "\n"
   ]
  },
  {
   "cell_type": "code",
   "execution_count": 11,
   "id": "22d0fa85",
   "metadata": {},
   "outputs": [
    {
     "data": {
      "text/plain": [
       "(4, 6)"
      ]
     },
     "execution_count": 11,
     "metadata": {},
     "output_type": "execute_result"
    }
   ],
   "source": [
    "v1=Vector2D(1,2)\n",
    "v2=Vector2D(3,4)\n",
    "\n",
    "v3=v1+v2\n",
    "v3 \n"
   ]
  },
  {
   "cell_type": "code",
   "execution_count": 12,
   "id": "8eb41677",
   "metadata": {},
   "outputs": [
    {
     "data": {
      "text/plain": [
       "(-2, -2)"
      ]
     },
     "execution_count": 12,
     "metadata": {},
     "output_type": "execute_result"
    }
   ],
   "source": [
    "v4=v1-v2\n",
    "v4"
   ]
  },
  {
   "cell_type": "code",
   "execution_count": 14,
   "id": "e8c3fb47",
   "metadata": {},
   "outputs": [
    {
     "name": "stdout",
     "output_type": "stream",
     "text": [
      "False\n"
     ]
    }
   ],
   "source": [
    "eq=v1==v2\n",
    "\n",
    "print(eq)"
   ]
  },
  {
   "cell_type": "code",
   "execution_count": 15,
   "id": "0f1922c7",
   "metadata": {},
   "outputs": [
    {
     "name": "stdout",
     "output_type": "stream",
     "text": [
      "True\n"
     ]
    }
   ],
   "source": [
    "v1_1=Vector2D(1,2)\n",
    "\n",
    "eq=v1==v1_1\n",
    "print(eq)"
   ]
  },
  {
   "cell_type": "markdown",
   "id": "9c5b7af0",
   "metadata": {},
   "source": [
    "## Operadores de Comparación\n",
    "La clase puede implementar `__eq__`, `__lt__`, `__gt__`, etc. para soportar comparaciones entre objetos."
   ]
  },
  {
   "cell_type": "code",
   "execution_count": 16,
   "id": "20a6be54",
   "metadata": {},
   "outputs": [],
   "source": [
    "# Ejemplo: Comparación entre vectores según su magnitud\n",
    "import math\n",
    "\n",
    "class Vector:\n",
    "    def __init__(self, x, y):\n",
    "        self.x = x\n",
    "        self.y = y\n",
    "\n",
    "    def __abs__(self): ## Todo: Este método devuelve la magnitud del vector\n",
    "        return math.sqrt(self.x**2 + self.y**2)\n",
    "\n",
    "    def __lt__(self, other):\n",
    "        return abs(self) < abs(other)\n",
    "\n",
    "    def __eq__(self, other):\n",
    "        return self.x == other.x and self.y == other.y\n",
    "\n",
    "    def __repr__(self):\n",
    "        return f\"Vector({self.x}, {self.y})\"\n",
    "\n"
   ]
  },
  {
   "cell_type": "code",
   "execution_count": null,
   "id": "33c2e33a",
   "metadata": {},
   "outputs": [
    {
     "data": {
      "text/plain": [
       "(True, False)"
      ]
     },
     "execution_count": 17,
     "metadata": {},
     "output_type": "execute_result"
    }
   ],
   "source": [
    "v1 = Vector(1, 2)    \n",
    "v2 = Vector(3, 4)\n",
    "v1 < v2, v1 == v2"
   ]
  },
  {
   "cell_type": "markdown",
   "id": "625d0132",
   "metadata": {},
   "source": [
    "## Ejercicio Propuesto 2\n",
    "Agrega soporte para `>=` y `!=` en la clase `Vector`. Implementa los métodos `__ge__` y `__ne__`. ¿Qué comportamiento esperas al usarlos?"
   ]
  },
  {
   "cell_type": "code",
   "execution_count": 22,
   "id": "839d4520",
   "metadata": {},
   "outputs": [],
   "source": [
    "class Vector:\n",
    "    def __init__(self, x, y):\n",
    "        self.x = x\n",
    "        self.y = y\n",
    "\n",
    "    def __abs__(self): ## Todo: Este método devuelve la magnitud del vector\n",
    "        return (self.x**2 + self.y**2)**0.5\n",
    "\n",
    "    def __lt__(self, other):\n",
    "        return abs(self) < abs(other)\n",
    "\n",
    "    def __eq__(self, other):\n",
    "        return self.x == other.x and self.y == other.y\n",
    "    \n",
    "    def __ge__(self, other):\n",
    "        return abs(self) >= abs(other)\n",
    "    \n",
    "    def __gt__(self, other):\n",
    "        return abs(self) > abs(other)\n",
    "    \n",
    "    def __ne__(self, other):\n",
    "        return not (abs(self)) == (abs(other))\n",
    "\n",
    "    def __repr__(self):\n",
    "        return f\"Vector({self.x}, {self.y})\""
   ]
  },
  {
   "cell_type": "code",
   "execution_count": 24,
   "id": "e7eb8f70",
   "metadata": {},
   "outputs": [
    {
     "name": "stdout",
     "output_type": "stream",
     "text": [
      "True\n",
      "False\n",
      "False\n"
     ]
    }
   ],
   "source": [
    "v4 = Vector(1, 2)    \n",
    "v5 = Vector(1, 2)\n",
    "\n",
    "print(v4 >= v5) # True\n",
    "print(v4 > v5) # False\n",
    "\n",
    "\n",
    "print(v4 != v5) # False"
   ]
  }
 ],
 "metadata": {
  "kernelspec": {
<<<<<<< Updated upstream
<<<<<<< Updated upstream
   "display_name": "Program_2",
=======
   "display_name": "Programacion_2",
>>>>>>> Stashed changes
=======
   "display_name": "Programacion_2",
>>>>>>> Stashed changes
   "language": "python",
   "name": "python3"
  },
  "language_info": {
<<<<<<< Updated upstream
<<<<<<< Updated upstream
   "codemirror_mode": {
    "name": "ipython",
    "version": 3
   },
   "file_extension": ".py",
   "mimetype": "text/x-python",
   "name": "python",
   "nbconvert_exporter": "python",
   "pygments_lexer": "ipython3",
=======
   "name": "python",
>>>>>>> Stashed changes
=======
   "name": "python",
>>>>>>> Stashed changes
   "version": "3.12.9"
  }
 },
 "nbformat": 4,
 "nbformat_minor": 5
}
