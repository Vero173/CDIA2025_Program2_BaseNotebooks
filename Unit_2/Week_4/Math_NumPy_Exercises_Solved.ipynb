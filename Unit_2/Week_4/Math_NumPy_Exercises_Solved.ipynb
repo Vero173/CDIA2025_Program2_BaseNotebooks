{
 "cells": [
  {
   "cell_type": "markdown",
   "id": "b318f721",
   "metadata": {},
   "source": [
    "# Ejercicios resueltos de Matemática con NumPy\n",
    "Programación II — Banco práctico\n",
    "\n",
    "*Fecha de generación: 2025-05-20*\n",
    "\n",
    "**Nota**: Explicaciones en español; código y comentarios en inglés."
   ]
  },
  {
   "cell_type": "markdown",
   "id": "95448bb7",
   "metadata": {},
   "source": [
    "## 1 · Álgebra lineal y operaciones básicas"
   ]
  },
  {
   "cell_type": "markdown",
   "id": "072c84dd",
   "metadata": {},
   "source": [
    "### 1. Producto punto vs. producto Hadamard"
   ]
  },
  {
   "cell_type": "code",
   "execution_count": null,
   "id": "420175a6",
   "metadata": {},
   "outputs": [],
   "source": [
    "import numpy as np, timeit\n",
    "np.random.seed(0)\n",
    "A = np.random.rand(200, 200)\n",
    "B = np.random.rand(200, 200)\n",
    "\n",
    "# Hadamard (element‑wise)\n",
    "hadamard_time = timeit.timeit(\"A * B\", globals=globals(), number=100)/100\n",
    "# Dot product\n",
    "dot_time = timeit.timeit(\"A @ B\", globals=globals(), number=100)/100\n",
    "\n",
    "print(f\"Hadamard mean time: {hadamard_time*1e3:.2f} ms\")\n",
    "print(f\"Dot product mean time: {dot_time*1e3:.2f} ms\")\n"
   ]
  },
  {
   "cell_type": "markdown",
   "id": "29798727",
   "metadata": {},
   "source": [
    "*Conclusión*: la multiplicación matricial (`@`) es más costosa porque requiere **O(n³)** operaciones, mientras que la Hadamard es **O(n²)**."
   ]
  },
  {
   "cell_type": "markdown",
   "id": "f4c1a991",
   "metadata": {},
   "source": [
    "### 2. Norma de Frobenius y norma infinita"
   ]
  },
  {
   "cell_type": "code",
   "execution_count": null,
   "id": "81563d0d",
   "metadata": {},
   "outputs": [],
   "source": [
    "def frobenius_norm(M: np.ndarray) -> float:\n",
    "    return np.sqrt((M * M).sum())\n",
    "\n",
    "M = np.random.randn(300, 150)\n",
    "print(\"Frobenius (custom):\", frobenius_norm(M))\n",
    "print(\"Frobenius (np):    \", np.linalg.norm(M, 'fro'))\n",
    "print(\"Norma infinita:    \", np.linalg.norm(M, np.inf))\n"
   ]
  },
  {
   "cell_type": "markdown",
   "id": "6695cbee",
   "metadata": {},
   "source": [
    "### 3. Sistemas lineales parametrizados"
   ]
  },
  {
   "cell_type": "code",
   "execution_count": null,
   "id": "cbc7a4e9",
   "metadata": {},
   "outputs": [],
   "source": [
    "import matplotlib.pyplot as plt\n",
    "cond_values = []\n",
    "ks = np.arange(1, 21)\n",
    "n = 100\n",
    "I = np.eye(n)\n",
    "J = np.ones((n, n))\n",
    "b = np.ones(n)\n",
    "\n",
    "for k in ks:\n",
    "    A = I + k * J\n",
    "    x = np.linalg.solve(A, b)  # solución (no se usa, pero valida que es resoluble)\n",
    "    cond_values.append(np.linalg.cond(A))\n",
    "\n",
    "plt.plot(ks, cond_values, marker=\"o\")\n",
    "plt.xlabel(\"k\")\n",
    "plt.ylabel(\"cond(A_k)\")\n",
    "plt.title(\"Número de condición vs k\")\n",
    "plt.grid(True)\n",
    "plt.show()\n"
   ]
  },
  {
   "cell_type": "markdown",
   "id": "7a3bd003",
   "metadata": {},
   "source": [
    "El número de condición crece con *k*, indicando pérdida de estabilidad numérica para valores grandes."
   ]
  },
  {
   "cell_type": "markdown",
   "id": "51641795",
   "metadata": {},
   "source": [
    "## 2 · Cálculo numérico y análisis"
   ]
  },
  {
   "cell_type": "markdown",
   "id": "0a0aa894",
   "metadata": {},
   "source": [
    "### 4. Derivada numérica por diferencias centradas"
   ]
  },
  {
   "cell_type": "code",
   "execution_count": null,
   "id": "4bd8468d",
   "metadata": {},
   "outputs": [],
   "source": [
    "import numpy as np\n",
    "import matplotlib.pyplot as plt\n",
    "\n",
    "def f(x):\n",
    "    return np.sin(x) * np.exp(-x/4)\n",
    "\n",
    "# analytical derivative\n",
    "def f_prime_exact(x):\n",
    "    return np.exp(-x/4)*(np.cos(x) - 0.25*np.sin(x))\n",
    "\n",
    "x = np.linspace(0, 10, 500)\n",
    "h = x[1]-x[0]\n",
    "# centered difference\n",
    "f_prime_num = (f(x + h) - f(x - h)) / (2*h)\n",
    "\n",
    "plt.plot(x, f_prime_exact(x), label=\"Exact\")\n",
    "plt.plot(x, f_prime_num, '--', label=\"Centered diff\")\n",
    "plt.legend(); plt.title(\"Derivative comparison\"); plt.show()\n",
    "\n",
    "error = np.abs(f_prime_num - f_prime_exact(x)).max()\n",
    "print(\"Max abs error:\", error)\n"
   ]
  },
  {
   "cell_type": "markdown",
   "id": "f962d0ad",
   "metadata": {},
   "source": [
    "### 5. Integración por regla del trapecio y de Simpson"
   ]
  },
  {
   "cell_type": "code",
   "execution_count": null,
   "id": "4ebbb76d",
   "metadata": {},
   "outputs": [],
   "source": [
    "def trapz_vec(y, h):\n",
    "    return h * (y[0] / 2 + y[1:-1].sum() + y[-1] / 2)\n",
    "\n",
    "def simpson_vec(y, h):\n",
    "    if len(y) % 2 == 0:  # Simpson requiere número impar de puntos\n",
    "        raise ValueError(\"Simpson rule needs odd number of samples\")\n",
    "    return h/3 * (y[0] + y[-1] + 4*y[1:-1:2].sum() + 2*y[2:-2:2].sum())\n",
    "\n",
    "y = f(x)\n",
    "I_exact = 4/5*(1 - np.exp(-10/4)*(np.sin(10)+0.25*np.cos(10)))  # integral analítica\n",
    "I_trapz = trapz_vec(y, h)\n",
    "I_simpson = simpson_vec(y, h)\n",
    "\n",
    "print(\"Trapecio:\", I_trapz, \" error:\", abs(I_trapz - I_exact))\n",
    "print(\"Simpson: \", I_simpson, \" error:\", abs(I_simpson - I_exact))\n"
   ]
  },
  {
   "cell_type": "markdown",
   "id": "a9714e29",
   "metadata": {},
   "source": [
    "### 6. Serie de Fourier discreta (DFT manual)"
   ]
  },
  {
   "cell_type": "code",
   "execution_count": null,
   "id": "04180a68",
   "metadata": {},
   "outputs": [],
   "source": [
    "def my_dft(x):\n",
    "    N = x.size\n",
    "    n = np.arange(N)\n",
    "    k = n.reshape((N, 1))\n",
    "    M = np.exp(-2j * np.pi * k * n / N)\n",
    "    return M @ x\n",
    "\n",
    "# test with sine wave\n",
    "N = 64\n",
    "t = np.arange(N)\n",
    "freq = 5\n",
    "signal = np.sin(2*np.pi*freq*t/N)\n",
    "X = my_dft(signal)\n",
    "# frequency with max magnitude\n",
    "print(\"Peak frequency:\", np.abs(X).argmax())\n"
   ]
  },
  {
   "cell_type": "markdown",
   "id": "10d66090",
   "metadata": {},
   "source": [
    "La frecuencia pico coincide con la frecuencia generada (5)."
   ]
  },
  {
   "cell_type": "markdown",
   "id": "5e54df1a",
   "metadata": {},
   "source": [
    "## 3 · Estadística y probabilidad"
   ]
  },
  {
   "cell_type": "markdown",
   "id": "6830f6b3",
   "metadata": {},
   "source": [
    "### 7. Estimación de parámetros de una distribución normal"
   ]
  },
  {
   "cell_type": "code",
   "execution_count": null,
   "id": "de4181ef",
   "metadata": {},
   "outputs": [],
   "source": [
    "np.random.seed(1)\n",
    "data = np.random.normal(2.5, 1.3, 10_000)\n",
    "mu_hat = data.mean()\n",
    "var_hat = ((data - mu_hat)**2).mean()  # varianza poblacional\n",
    "print(\"Estimated μ:\", mu_hat)\n",
    "print(\"Estimated σ²:\", var_hat)\n"
   ]
  },
  {
   "cell_type": "markdown",
   "id": "408ded99",
   "metadata": {},
   "source": [
    "### 8. Bootstrap de la mediana"
   ]
  },
  {
   "cell_type": "code",
   "execution_count": null,
   "id": "b376a0aa",
   "metadata": {},
   "outputs": [],
   "source": [
    "rng = np.random.default_rng(42)\n",
    "data = rng.chisquare(df=4, size=500)\n",
    "B = 2000\n",
    "samples = rng.choice(data, size=(B, data.size))\n",
    "medians = np.median(samples, axis=1)\n",
    "ci_low, ci_high = np.percentile(medians, [2.5, 97.5])\n",
    "print(f\"95% CI for median: [{ci_low:.3f}, {ci_high:.3f}]\")\n"
   ]
  },
  {
   "cell_type": "markdown",
   "id": "3c51e340",
   "metadata": {},
   "source": [
    "### 9. Correlación de Pearson y covarianza"
   ]
  },
  {
   "cell_type": "code",
   "execution_count": null,
   "id": "805dcc15",
   "metadata": {},
   "outputs": [],
   "source": [
    "rng = np.random.default_rng(0)\n",
    "X = rng.normal(0, 1, 10_000)\n",
    "eps = rng.normal(0, 0.5, 10_000)\n",
    "Y = 3 * X + eps\n",
    "\n",
    "cov = ((X - X.mean()) * (Y - Y.mean())).mean()\n",
    "pearson = cov / (X.std() * Y.std())\n",
    "print(\"Covariance:\", cov)\n",
    "print(\"Pearson r:\", pearson)\n"
   ]
  },
  {
   "cell_type": "markdown",
   "id": "ab59452e",
   "metadata": {},
   "source": [
    "## 4 · Álgebra matricial avanzada"
   ]
  },
  {
   "cell_type": "markdown",
   "id": "7803cba5",
   "metadata": {},
   "source": [
    "### 10. Descomposición QR por Gram–Schmidt"
   ]
  },
  {
   "cell_type": "code",
   "execution_count": null,
   "id": "414db72f",
   "metadata": {},
   "outputs": [],
   "source": [
    "def qr_gs(A):\n",
    "    m, n = A.shape\n",
    "    Q = np.zeros((m, n))\n",
    "    R = np.zeros((n, n))\n",
    "    for j in range(n):\n",
    "        v = A[:, j]\n",
    "        for i in range(j):\n",
    "            R[i, j] = Q[:, i] @ A[:, j]\n",
    "            v = v - R[i, j] * Q[:, i]\n",
    "        R[j, j] = np.linalg.norm(v)\n",
    "        Q[:, j] = v / R[j, j]\n",
    "    return Q, R\n",
    "\n",
    "A = np.random.randn(150, 100)\n",
    "Q, R = qr_gs(A)\n",
    "print(\"||A - Q@R||_F =\", np.linalg.norm(A - Q @ R))\n",
    "print(\"Orthogonality error:\", np.linalg.norm(Q.T @ Q - np.eye(100)))\n"
   ]
  },
  {
   "cell_type": "markdown",
   "id": "142c1053",
   "metadata": {},
   "source": [
    "### 11. Potencia iterada para el autovalor dominante"
   ]
  },
  {
   "cell_type": "code",
   "execution_count": null,
   "id": "838ef3ee",
   "metadata": {},
   "outputs": [],
   "source": [
    "def power_iteration(A, tol=1e-6, max_iter=1000):\n",
    "    b_k = np.random.rand(A.shape[1])\n",
    "    b_k /= np.linalg.norm(b_k)\n",
    "    lambda_old = 0.0\n",
    "    for _ in range(max_iter):\n",
    "        b_k1 = A @ b_k\n",
    "        b_k1_norm = np.linalg.norm(b_k1)\n",
    "        b_k = b_k1 / b_k1_norm\n",
    "        if abs(b_k1_norm - lambda_old) < tol:\n",
    "            break\n",
    "        lambda_old = b_k1_norm\n",
    "    return b_k1_norm, b_k\n",
    "\n",
    "C = np.corrcoef(np.random.randn(30, 100))\n",
    "eigval_pi, eigvec_pi = power_iteration(C)\n",
    "eigvals, eigvecs = np.linalg.eig(C)\n",
    "idx = eigvals.argmax()\n",
    "print(\"Power iteration eigenvalue:\", eigval_pi)\n",
    "print(\"Numpy largest eigenvalue:  \", eigvals[idx])\n"
   ]
  },
  {
   "cell_type": "markdown",
   "id": "aa5c984b",
   "metadata": {},
   "source": [
    "### 12. SVD truncado y compresión de imágenes"
   ]
  },
  {
   "cell_type": "code",
   "execution_count": null,
   "id": "a280945e",
   "metadata": {},
   "outputs": [],
   "source": [
    "import matplotlib.pyplot as plt\n",
    "from skimage import data, color, img_as_float\n",
    "from skimage.metrics import peak_signal_noise_ratio as psnr\n",
    "\n",
    "# sample grayscale image\n",
    "img = color.rgb2gray(data.astronaut())\n",
    "A = img_as_float(img)\n",
    "\n",
    "U, s, Vt = np.linalg.svd(A, full_matrices=False)\n",
    "\n",
    "def reconstruct(r):\n",
    "    Sr = np.diag(s[:r])\n",
    "    return (U[:, :r] @ Sr) @ Vt[:r, :]\n",
    "\n",
    "plt.figure(figsize=(12,4))\n",
    "for i, r in enumerate([5, 20, 50], 1):\n",
    "    Ar = reconstruct(r)\n",
    "    plt.subplot(1,3,i)\n",
    "    plt.imshow(Ar, cmap='gray')\n",
    "    plt.title(f\"r={r}\n",
    "PSNR={psnr(A, Ar):.2f} dB\")\n",
    "    plt.axis('off')\n",
    "plt.show()\n"
   ]
  },
  {
   "cell_type": "markdown",
   "id": "2a30e4f4",
   "metadata": {},
   "source": [
    "## 5 · Optimización y mínimos cuadrados"
   ]
  },
  {
   "cell_type": "markdown",
   "id": "6c0d0510",
   "metadata": {},
   "source": [
    "### 13. Ajuste lineal múltiple con fórmula normal"
   ]
  },
  {
   "cell_type": "code",
   "execution_count": null,
   "id": "ade8a53f",
   "metadata": {},
   "outputs": [],
   "source": [
    "rng = np.random.default_rng(0)\n",
    "N = 1000\n",
    "X = rng.normal(size=(N,3))\n",
    "beta_true = np.array([1.5, -2.0, 3.0])\n",
    "y = X @ beta_true + rng.normal(0, 0.5, N)\n",
    "\n",
    "# add bias term\n",
    "X_b = np.hstack([np.ones((N,1)), X])\n",
    "beta_hat = np.linalg.inv(X_b.T @ X_b) @ (X_b.T @ y)\n",
    "print(\"Estimated coefficients:\", beta_hat)\n",
    "print(\"True coefficients:     \", np.hstack([0, beta_true]))\n"
   ]
  },
  {
   "cell_type": "markdown",
   "id": "4b66f250",
   "metadata": {},
   "source": [
    "### 14. Descenso de gradiente para f(w) = ||Aw - b||²"
   ]
  },
  {
   "cell_type": "code",
   "execution_count": null,
   "id": "2d14de80",
   "metadata": {},
   "outputs": [],
   "source": [
    "A = rng.normal(size=(500, 5))\n",
    "w_true = rng.normal(size=5)\n",
    "b = A @ w_true + rng.normal(0, 0.1, 500)\n",
    "\n",
    "w = np.zeros(5)\n",
    "lr = 0.01\n",
    "errors = []\n",
    "for i in range(5000):\n",
    "    grad = 2 * A.T @ (A @ w - b) / A.shape[0]\n",
    "    w -= lr * grad\n",
    "    if i % 100 == 0:\n",
    "        err = np.linalg.norm(A @ w - b)**2\n",
    "        errors.append(err)\n",
    "\n",
    "print(\"Estimated w:\", w)\n",
    "print(\"True w:     \", w_true)\n"
   ]
  }
 ],
 "metadata": {},
 "nbformat": 4,
 "nbformat_minor": 5
}
