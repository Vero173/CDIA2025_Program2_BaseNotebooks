{
 "cells": [
  {
   "cell_type": "markdown",
   "id": "3ad1a445",
   "metadata": {},
   "source": [
    "# Broadcasting and Advanced NumPy Manipulation\n",
    "Programación II — Semana 2\n",
    "\n",
    "*Fecha de generación: 2025-05-20*"
   ]
  },
  {
   "cell_type": "markdown",
   "id": "7b76e2ad",
   "metadata": {},
   "source": [
    "## Objetivos de aprendizaje\n",
    "Al finalizar este notebook podrás:\n",
    "1. Explicar la **regla de broadcasting** y aplicarla a operaciones vectorizadas.\n",
    "2. Utilizar `reshape`, `concatenate`, `split` y vistas para reorganizar datos sin copiar memoria.\n",
    "3. Medir el impacto de **vistas** vs **copias** en rendimiento y uso de memoria.\n",
    "4. Resolver problemas prácticos de procesamiento NumPy sin bucles explícitos.\n"
   ]
  },
  {
   "cell_type": "markdown",
   "id": "3998e7f3",
   "metadata": {},
   "source": [
    "## 1 · Broadcasting en NumPy  \n",
    "Cuando operamos con arrays de distinta forma, NumPy **estira** las dimensiones de tamaño `1` para hacerlas compatibles.  \n",
    "**Regla:** se comparan shapes de **derecha a izquierda**.\n",
    "\n",
    "![](https://numpy.org/doc/stable/_images/broadcast.svg)\n",
    "\n"
   ]
  },
  {
   "cell_type": "code",
   "execution_count": 1,
   "id": "11a9d86e",
   "metadata": {},
   "outputs": [],
   "source": [
    "import numpy as np\n",
    "\n",
    "A = np.arange(6).reshape(3,2)        # (3,2)\n",
    "B = np.array([10, 100])              # (2,)\n",
    "       # B se transmite sobre la primera dimensión\n"
   ]
  },
  {
   "cell_type": "code",
   "execution_count": 2,
   "id": "0b7da3f5",
   "metadata": {},
   "outputs": [
    {
     "name": "stdout",
     "output_type": "stream",
     "text": [
      "[[0 1]\n",
      " [2 3]\n",
      " [4 5]]\n",
      "[ 10 100]\n"
     ]
    }
   ],
   "source": [
    "print(A)\n",
    "print(B)"
   ]
  },
  {
   "cell_type": "code",
   "execution_count": 3,
   "id": "fe060755",
   "metadata": {},
   "outputs": [
    {
     "name": "stdout",
     "output_type": "stream",
     "text": [
      "A =\n",
      " [[0 1]\n",
      " [2 3]\n",
      " [4 5]]\n",
      "B = [ 10 100]\n",
      "A + B =\n",
      " [[ 10 101]\n",
      " [ 12 103]\n",
      " [ 14 105]]\n"
     ]
    }
   ],
   "source": [
    "print(\"A =\\n\", A)\n",
    "print(\"B =\", B)\n",
    "print(\"A + B =\\n\", A + B)    "
   ]
  },
  {
   "cell_type": "markdown",
   "id": "e8b065d4",
   "metadata": {},
   "source": [
    "### 📝 Ejercicio 1  \n",
    "Convierte un vector `temp_f` de temperaturas en °F a °C usando broadcasting y la fórmula  \n",
    "\n",
    "$$\n",
    "T_C = (T_F - 32) \\times \\frac{5}{9} $$\n",
    "\n",
    "*Sin usar bucles ni comprensiones de listas.*"
   ]
  },
  {
   "cell_type": "code",
   "execution_count": 4,
   "id": "32386d45",
   "metadata": {
    "tags": [
     "exercise"
    ]
   },
   "outputs": [
    {
     "name": "stdout",
     "output_type": "stream",
     "text": [
      "temp_f = [ 32  68  95 104]\n"
     ]
    }
   ],
   "source": [
    "\n",
    "\n",
    "temp_f = np.array([32, 68, 95, 104])  # ejemplo\n",
    "print(\"temp_f =\", temp_f)\n"
   ]
  },
  {
   "cell_type": "code",
   "execution_count": 5,
   "id": "e62de33b",
   "metadata": {},
   "outputs": [
    {
     "name": "stdout",
     "output_type": "stream",
     "text": [
      "temp_c = [ 0. 20. 35. 40.]\n"
     ]
    }
   ],
   "source": [
    "temp_c= (temp_f - 32) * 5/9\n",
    "\n",
    "print(\"temp_c =\", temp_c)\n"
   ]
  },
  {
   "cell_type": "markdown",
   "id": "81a4d185",
   "metadata": {},
   "source": [
    "### 📝 Ejercicio 2  \n",
    "Dado un conjunto `P` de `n` puntos 2‑D y otro `Q` de `m` puntos 2‑D, calcula la matriz de distancias euclidianas $$ (D\\in\\mathbb{R}^{n\\times m}) $$ **sin usar bucles** (pista: broadcasting y sumas sobre ejes)."
   ]
  },
  {
   "cell_type": "code",
   "execution_count": 7,
   "id": "17eb24cd",
   "metadata": {
    "tags": [
     "exercise"
    ]
   },
   "outputs": [
    {
     "name": "stdout",
     "output_type": "stream",
     "text": [
      "P (5 puntos):\n",
      " [[2.49292229 4.10382923]\n",
      " [7.55551139 2.28798165]\n",
      " [0.7697991  2.89751453]\n",
      " [1.61221287 9.29697652]\n",
      " [8.0812038  6.33403757]]\n",
      "Q (3 puntos):\n",
      " [[8.7146059  8.03672077]\n",
      " [1.86570059 8.92558998]\n",
      " [5.39342242 8.07440155]]\n",
      "\n",
      "Matriz de distancias D (5x3):\n",
      " [[7.36050153 4.86238458 4.91714811]\n",
      " [5.86442678 8.74252774 6.17715824]\n",
      " [9.46210314 6.12688288 6.94104112]\n",
      " [7.21333704 0.44964873 3.97394454]\n",
      " [1.81668058 6.7341387  3.20203615]]\n",
      "Forma de D: (5, 3)\n",
      "\n",
      "Distancia manual entre P[0] y Q[0]: 7.3605\n",
      "Distancia calculada D[0,0]: 7.3605\n"
     ]
    }
   ],
   "source": [
    "import numpy as np\n",
    "\n",
    "# Generar datos de ejemplo\n",
    "# P: n puntos, cada uno con 2 coordenadas (n x 2)\n",
    "n_puntos_P = 5\n",
    "P = np.random.rand(n_puntos_P, 2) * 10 # Puntos entre 0 y 10\n",
    "\n",
    "# Q: m puntos, cada uno con 2 coordenadas (m x 2)\n",
    "m_puntos_Q = 3\n",
    "Q = np.random.rand(m_puntos_Q, 2) * 10 # Puntos entre 0 y 10\n",
    "\n",
    "print(\"P ({} puntos):\\n\".format(n_puntos_P), P)\n",
    "print(\"Q ({} puntos):\\n\".format(m_puntos_Q), Q)\n",
    "\n",
    "# Calcular la matriz de distancias euclidianas D (n x m)\n",
    "\n",
    "P_expandido = P[:, np.newaxis, :] # Forma: (n, 1, 2)\n",
    "Q_expandido = Q[np.newaxis, :, :] # Forma: (1, m, 2)\n",
    "\n",
    "# Calcular las diferencias al cuadrado para cada coordenada\n",
    "\n",
    "diferencias_cuadrado = (P_expandido - Q_expandido)**2\n",
    "\n",
    "# Sumar las diferencias al cuadrado a lo largo del eje de las coordenadas (eje 2)\n",
    "suma_diferencias_cuadrado = np.sum(diferencias_cuadrado, axis=2)\n",
    "\n",
    "# Calcular la raíz cuadrada para obtener la distancia euclidiana\n",
    "D = np.sqrt(suma_diferencias_cuadrado)\n",
    "\n",
    "print(\"\\nMatriz de distancias D ({}x{}):\\n\".format(n_puntos_P, m_puntos_Q), D)\n",
    "print(\"Forma de D:\", D.shape)\n",
    "\n",
    "# Verificación para un par de puntos (opcional)\n",
    "# Distancia entre P[0] y Q[0]\n",
    "dist_manual_00 = np.sqrt(np.sum((P[0] - Q[0])**2))\n",
    "print(f\"\\nDistancia manual entre P[0] y Q[0]: {dist_manual_00:.4f}\")\n",
    "print(f\"Distancia calculada D[0,0]: {D[0,0]:.4f}\")"
   ]
  },
  {
   "cell_type": "code",
   "execution_count": 7,
   "id": "8cb3a0b9",
   "metadata": {},
   "outputs": [
    {
     "name": "stdout",
     "output_type": "stream",
     "text": [
      "P_corrected =\n",
      " [[[0 6]]\n",
      "\n",
      " [[0 0]]\n",
      "\n",
      " [[1 8]]\n",
      "\n",
      " [[0 1]]\n",
      "\n",
      " [[6 3]]]\n",
      "P_corrected.shape = (5, 1, 2)\n"
     ]
    }
   ],
   "source": [
    "P_corrected=P[:,np.newaxis,:]\n",
    "print(\"P_corrected =\\n\", P_corrected)\n",
    "print(\"P_corrected.shape =\", P_corrected.shape)"
   ]
  },
  {
   "cell_type": "code",
   "execution_count": 8,
   "id": "b5250103",
   "metadata": {},
   "outputs": [
    {
     "name": "stdout",
     "output_type": "stream",
     "text": [
      "Q_corrected =\n",
      " [[[6 7]\n",
      "  [2 0]\n",
      "  [8 5]]]\n",
      "Q_corrected.shape = (1, 3, 2)\n"
     ]
    }
   ],
   "source": [
    "Q_corrected= Q[np.newaxis,:,:]\n",
    "print(\"Q_corrected =\\n\", Q_corrected)   \n",
    "print(\"Q_corrected.shape =\", Q_corrected.shape) "
   ]
  },
  {
   "cell_type": "code",
   "execution_count": 9,
   "id": "dd4ccf9a",
   "metadata": {},
   "outputs": [
    {
     "name": "stdout",
     "output_type": "stream",
     "text": [
      "diff =\n",
      " [[[-6 -1]\n",
      "  [-2  6]\n",
      "  [-8  1]]\n",
      "\n",
      " [[-6 -7]\n",
      "  [-2  0]\n",
      "  [-8 -5]]\n",
      "\n",
      " [[-5  1]\n",
      "  [-1  8]\n",
      "  [-7  3]]\n",
      "\n",
      " [[-6 -6]\n",
      "  [-2  1]\n",
      "  [-8 -4]]\n",
      "\n",
      " [[ 0 -4]\n",
      "  [ 4  3]\n",
      "  [-2 -2]]]\n"
     ]
    }
   ],
   "source": [
    "# Calcula la matriz de distancias euclidianas entre P (5,2) y Q (3,2)\n",
    "diff = P_corrected-Q_corrected # (5,3,2)\n",
    "print(\"diff =\\n\", diff)"
   ]
  },
  {
   "cell_type": "code",
   "execution_count": 10,
   "id": "17d0de40",
   "metadata": {},
   "outputs": [
    {
     "name": "stdout",
     "output_type": "stream",
     "text": [
      "D =\n",
      " [[6.08276253 6.32455532 8.06225775]\n",
      " [9.21954446 2.         9.43398113]\n",
      " [5.09901951 8.06225775 7.61577311]\n",
      " [8.48528137 2.23606798 8.94427191]\n",
      " [4.         5.         2.82842712]]\n",
      "D.shape = (5, 3)\n"
     ]
    }
   ],
   "source": [
    "D= np.linalg.norm(diff, axis=2) # (5,3)\n",
    "print(\"D =\\n\", D)\n",
    "print(\"D.shape =\", D.shape)"
   ]
  },
  {
   "cell_type": "code",
   "execution_count": 11,
   "id": "bddd5eb2",
   "metadata": {},
   "outputs": [
    {
     "name": "stdout",
     "output_type": "stream",
     "text": [
      "[[0 6]\n",
      " [0 0]\n",
      " [1 8]\n",
      " [0 1]\n",
      " [6 3]]\n",
      "[[6 7]\n",
      " [2 0]\n",
      " [8 5]]\n"
     ]
    }
   ],
   "source": [
    "print(P)\n",
    "print(Q)"
   ]
  },
  {
   "cell_type": "markdown",
   "id": "b191a416",
   "metadata": {},
   "source": [
    "## 2 · Manipulación avanzada de arrays"
   ]
  },
  {
   "cell_type": "code",
   "execution_count": 13,
   "id": "05c3a5b0",
   "metadata": {},
   "outputs": [
    {
     "name": "stdout",
     "output_type": "stream",
     "text": [
      "tensor shape: (2, 3, 4)\n",
      "¿Comparte memoria? False\n",
      "tensor =\n",
      " [[[ 0  1  2  3]\n",
      "  [ 4  5  6  7]\n",
      "  [ 8  9 10 11]]\n",
      "\n",
      " [[12 13 14 15]\n",
      "  [16 17 18 19]\n",
      "  [20 21 22 23]]]\n",
      "flat =\n",
      " [ 0  1  2  3  4  5  6  7  8  9 10 11 12 13 14 15 16 17 18 19 20 21 22 23]\n"
     ]
    }
   ],
   "source": [
    "vec = np.arange(24)\n",
    "tensor = vec.reshape(2,3,4)   # O(1), sin copiar\n",
    "print(\"tensor shape:\", tensor.shape)\n",
    "flat = tensor.ravel()         # vista\n",
    "print(\"¿Comparte memoria?\", flat.base is tensor)\n",
    "\n",
    "print(\"tensor =\\n\", tensor) \n",
    "print(\"flat =\\n\", flat)\n"
   ]
  },
  {
   "cell_type": "markdown",
   "id": "3ea4620e",
   "metadata": {},
   "source": [
    "### 📝 Ejercicio 3  \n",
    "Reestructura `tensor` para que sus ejes queden con forma `(3,2,4)` **sin copiar** datos. Comprueba que la vista comparte memoria con el original."
   ]
  },
  {
   "cell_type": "code",
   "execution_count": 6,
   "id": "7f3c01b5",
   "metadata": {
    "tags": [
     "exercise"
    ]
   },
   "outputs": [
    {
     "name": "stdout",
     "output_type": "stream",
     "text": [
      "Tensor original (forma (2, 3, 4)):\n",
      " [[[ 0  1  2  3]\n",
      "  [ 4  5  6  7]\n",
      "  [ 8  9 10 11]]\n",
      "\n",
      " [[12 13 14 15]\n",
      "  [16 17 18 19]\n",
      "  [20 21 22 23]]]\n",
      "\n",
      "Tensor con ejes intercambiados (forma (3, 2, 4)):\n",
      " [[[ 0  1  2  3]\n",
      "  [12 13 14 15]]\n",
      "\n",
      " [[ 4  5  6  7]\n",
      "  [16 17 18 19]]\n",
      "\n",
      " [[ 8  9 10 11]\n",
      "  [20 21 22 23]]]\n",
      "\n",
      "¿El tensor intercambiado comparte memoria con el original?: False\n"
     ]
    }
   ],
   "source": [
    "import numpy as np\n",
    "\n",
    "# Creamos el tensor original como se indica en el contexto del notebook\n",
    "vec = np.arange(24)\n",
    "tensor = vec.reshape(2,3,4) # Forma original (2,3,4)\n",
    "\n",
    "print(\"Tensor original (forma {}):\\n\".format(tensor.shape), tensor)\n",
    "\n",
    "# Para reestructurar de (2,3,4) a (3,2,4), necesitamos intercambiar los ejes 0 y 1.\n",
    "# Usamos np.swapaxes() o tensor.transpose() que devuelven vistas.\n",
    "tensor_swapped = tensor.transpose(1, 0, 2)\n",
    "# Alternativamente:\n",
    "# tensor_swapped = np.swapaxes(tensor, 0, 1)\n",
    "\n",
    "print(\"\\nTensor con ejes intercambiados (forma {}):\\n\".format(tensor_swapped.shape), tensor_swapped)\n",
    "\n",
    "# Comprobar si comparte memoria\n",
    "# Si tensor_swapped es una vista de tensor, tensor_swapped.base será tensor\n",
    "comparte_memoria = tensor_swapped.base is tensor\n",
    "\n",
    "print(\"\\n¿El tensor intercambiado comparte memoria con el original?:\", comparte_memoria)\n",
    "\n",
    "# Para estar seguros, modificamos un elemento en la vista y vemos si cambia en el original\n",
    "if comparte_memoria:\n",
    "    valor_original_primer_elemento = tensor[0,0,0].copy() # Copiamos para no modificarlo antes de la prueba\n",
    "    tensor_swapped[0,0,0] = 999 # Modificamos el primer elemento de la vista que corresponde a tensor[0,0,0]\n",
    "    print(f\"Valor original de tensor[0,0,0]: {valor_original_primer_elemento}\")\n",
    "    print(f\"Valor de tensor[0,0,0] después de modificar tensor_swapped[0,0,0]: {tensor[0,0,0]}\")\n",
    "    # Restauramos el valor para no afectar otros posibles usos del tensor\n",
    "    tensor[0,0,0] = valor_original_primer_elemento"
   ]
  },
  {
   "cell_type": "markdown",
   "id": "a730d329",
   "metadata": {},
   "source": [
    "### 📝 Ejercicio 4  \n",
    "Carga el dataset *Iris* disponible en NumPy (`np.loadtxt` o `sklearn.datasets.load_iris`) y  \n",
    "divide las 150 observaciones en un **80 % train / 20 % test** usando `np.split` (sin librerías externas)."
   ]
  },
  {
   "cell_type": "code",
   "execution_count": 1,
   "id": "149f8777",
   "metadata": {
    "tags": [
     "exercise"
    ]
   },
   "outputs": [
    {
     "name": "stdout",
     "output_type": "stream",
     "text": [
      "Forma del dataset original: (150, 4)\n",
      "Número de muestras para entrenamiento (80%): 120\n",
      "Número de muestras para prueba (20%): 30\n",
      "Forma del conjunto de entrenamiento: (120, 4)\n",
      "Forma del conjunto de prueba: (30, 4)\n",
      "\n",
      "Primeras 5 filas del conjunto de entrenamiento:\n",
      " [[6.1 2.8 4.7 1.2]\n",
      " [5.7 3.8 1.7 0.3]\n",
      " [7.7 2.6 6.9 2.3]\n",
      " [6.  2.9 4.5 1.5]\n",
      " [6.8 2.8 4.8 1.4]]\n",
      "\n",
      "Primeras 5 filas del conjunto de prueba:\n",
      " [[6.1 3.  4.6 1.4]\n",
      " [4.5 2.3 1.3 0.3]\n",
      " [6.6 2.9 4.6 1.3]\n",
      " [5.5 2.6 4.4 1.2]\n",
      " [5.3 3.7 1.5 0.2]]\n"
     ]
    }
   ],
   "source": [
    "import numpy as np\n",
    "from sklearn.datasets import load_iris\n",
    "\n",
    "# Cargar el dataset Iris\n",
    "iris = load_iris()\n",
    "data = iris.data # Matriz de características (150 muestras, 4 características)\n",
    "\n",
    "# Número total de observaciones\n",
    "n_total_observaciones = data.shape[0] # Debería ser 150\n",
    "\n",
    "# Calcular el número de observaciones para el conjunto de entrenamiento (80%)\n",
    "n_train = int(n_total_observaciones * 0.8)\n",
    "\n",
    "# Es buena idea barajar los datos antes de dividirlos para evitar sesgos\n",
    "# si los datos están ordenados de alguna manera (ej. por clase)\n",
    "np.random.seed(42) # Para reproducibilidad\n",
    "indices_barajados = np.random.permutation(n_total_observaciones)\n",
    "data_barajada = data[indices_barajados]\n",
    "\n",
    "# Dividir los datos usando np.split\n",
    "# np.split toma una lista de índices donde se realizarán las divisiones.\n",
    "# Para dividir en dos partes (train y test), necesitamos un solo índice de división.\n",
    "train_set, test_set = np.split(data_barajada, [n_train])\n",
    "\n",
    "print(\"Forma del dataset original:\", data.shape)\n",
    "print(\"Número de muestras para entrenamiento (80%):\", n_train)\n",
    "print(\"Número de muestras para prueba (20%):\", n_total_observaciones - n_train)\n",
    "print(\"Forma del conjunto de entrenamiento:\", train_set.shape)\n",
    "print(\"Forma del conjunto de prueba:\", test_set.shape)\n",
    "\n",
    "# Primeras 5 filas del conjunto de entrenamiento\n",
    "print(\"\\nPrimeras 5 filas del conjunto de entrenamiento:\\n\", train_set[:5])\n",
    "# Primeras 5 filas del conjunto de prueba\n",
    "print(\"\\nPrimeras 5 filas del conjunto de prueba:\\n\", test_set[:5])\n"
   ]
  },
  {
   "cell_type": "markdown",
   "id": "8940423e",
   "metadata": {},
   "source": [
    "## 3 · Vistas, copias y `strides`"
   ]
  },
  {
   "cell_type": "code",
   "execution_count": 22,
   "id": "aba6a768",
   "metadata": {},
   "outputs": [
    {
     "name": "stdout",
     "output_type": "stream",
     "text": [
      "80000000\n",
      "[0.00000e+00 1.00000e+01 2.00000e+01 ... 9.99997e+06 9.99998e+06\n",
      " 9.99999e+06]\n",
      "Memoria view: 8.0 MB\n",
      "Memoria copy: 8.0 MB\n"
     ]
    }
   ],
   "source": [
    "big = np.arange(1e7)          # ~80 MB\n",
    "print(big.nbytes)\n",
    "view = big[::10]  \n",
    "print(view)# slicing, vista\n",
    "copy = big[::10].copy()        # copia\n",
    "print(\"Memoria view:\", view.nbytes/1e6, \"MB\")\n",
    "print(\"Memoria copy:\", copy.nbytes/1e6, \"MB\")"
   ]
  },
  {
   "cell_type": "markdown",
   "id": "e8ab37fe",
   "metadata": {},
   "source": [
    "### 📝 Ejercicio 5  \n",
    "Usa `%timeit` para comparar la velocidad de `big.ravel()` versus `big.flatten()`.  \n",
    "Explica por qué una es más rápida que la otra."
   ]
  },
  {
   "cell_type": "code",
   "execution_count": 3,
   "id": "fd440455",
   "metadata": {},
   "outputs": [
    {
     "name": "stdout",
     "output_type": "stream",
     "text": [
      "80.4 ns ± 0.398 ns per loop (mean ± std. dev. of 7 runs, 10,000,000 loops each)\n",
      "13.9 ms ± 347 μs per loop (mean ± std. dev. of 7 runs, 10 loops each)\n"
     ]
    }
   ],
   "source": [
    "import numpy as np\n",
    "\n",
    "# Crear un array grande para las pruebas\n",
    "big = np.arange(1e7)  # ~80 MB\n",
    "\n",
    "# Comparar tiempos de ejecución\n",
    "%timeit big.ravel()\n",
    "%timeit big.flatten()"
   ]
  },
  {
   "cell_type": "markdown",
   "id": "310b7dca",
   "metadata": {},
   "source": [
    "##### Explicación de la diferencia de velocidad\n",
    "###### La diferencia de velocidad se debe a cómo cada método maneja la memoria:  \n",
    "#### ravel() \n",
    "Devuelve una vista del array original siempre que sea posible. Esto significa que no copia los datos, solo crea una nueva forma de acceder a los mismos datos en memoria (operación O(1)).  \n",
    "#### flatten() \n",
    "Siempre crea una copia completa de los datos en un nuevo array contiguo en memoria (operación O(n)).  \n",
    "Por lo tanto, ravel() es significativamente más rápido porque evita la costosa operación de copiar millones de elementos. Esto es especialmente notable en arrays grandes como el del ejemplo."
   ]
  },
  {
   "cell_type": "code",
   "execution_count": 4,
   "id": "f832de12",
   "metadata": {},
   "outputs": [
    {
     "name": "stdout",
     "output_type": "stream",
     "text": [
      "ravel() comparte memoria: True\n",
      "flatten() comparte memoria: False\n"
     ]
    }
   ],
   "source": [
    "# Verificar si comparte memoria con el original\n",
    "view = big.ravel()\n",
    "copy = big.flatten()\n",
    "\n",
    "print(\"ravel() comparte memoria:\", view.base is big)  # Normalmente True\n",
    "print(\"flatten() comparte memoria:\", copy.base is big)  # Siempre False"
   ]
  },
  {
   "cell_type": "markdown",
   "id": "41a01b08",
   "metadata": {},
   "source": [
    "## 4 · Conclusiones  \n",
    "* El **broadcasting** permite operaciones vectorizadas sin expandir datos explícitamente.  \n",
    "* Funciones como `reshape` y `split` reordenan vistas con costo O(1).  \n",
    "* Verificar siempre si una operación produce **vista** o **copia** (`a.base is None`).  \n",
    "\n",
    "### Lecturas recomendadas\n",
    "* Johansson, *Numerical Python* (2024) — Cap. 2 y 3  \n",
    "* Lott & Phillips, *Python OOP* — Apéndice sobre NumPy  \n",
    "* Documentación oficial: https://numpy.org/doc/stable\n"
   ]
  }
 ],
 "metadata": {
  "kernelspec": {
   "display_name": "Programacion_2",
   "language": "python",
   "name": "python3"
  },
  "language_info": {
   "codemirror_mode": {
    "name": "ipython",
    "version": 3
   },
   "file_extension": ".py",
   "mimetype": "text/x-python",
   "name": "python",
   "nbconvert_exporter": "python",
   "pygments_lexer": "ipython3",
   "version": "3.12.9"
  }
 },
 "nbformat": 4,
 "nbformat_minor": 5
}
