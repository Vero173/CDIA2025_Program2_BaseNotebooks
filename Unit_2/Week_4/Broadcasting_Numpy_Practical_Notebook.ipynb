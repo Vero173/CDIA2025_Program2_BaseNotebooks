{
 "cells": [
  {
   "cell_type": "markdown",
   "id": "3ad1a445",
   "metadata": {},
   "source": [
    "# Broadcasting and Advanced NumPy Manipulation\n",
    "Programación II — Semana 2\n",
    "\n",
    "*Fecha de generación: 2025-05-20*"
   ]
  },
  {
   "cell_type": "markdown",
   "id": "7b76e2ad",
   "metadata": {},
   "source": [
    "## Objetivos de aprendizaje\n",
    "Al finalizar este notebook podrás:\n",
    "1. Explicar la **regla de broadcasting** y aplicarla a operaciones vectorizadas.\n",
    "2. Utilizar `reshape`, `concatenate`, `split` y vistas para reorganizar datos sin copiar memoria.\n",
    "3. Medir el impacto de **vistas** vs **copias** en rendimiento y uso de memoria.\n",
    "4. Resolver problemas prácticos de procesamiento NumPy sin bucles explícitos.\n"
   ]
  },
  {
   "cell_type": "markdown",
   "id": "3998e7f3",
   "metadata": {},
   "source": [
    "## 1 · Broadcasting en NumPy  \n",
    "Cuando operamos con arrays de distinta forma, NumPy **estira** las dimensiones de tamaño `1` para hacerlas compatibles.  \n",
    "**Regla:** se comparan shapes de **derecha a izquierda**.\n",
    "\n",
    "![](https://numpy.org/doc/stable/_images/broadcast.svg)\n",
    "\n"
   ]
  },
  {
   "cell_type": "code",
   "execution_count": null,
   "id": "11a9d86e",
   "metadata": {},
   "outputs": [],
   "source": [
    "import numpy as np\n",
    "\n",
    "A = np.arange(6).reshape(3,2)        # (3,2)\n",
    "B = np.array([10, 100])              # (2,)\n",
    "print(\"A =\\n\", A)\n",
    "print(\"B =\", B)\n",
    "print(\"A + B =\\n\", A + B)           # B se transmite sobre la primera dimensión\n"
   ]
  },
  {
   "cell_type": "markdown",
   "id": "e8b065d4",
   "metadata": {},
   "source": [
    "### 📝 Ejercicio 1  \n",
    "Convierte un vector `temp_f` de temperaturas en °F a °C usando broadcasting y la fórmula  \n",
    "\n",
    "\\[\n",
    "T_C = (T_F - 32) \\times \\frac{5}{9}\n",
    "\\]\n",
    "\n",
    "*Sin usar bucles ni comprensiones de listas.*"
   ]
  },
  {
   "cell_type": "code",
   "execution_count": null,
   "id": "32386d45",
   "metadata": {
    "tags": [
     "exercise"
    ]
   },
   "outputs": [],
   "source": [
    "# 👉 Tu código aquí\n",
    "import numpy as np\n",
    "\n",
    "temp_f = np.array([32, 68, 95, 104])  # ejemplo\n",
    "# tu solución:\n",
    "temp_c = ...\n",
    "print(temp_c)"
   ]
  },
  {
   "cell_type": "markdown",
   "id": "81a4d185",
   "metadata": {},
   "source": [
    "### 📝 Ejercicio 2  \n",
    "Dado un conjunto `P` de `n` puntos 2‑D y otro `Q` de `m` puntos 2‑D, calcula la matriz de distancias euclidianas \\(D\\in\\mathbb{R}^{n\\times m}\\) **sin usar bucles** (pista: broadcasting y sumas sobre ejes)."
   ]
  },
  {
   "cell_type": "code",
   "execution_count": null,
   "id": "17eb24cd",
   "metadata": {
    "tags": [
     "exercise"
    ]
   },
   "outputs": [],
   "source": [
    "# 👉 Tu código aquí\n",
    "P = np.random.rand(5,2)\n",
    "Q = np.random.rand(3,2)\n",
    "# tu solución:\n",
    "D = ...\n",
    "print(D.shape)  # debería ser (5,3)"
   ]
  },
  {
   "cell_type": "markdown",
   "id": "b191a416",
   "metadata": {},
   "source": [
    "## 2 · Manipulación avanzada de arrays"
   ]
  },
  {
   "cell_type": "code",
   "execution_count": null,
   "id": "05c3a5b0",
   "metadata": {},
   "outputs": [],
   "source": [
    "vec = np.arange(24)\n",
    "tensor = vec.reshape(2,3,4)   # O(1), sin copiar\n",
    "print(\"tensor shape:\", tensor.shape)\n",
    "flat = tensor.ravel()         # vista\n",
    "print(\"¿Comparte memoria?\", flat.base is tensor)\n"
   ]
  },
  {
   "cell_type": "markdown",
   "id": "3ea4620e",
   "metadata": {},
   "source": [
    "### 📝 Ejercicio 3  \n",
    "Reestructura `tensor` para que sus ejes queden con forma `(3,2,4)` **sin copiar** datos. Comprueba que la vista comparte memoria con el original."
   ]
  },
  {
   "cell_type": "code",
   "execution_count": null,
   "id": "7f3c01b5",
   "metadata": {
    "tags": [
     "exercise"
    ]
   },
   "outputs": [],
   "source": [
    "# 👉 Tu código aquí\n",
    "# tensor ya está en memoria\n",
    "tensor_swapped = ...\n",
    "print(tensor_swapped.shape)\n",
    "print(\"¿Comparte memoria?\", tensor_swapped.base is tensor)"
   ]
  },
  {
   "cell_type": "markdown",
   "id": "a730d329",
   "metadata": {},
   "source": [
    "### 📝 Ejercicio 4  \n",
    "Carga el dataset *Iris* disponible en NumPy (`np.loadtxt` o `sklearn.datasets.load_iris`) y  \n",
    "divide las 150 observaciones en un **80 % train / 20 % test** usando `np.split` (sin librerías externas)."
   ]
  },
  {
   "cell_type": "code",
   "execution_count": null,
   "id": "149f8777",
   "metadata": {
    "tags": [
     "exercise"
    ]
   },
   "outputs": [],
   "source": [
    "# 👉 Tu código aquí\n",
    "# pista:\n",
    "# data = np.loadtxt(\"iris.csv\", delimiter=\",\")\n",
    "# n_train = int(...)\n",
    "# train, test = np.split(...)\n"
   ]
  },
  {
   "cell_type": "markdown",
   "id": "8940423e",
   "metadata": {},
   "source": [
    "## 3 · Vistas, copias y `strides`"
   ]
  },
  {
   "cell_type": "code",
   "execution_count": null,
   "id": "aba6a768",
   "metadata": {},
   "outputs": [],
   "source": [
    "big = np.arange(1e7)          # ~80 MB\n",
    "view = big[::10]               # slicing, vista\n",
    "copy = big[::10].copy()        # copia\n",
    "print(\"Memoria view:\", view.nbytes/1e6, \"MB\")\n",
    "print(\"Memoria copy:\", copy.nbytes/1e6, \"MB\")"
   ]
  },
  {
   "cell_type": "markdown",
   "id": "e8ab37fe",
   "metadata": {},
   "source": [
    "### 📝 Ejercicio 5  \n",
    "Usa `%timeit` para comparar la velocidad de `big.ravel()` versus `big.flatten()`.  \n",
    "Explica por qué una es más rápida que la otra."
   ]
  },
  {
   "cell_type": "code",
   "execution_count": null,
   "id": "b3d78497",
   "metadata": {
    "tags": [
     "exercise"
    ]
   },
   "outputs": [],
   "source": [
    "# 👉 Tu código aquí\n",
    "# %timeit big.ravel()\n",
    "# %timeit big.flatten()\n"
   ]
  },
  {
   "cell_type": "markdown",
   "id": "41a01b08",
   "metadata": {},
   "source": [
    "## 4 · Conclusiones  \n",
    "* El **broadcasting** permite operaciones vectorizadas sin expandir datos explícitamente.  \n",
    "* Funciones como `reshape` y `split` reordenan vistas con costo O(1).  \n",
    "* Verificar siempre si una operación produce **vista** o **copia** (`a.base is None`).  \n",
    "\n",
    "### Lecturas recomendadas\n",
    "* Johansson, *Numerical Python* (2024) — Cap. 2 y 3  \n",
    "* Lott & Phillips, *Python OOP* — Apéndice sobre NumPy  \n",
    "* Documentación oficial: https://numpy.org/doc/stable\n"
   ]
  }
 ],
 "metadata": {},
 "nbformat": 4,
 "nbformat_minor": 5
}
