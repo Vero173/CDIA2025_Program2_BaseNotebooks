{
 "cells": [
  {
   "cell_type": "markdown",
   "metadata": {},
   "source": [
    "# 🧠 Programación II - Semana 2\n",
    "**Tema: Transformación de datos con NumPy y clasificación con KNN**\n",
    "Basado en el libro *Numerical Python* de Robert Johansson"
   ]
  },
  {
   "cell_type": "markdown",
   "id": "6291fe8d",
   "metadata": {},
   "source": [
    "## 🔢 Transformaciones de Arrays con NumPy"
   ]
  },
  {
   "cell_type": "code",
   "execution_count": 1,
   "metadata": {},
   "outputs": [
    {
     "name": "stdout",
     "output_type": "stream",
     "text": [
      "Array original:\n",
      "[[[ 0  1  2  3]\n",
      "  [ 4  5  6  7]\n",
      "  [ 8  9 10 11]]\n",
      "\n",
      " [[12 13 14 15]\n",
      "  [16 17 18 19]\n",
      "  [20 21 22 23]]]\n",
      "\n",
      "Media por eje 0: [[ 6.  7.  8.  9.]\n",
      " [10. 11. 12. 13.]\n",
      " [14. 15. 16. 17.]]\n",
      "\n",
      "Media por eje 1: [[ 4.  5.  6.  7.]\n",
      " [16. 17. 18. 19.]]\n",
      "\n",
      "Media por eje 2: [[ 1.5  5.5  9.5]\n",
      " [13.5 17.5 21.5]]\n"
     ]
    }
   ],
   "source": [
    "import numpy as np\n",
    "\n",
    "# Array 3D ejemplo\n",
    "array3d = np.arange(24).reshape(2, 3, 4)\n",
    "print(\"Array original:\")\n",
    "print(array3d)\n",
    "\n",
    "# Estadísticas por ejes\n",
    "print(\"\\nMedia por eje 0:\", np.mean(array3d, axis=0))\n",
    "print(\"\\nMedia por eje 1:\", np.mean(array3d, axis=1))\n",
    "print(\"\\nMedia por eje 2:\", np.mean(array3d, axis=2))"
   ]
  },
  {
   "cell_type": "markdown",
   "id": "7f0a84e1",
   "metadata": {},
   "source": [
    "## ✅ Operaciones con axis"
   ]
  },
  {
   "cell_type": "code",
   "execution_count": 2,
   "id": "dd1fde98",
   "metadata": {},
   "outputs": [
    {
     "name": "stdout",
     "output_type": "stream",
     "text": [
      "Media por columnas: [183.33333333 210.         240.        ]\n",
      "Desviación por filas: [20.54804668 24.49489743 24.49489743]\n",
      "Mínimos por fila: [200 180 170]\n",
      "Máximos por columna: [200 220 250]\n",
      "Varianza por columnas: [155.55555556  66.66666667  66.66666667]\n"
     ]
    }
   ],
   "source": [
    "# Ejemplo de operaciones estadísticas en matrices\n",
    "# Matriz de ejemplo\n",
    "ventas = np.array([\n",
    "    [200, 220, 250],\n",
    "    [180, 210, 240],\n",
    "    [170, 200, 230]\n",
    "])\n",
    "\n",
    "# Media por columnas (promedio por mes)\n",
    "media_columnas = np.mean(ventas, axis=0)\n",
    "print(\"Media por columnas:\", media_columnas)\n",
    "\n",
    "# Desviación estándar por filas (variabilidad por producto)\n",
    "desviacion_filas = np.std(ventas, axis=1)\n",
    "print(\"Desviación por filas:\", desviacion_filas)\n",
    "\n",
    "# Mínimo por eje\n",
    "min_filas = np.min(ventas, axis=1)\n",
    "print(\"Mínimos por fila:\", min_filas)\n",
    "\n",
    "# Máximo por eje\n",
    "max_columnas = np.max(ventas, axis=0)\n",
    "print(\"Máximos por columna:\", max_columnas)\n",
    "\n",
    "# Varianza por eje\n",
    "varianza_columnas = np.var(ventas, axis=0)\n",
    "print(\"Varianza por columnas:\", varianza_columnas)\n"
   ]
  },
  {
   "cell_type": "markdown",
   "id": "db771d5a",
   "metadata": {},
   "source": [
    "## 🔎 Uso de argmin() y argmax()"
   ]
  },
  {
   "cell_type": "code",
   "execution_count": 3,
   "id": "29e419df",
   "metadata": {},
   "outputs": [
    {
     "name": "stdout",
     "output_type": "stream",
     "text": [
      "Índice de máximo por fila: [2 2 2]\n",
      "Índice de mínimo por columna: [2 2 2]\n"
     ]
    }
   ],
   "source": [
    "# Índices del valor máximo por fila\n",
    "idx_max_filas = np.argmax(ventas, axis=1)\n",
    "print(\"Índice de máximo por fila:\", idx_max_filas)\n",
    "\n",
    "# Índices del valor mínimo por columna\n",
    "idx_min_columnas = np.argmin(ventas, axis=0)\n",
    "print(\"Índice de mínimo por columna:\", idx_min_columnas)\n"
   ]
  },
  {
   "cell_type": "markdown",
   "id": "a2ff8f1d",
   "metadata": {},
   "source": [
    "## 🔄 Transformaciones de forma"
   ]
  },
  {
   "cell_type": "code",
   "execution_count": 4,
   "id": "7a9e71a1",
   "metadata": {},
   "outputs": [
    {
     "name": "stdout",
     "output_type": "stream",
     "text": [
      "Flatten: [ 0  1  2  3  4  5  6  7  8  9 10 11]\n",
      "Ravel: [ 0  1  2  3  4  5  6  7  8  9 10 11]\n",
      "Reshape: [[ 0  1  2  3  4  5]\n",
      " [ 6  7  8  9 10 11]]\n"
     ]
    }
   ],
   "source": [
    "# Array original\n",
    "arr = np.arange(12).reshape(3, 4)\n",
    "\n",
    "# Flatten: convierte a 1D\n",
    "flattened = arr.flatten()\n",
    "print(\"Flatten:\", flattened)\n",
    "\n",
    "# Ravel: igual a flatten pero más eficiente\n",
    "raveled = arr.ravel()\n",
    "print(\"Ravel:\", raveled)\n",
    "\n",
    "# Reshape: de (3, 4) a (2, 6)\n",
    "reshaped = arr.reshape(2, 6)\n",
    "print(\"Reshape:\", reshaped)\n"
   ]
  },
  {
   "cell_type": "markdown",
   "id": "d42ddd6d",
   "metadata": {},
   "source": [
    "## 🔄 Concatenación y Apilamiento"
   ]
  },
  {
   "cell_type": "code",
   "execution_count": 5,
   "id": "9d552084",
   "metadata": {},
   "outputs": [
    {
     "name": "stdout",
     "output_type": "stream",
     "text": [
      "Concatenación vertical:\n",
      " [[1 2]\n",
      " [3 4]\n",
      " [5 6]\n",
      " [7 8]]\n",
      "Concatenación horizontal:\n",
      " [[1 2 5 6]\n",
      " [3 4 7 8]]\n",
      "Stack eje 0:\n",
      " [[[1 2]\n",
      "  [3 4]]\n",
      "\n",
      " [[5 6]\n",
      "  [7 8]]]\n",
      "vstack:\n",
      " [[1 2]\n",
      " [3 4]\n",
      " [5 6]\n",
      " [7 8]]\n",
      "hstack:\n",
      " [[1 2 5 6]\n",
      " [3 4 7 8]]\n"
     ]
    }
   ],
   "source": [
    "a = np.array([[1, 2], [3, 4]])\n",
    "b = np.array([[5, 6], [7, 8]])\n",
    "\n",
    "# Concatenar verticalmente\n",
    "concat_v = np.concatenate([a, b], axis=0)\n",
    "print(\"Concatenación vertical:\\n\", concat_v)\n",
    "\n",
    "# Concatenar horizontalmente\n",
    "concat_h = np.concatenate([a, b], axis=1)\n",
    "print(\"Concatenación horizontal:\\n\", concat_h)\n",
    "\n",
    "# Stack: crea un nuevo eje\n",
    "stacked = np.stack([a, b], axis=0)\n",
    "print(\"Stack eje 0:\\n\", stacked)\n",
    "\n",
    "# vstack y hstack\n",
    "vstacked = np.vstack([a, b])\n",
    "hstacked = np.hstack([a, b])\n",
    "print(\"vstack:\\n\", vstacked)\n",
    "print(\"hstack:\\n\", hstacked)\n"
   ]
  },
  {
   "cell_type": "markdown",
   "id": "e337123d",
   "metadata": {},
   "source": [
    "## 🔁 Inversión con np.flip()"
   ]
  },
  {
   "cell_type": "code",
   "execution_count": 6,
   "id": "cad10cfb",
   "metadata": {},
   "outputs": [
    {
     "name": "stdout",
     "output_type": "stream",
     "text": [
      "Filas invertidas:\n",
      " [[3 4]\n",
      " [1 2]]\n",
      "Columnas invertidas:\n",
      " [[2 1]\n",
      " [4 3]]\n"
     ]
    }
   ],
   "source": [
    "# Invertir filas\n",
    "flip_filas = np.flip(a, axis=0)\n",
    "print(\"Filas invertidas:\\n\", flip_filas)\n",
    "\n",
    "# Invertir columnas\n",
    "flip_columnas = np.flip(a, axis=1)\n",
    "print(\"Columnas invertidas:\\n\", flip_columnas)\n"
   ]
  },
  {
   "cell_type": "markdown",
   "metadata": {},
   "source": [
    "# 🔍 Clasificación con KNN (Dataset Iris)"
   ]
  },
  {
   "cell_type": "markdown",
   "id": "3e8e76ae",
   "metadata": {},
   "source": [
    "# 🧠 Algoritmo KNN desde cero con NumPy – Guía Teórica + Matemática\n",
    "\n",
    "## 1. Cargar el dataset\n",
    "Importar el archivo `Iris.csv` y extraer las características numéricas $X \\in \\mathbb{R}^{n \\times d}$ y las etiquetas categóricas $y \\in \\{0, 1, ..., C-1\\}$, donde:\n",
    "- $n$: número de ejemplos,\n",
    "- $d$: número de características,\n",
    "- $C$: número de clases.\n",
    "\n"
   ]
  },
  {
   "cell_type": "code",
   "execution_count": 3,
   "id": "13e65773",
   "metadata": {},
   "outputs": [
    {
     "name": "stdout",
     "output_type": "stream",
     "text": [
      "Primeras 5 filas:\n",
      "   Id  SepalLengthCm  SepalWidthCm  PetalLengthCm  PetalWidthCm      Species\n",
      "0   1            5.1           3.5            1.4           0.2  Iris-setosa\n",
      "1   2            4.9           3.0            1.4           0.2  Iris-setosa\n",
      "2   3            4.7           3.2            1.3           0.2  Iris-setosa\n",
      "3   4            4.6           3.1            1.5           0.2  Iris-setosa\n",
      "4   5            5.0           3.6            1.4           0.2  Iris-setosa\n"
     ]
    }
   ],
   "source": [
    "\n",
    "import numpy as np\n",
    "import pandas as pd\n",
    "import matplotlib.pyplot as plt\n",
    "\n",
    "# Cargar el dataset\n",
    "data = pd.read_csv('Iris.csv')  # Ajusta la ruta si es necesario\n",
    "print(\"Primeras 5 filas:\")\n",
    "print(data.head())\n",
    "\n",
    "# Extraer características y etiquetas\n",
    "X = data.iloc[:, 1:5].values  # Asumiendo que las características están en columnas 1-4\n",
    "y = data['Species'].values    # "
   ]
  },
  {
   "cell_type": "markdown",
   "id": "b4f03369",
   "metadata": {},
   "source": [
    "## 2. Preprocesamiento\n",
    "Transformar las etiquetas categóricas a valores numéricos utilizando codificación ordinal. El resultado será un vector $y \\in \\mathbb{N}^n$.\n",
    "\n"
   ]
  },
  {
   "cell_type": "code",
   "execution_count": 4,
   "id": "697d8f5c",
   "metadata": {},
   "outputs": [
    {
     "name": "stdout",
     "output_type": "stream",
     "text": [
      "Etiquetas originales: ['Iris-setosa' 'Iris-versicolor' 'Iris-virginica']\n",
      "Etiquetas convertidas: [0 1 2]\n"
     ]
    }
   ],
   "source": [
    "# Convertir etiquetas categóricas a numéricas\n",
    "especies_unicas = np.unique(y)\n",
    "y_numerico = np.zeros(len(y), dtype=int)\n",
    "\n",
    "for i, especie in enumerate(especies_unicas):\n",
    "    y_numerico[y == especie] = i\n",
    "\n",
    "print(\"Etiquetas originales:\", especies_unicas)\n",
    "print(\"Etiquetas convertidas:\", np.unique(y_numerico))\n",
    "\n",
    "# Podríamos normalizar las características, pero lo omitiremos por ahora"
   ]
  },
  {
   "cell_type": "markdown",
   "id": "4d72a7e5",
   "metadata": {},
   "source": [
    "## 3. División del dataset\n",
    "Separar el dataset en entrenamiento y prueba:\n",
    "- $X_{\\text{train}}, y_{\\text{train}}$\n",
    "- $X_{\\text{test}}, y_{\\text{test}}$\n",
    "\n",
    "\n"
   ]
  },
  {
   "cell_type": "code",
   "execution_count": 5,
   "id": "483b9d64",
   "metadata": {},
   "outputs": [
    {
     "name": "stdout",
     "output_type": "stream",
     "text": [
      "Tamaño del conjunto de entrenamiento: 105\n",
      "Tamaño del conjunto de prueba: 45\n"
     ]
    }
   ],
   "source": [
    "# Dividir el dataset en conjuntos de entrenamiento y prueba (70% - 30%)\n",
    "np.random.seed(42)  # Para reproducibilidad\n",
    "indices = np.random.permutation(len(X))\n",
    "n_train = int(0.7 * len(X))\n",
    "\n",
    "# Obtener los índices de entrenamiento y prueba\n",
    "train_idx = indices[:n_train]\n",
    "test_idx = indices[n_train:]\n",
    "\n",
    "# Dividir los datos\n",
    "X_train = X[train_idx]\n",
    "y_train = y_numerico[train_idx]\n",
    "X_test = X[test_idx]\n",
    "y_test = y_numerico[test_idx]\n",
    "\n",
    "print(f\"Tamaño del conjunto de entrenamiento: {X_train.shape[0]}\")\n",
    "print(f\"Tamaño del conjunto de prueba: {X_test.shape[0]}\")"
   ]
  },
  {
   "cell_type": "markdown",
   "id": "864575d9",
   "metadata": {},
   "source": [
    "## 4. Cálculo de distancias\n",
    "\n",
    "Para cada ejemplo de prueba $\\mathbf{x} \\in X_{\\text{test}}$, calcular su distancia a cada punto de entrenamiento $\\mathbf{x}_i \\in X_{\\text{train}}$ mediante la **distancia euclidiana**:\n",
    "\n",
    "$$\n",
    "d(\\mathbf{x}, \\mathbf{x}_i) = \\sqrt{\\sum_{j=1}^d (x_j - x_{i,j})^2}\n",
    "$$\n",
    "\n"
   ]
  },
  {
   "cell_type": "markdown",
   "id": "56ce13fd",
   "metadata": {},
   "source": [
    "## 5. Selección de los $k$ vecinos más cercanos\n",
    "\n",
    "Ordenar todas las distancias y tomar los índices de los $k$ menores valores:\n",
    "\n",
    "$$\n",
    "\\text{vecinos}(\\mathbf{x}) = \\text{argsort}(d(\\mathbf{x}, \\mathbf{x}_i))[:k]\n",
    "$$\n",
    "\n"
   ]
  },
  {
   "cell_type": "markdown",
   "id": "01b5f07a",
   "metadata": {},
   "source": [
    "## 6. Votación mayoritaria\n",
    "\n",
    "Para la predicción de $\\hat{y}$, usar la clase más frecuente entre los vecinos:\n",
    "\n",
    "$$\n",
    "\\hat{y} = \\arg\\max_{c \\in \\{0, \\dots, C-1\\}} \\sum_{i \\in \\text{vecinos}(\\mathbf{x})} \\mathbf{1}[y_i = c]\n",
    "$$\n",
    "\n",
    "Donde $\\mathbf{1}[\\cdot]$ es la función indicadora.\n",
    "\n"
   ]
  },
  {
   "cell_type": "markdown",
   "id": "cd4fb097",
   "metadata": {},
   "source": [
    "## 7. Evaluación del modelo\n",
    "\n",
    "Comparar $\\hat{y}$ con $y_{\\text{test}}$ y calcular la **exactitud (accuracy)** como:\n",
    "\n",
    "$$\n",
    "\\text{Accuracy} = \\frac{1}{n_{\\text{test}}} \\sum_{i=1}^{n_{\\text{test}}} \\mathbf{1}[\\hat{y}_i = y_i]\n",
    "$$"
   ]
  },
  {
   "cell_type": "code",
   "execution_count": 6,
   "id": "70abef32",
   "metadata": {},
   "outputs": [
    {
     "name": "stdout",
     "output_type": "stream",
     "text": [
      "Exactitud del modelo KNN con k=3: 0.9778\n",
      "\n",
      "Matriz de Confusión:\n",
      "[[10  0  0]\n",
      " [ 0 17  0]\n",
      " [ 0  1 17]]\n"
     ]
    },
    {
     "data": {
      "image/png": "[encoded data removed]",
      "text/plain": [
       "<Figure size 1000x600 with 1 Axes>"
      ]
     },
     "metadata": {},
     "output_type": "display_data"
    }
   ],
   "source": [
    "def calcular_distancias(x, X_train):\n",
    "    \"\"\"Calcula las distancias euclidianas entre un punto x y todos los puntos en X_train.\"\"\"\n",
    "    return np.sqrt(np.sum((X_train - x)**2, axis=1))\n",
    "\n",
    "def knn_predict(X_train, y_train, x_test, k=5):\n",
    "    \"\"\"Predice la clase de x_test usando los k vecinos más cercanos.\"\"\"\n",
    "    # Calcular distancias\n",
    "    distancias = calcular_distancias(x_test, X_train)\n",
    "\n",
    "    # Obtener los índices de los k vecinos más cercanos\n",
    "    k_vecinos_indices = np.argsort(distancias)[:k]\n",
    "\n",
    "    # Obtener las clases de los k vecinos más cercanos\n",
    "    k_vecinos_clases = y_train[k_vecinos_indices]\n",
    "\n",
    "    # Determinar la clase más frecuente (votación mayoritaria)\n",
    "    clases, conteos = np.unique(k_vecinos_clases, return_counts=True)\n",
    "    return clases[np.argmax(conteos)]\n",
    "def predecir_conjunto(X_train, y_train, X_test, k=5):\n",
    "    \"\"\"Predice las clases para todo el conjunto X_test.\"\"\"\n",
    "    y_pred = np.zeros(len(X_test), dtype=int)\n",
    "\n",
    "    for i, x_test in enumerate(X_test):\n",
    "        y_pred[i] = knn_predict(X_train, y_train, x_test, k)\n",
    "\n",
    "    return y_pred\n",
    "\n",
    "# Predecir clases para el conjunto de prueba\n",
    "k = 3  # Número de vecinos a considerar\n",
    "y_pred = predecir_conjunto(X_train, y_train, X_test, k)\n",
    "\n",
    "# Calcular la exactitud (accuracy)\n",
    "accuracy = np.mean(y_pred == y_test)\n",
    "print(f\"Exactitud del modelo KNN con k={k}: {accuracy:.4f}\")\n",
    "\n",
    "# Mostrar matriz de confusión\n",
    "def matriz_confusion(y_true, y_pred, n_clases):\n",
    "    \"\"\"Calcula la matriz de confusión.\"\"\"\n",
    "    conf_matrix = np.zeros((n_clases, n_clases), dtype=int)\n",
    "    for i in range(len(y_true)):\n",
    "        conf_matrix[y_true[i]][y_pred[i]] += 1\n",
    "    return conf_matrix\n",
    "\n",
    "n_clases = len(especies_unicas)\n",
    "conf_matrix = matriz_confusion(y_test, y_pred, n_clases)\n",
    "print(\"\\nMatriz de Confusión:\")\n",
    "print(conf_matrix)\n",
    "# Implementación simple de PCA para visualización\n",
    "def simple_pca(X, n_components=2):\n",
    "    \"\"\"Implementa PCA básico con NumPy.\"\"\"\n",
    "    # Centrar datos\n",
    "    X_centered = X - np.mean(X, axis=0)\n",
    "\n",
    "    # Calcular matriz de covarianza\n",
    "    cov_matrix = np.cov(X_centered, rowvar=False)\n",
    "\n",
    "    # Obtener valores y vectores propios\n",
    "    eigen_values, eigen_vectors = np.linalg.eigh(cov_matrix)\n",
    "\n",
    "    # Ordenar de mayor a menor\n",
    "    idx = np.argsort(eigen_values)[::-1]\n",
    "    eigen_vectors = eigen_vectors[:, idx]\n",
    "\n",
    "    # Seleccionar los primeros n_components vectores\n",
    "    components = eigen_vectors[:, :n_components]\n",
    "\n",
    "    # Proyectar datos\n",
    "    X_pca = np.dot(X_centered, components)\n",
    "\n",
    "    return X_pca\n",
    "\n",
    "# Reducir dimensionalidad para visualización\n",
    "X_pca = simple_pca(X, n_components=2)\n",
    "\n",
    "# Graficar resultados\n",
    "plt.figure(figsize=(10, 6))\n",
    "colors = ['red', 'green', 'blue']\n",
    "markers = ['o', 's', '^']\n",
    "\n",
    "for i, especie in enumerate(especies_unicas):\n",
    "    plt.scatter(X_pca[y_numerico == i, 0], X_pca[y_numerico == i, 1],\n",
    "               c=colors[i], marker=markers[i], label=especie)\n",
    "\n",
    "plt.title('Visualización de especies Iris con PCA')\n",
    "plt.xlabel('Componente Principal 1')\n",
    "plt.ylabel('Componente Principal 2')\n",
    "plt.legend()\n",
    "plt.grid(True, alpha=0.3)\n",
    "plt.show()"
   ]
  },
  {
   "cell_type": "markdown",
   "metadata": {},
   "source": [
    "## 🧪 Retos adicionales para estudiantes (no resolver en clase)\n",
    "- Cambia el valor de `k` y analiza los resultados.\n",
    "- Usa `np.argmax` y `np.argmin` en arrays aleatorios.\n",
    "- Normaliza el dataset Iris manualmente con `np.mean` y `np.std` usando `axis=0`."
   ]
  },
  {
   "cell_type": "code",
   "execution_count": 7,
   "id": "f5aa7d85",
   "metadata": {},
   "outputs": [
    {
     "name": "stdout",
     "output_type": "stream",
     "text": [
      "Exactitud con k=1: 0.9778\n",
      "Exactitud con k=3: 0.9778\n",
      "Exactitud con k=5: 0.9778\n",
      "Exactitud con k=7: 0.9778\n",
      "Exactitud con k=9: 0.9778\n"
     ]
    },
    {
     "data": {
      "image/png": "[encoded data removed]",
      "text/plain": [
       "<Figure size 800x500 with 1 Axes>"
      ]
     },
     "metadata": {},
     "output_type": "display_data"
    },
    {
     "name": "stdout",
     "output_type": "stream",
     "text": [
      "Array aleatorio:\n",
      "[[51 92 14 71 60]\n",
      " [20 82 86 74 74]\n",
      " [87 99 23  2 21]\n",
      " [52  1 87 29 37]]\n",
      "\n",
      "Índice del máximo por fila: [1 2 1 2]\n",
      "Índice del máximo por columna: [2 2 3 1 1]\n",
      "\n",
      "Índice del mínimo por fila: [2 0 3 1]\n",
      "Índice del mínimo por columna: [1 3 0 2 2]\n"
     ]
    }
   ],
   "source": [
    "# 1. Cambiar el valor de k y analizar los resultados\n",
    "resultados = {}\n",
    "for k_valor in [1, 3, 5, 7, 9]:\n",
    "    y_pred = predecir_conjunto(X_train, y_train, X_test, k=k_valor)\n",
    "    acc = np.mean(y_pred == y_test)\n",
    "    resultados[k_valor] = acc\n",
    "    print(f\"Exactitud con k={k_valor}: {acc:.4f}\")\n",
    "\n",
    "# Visualizar los resultados\n",
    "plt.figure(figsize=(8, 5))\n",
    "ks = list(resultados.keys())\n",
    "accs = list(resultados.values())\n",
    "plt.plot(ks, accs, 'o-', linewidth=2, markersize=10)\n",
    "plt.xlabel('Valor de k')\n",
    "plt.ylabel('Exactitud')\n",
    "plt.title('Exactitud del clasificador KNN para diferentes valores de k')\n",
    "plt.xticks(ks)\n",
    "plt.grid(True, alpha=0.3)\n",
    "plt.show()\n",
    "\n",
    "# 2. Usar np.argmax y np.argmin en arrays aleatorios\n",
    "np.random.seed(42)\n",
    "array_aleatorio = np.random.randint(0, 100, (4, 5))\n",
    "print(\"Array aleatorio:\")\n",
    "print(array_aleatorio)\n",
    "\n",
    "# Índice del valor máximo por fila y columna\n",
    "idx_max_fila = np.argmax(array_aleatorio, axis=1)\n",
    "idx_max_col = np.argmax(array_aleatorio, axis=0)\n",
    "print(\"\\nÍndice del máximo por fila:\", idx_max_fila)\n",
    "print(\"Índice del máximo por columna:\", idx_max_col)\n",
    "\n",
    "# Índice del valor mínimo por fila y columna\n",
    "idx_min_fila = np.argmin(array_aleatorio, axis=1)\n",
    "idx_min_col = np.argmin(array_aleatorio, axis=0)\n",
    "print(\"\\nÍndice del mínimo por fila:\", idx_min_fila)\n",
    "print(\"Índice del mínimo por columna:\", idx_min_col)\n",
    "\n",
    "# 3. Normalizar el dataset Iris manualmente\n",
    "def normalizar_datos(X):\n",
    "    \"\"\"Normaliza los datos usando la técnica z-score: (x - media) / desviación estándar\"\"\""
   ]
  },
  {
   "cell_type": "markdown",
   "id": "4ef94079",
   "metadata": {},
   "source": [
    "# Ejercicio en Diapositivas\n"
   ]
  },
  {
   "attachments": {
    "image.png": {
     "image/png": "[encoded data removed]"
    }
   },
   "cell_type": "markdown",
   "id": "3c098592",
   "metadata": {},
   "source": [
    "\n",
    "![image.png](attachment:image.png)"
   ]
  },
  {
   "cell_type": "code",
   "execution_count": 3,
   "id": "6ca00ca6",
   "metadata": {},
   "outputs": [],
   "source": [
    "import numpy as np"
   ]
  },
  {
   "cell_type": "code",
   "execution_count": 8,
   "id": "1246afbe",
   "metadata": {},
   "outputs": [
    {
     "name": "stdout",
     "output_type": "stream",
     "text": [
      "[[28 30 27]\n",
      " [25 27 26]\n",
      " [33 35 34]]\n"
     ]
    }
   ],
   "source": [
    "temperaturas=[[28,30,27],[25,27,26],[33,35,34]]\n",
    "\n",
    "\n",
    "temperaturas_np=np.array(temperaturas)\n",
    "print(temperaturas_np)"
   ]
  },
  {
   "cell_type": "code",
   "execution_count": 10,
   "id": "19d5752e",
   "metadata": {},
   "outputs": [
    {
     "name": "stdout",
     "output_type": "stream",
     "text": [
      "[30 27 35]\n"
     ]
    }
   ],
   "source": [
    "max_temp_c=np.max(temperaturas_np,axis=1)\n",
    "print(max_temp_c)"
   ]
  },
  {
   "cell_type": "code",
   "execution_count": 11,
   "id": "28d03d7f",
   "metadata": {},
   "outputs": [
    {
     "name": "stdout",
     "output_type": "stream",
     "text": [
      "[25 27 26]\n"
     ]
    }
   ],
   "source": [
    "max_temp_d=np.min(temperaturas_np,axis=0)\n",
    "print(max_temp_d)"
   ]
  },
  {
   "cell_type": "markdown",
   "id": "64bdc015",
   "metadata": {},
   "source": [
    "### Normalizar, convertir los valores entre 0 y 1\n"
   ]
  },
  {
   "cell_type": "code",
   "execution_count": 13,
   "id": "a0ccde62",
   "metadata": {},
   "outputs": [
    {
     "data": {
      "text/plain": [
       "np.int64(35)"
      ]
     },
     "execution_count": 13,
     "metadata": {},
     "output_type": "execute_result"
    }
   ],
   "source": [
    "max_array=np.max(temperaturas_np)\n",
    "max_array"
   ]
  },
  {
   "cell_type": "code",
   "execution_count": 14,
   "id": "c8be5809",
   "metadata": {},
   "outputs": [
    {
     "data": {
      "text/plain": [
       "np.int64(25)"
      ]
     },
     "execution_count": 14,
     "metadata": {},
     "output_type": "execute_result"
    }
   ],
   "source": [
    "min_array=np.min(temperaturas_np)\n",
    "min_array"
   ]
  },
  {
   "attachments": {
    "image.png": {
     "image/png": "[encoded data removed]"
    }
   },
   "cell_type": "markdown",
   "id": "b121b197",
   "metadata": {},
   "source": [
    "![image.png](attachment:image.png)"
   ]
  },
  {
   "cell_type": "code",
   "execution_count": 21,
   "id": "c15db5cb",
   "metadata": {},
   "outputs": [
    {
     "data": {
      "text/plain": [
       "np.int64(10)"
      ]
     },
     "execution_count": 21,
     "metadata": {},
     "output_type": "execute_result"
    }
   ],
   "source": [
    "rank=max_array-min_array\n",
    "rank"
   ]
  },
  {
   "cell_type": "code",
   "execution_count": 22,
   "id": "4452ea6d",
   "metadata": {},
   "outputs": [
    {
     "name": "stdout",
     "output_type": "stream",
     "text": [
      "[[ 3  5  2]\n",
      " [ 0  2  1]\n",
      " [ 8 10  9]]\n"
     ]
    }
   ],
   "source": [
    "array_norm_p=temperaturas_np-min_array\n",
    "print(array_norm_p)"
   ]
  },
  {
   "cell_type": "code",
   "execution_count": 25,
   "id": "fb889efc",
   "metadata": {},
   "outputs": [
    {
     "name": "stdout",
     "output_type": "stream",
     "text": [
      "[[0.3 0.5 0.2]\n",
      " [0.  0.2 0.1]\n",
      " [0.8 1.  0.9]]\n"
     ]
    }
   ],
   "source": [
    "array_norm=array_norm_p/rank\n",
    "\n",
    "print(array_norm)"
   ]
  }
 ],
 "metadata": {
  "kernelspec": {
   "display_name": "Programacion_2",
   "language": "python",
   "name": "python3"
  },
  "language_info": {
   "codemirror_mode": {
    "name": "ipython",
    "version": 3
   },
   "file_extension": ".py",
   "mimetype": "text/x-python",
   "name": "python",
   "nbconvert_exporter": "python",
   "pygments_lexer": "ipython3",
   "version": "3.12.9"
  }
 },
 "nbformat": 4,
 "nbformat_minor": 5
}
