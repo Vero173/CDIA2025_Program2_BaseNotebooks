{
 "cells": [
  {
   "cell_type": "markdown",
   "metadata": {},
   "source": [
    "# 🧠 Programación II - Semana 2\n",
    "**Tema: Transformación de datos con NumPy y clasificación con KNN**\n",
    "Basado en el libro *Numerical Python* de Robert Johansson"
   ]
  },
  {
   "cell_type": "markdown",
   "id": "6291fe8d",
   "metadata": {},
   "source": [
    "## 🔢 Transformaciones de Arrays con NumPy"
   ]
  },
  {
   "cell_type": "code",
   "execution_count": null,
   "metadata": {},
   "outputs": [],
   "source": [
    "import numpy as np\n",
    "\n",
    "# Array 3D ejemplo\n",
    "array3d = np.arange(24).reshape(2, 3, 4)\n",
    "print(\"Array original:\")\n",
    "print(array3d)\n",
    "\n",
    "# Estadísticas por ejes\n",
    "print(\"\\nMedia por eje 0:\", np.mean(array3d, axis=0))\n",
    "print(\"\\nMedia por eje 1:\", np.mean(array3d, axis=1))\n",
    "print(\"\\nMedia por eje 2:\", np.mean(array3d, axis=2))"
   ]
  },
  {
   "cell_type": "markdown",
   "id": "7f0a84e1",
   "metadata": {},
   "source": [
    "## ✅ Operaciones con axis"
   ]
  },
  {
   "cell_type": "code",
   "execution_count": null,
   "id": "dd1fde98",
   "metadata": {},
   "outputs": [],
   "source": [
    "# Ejemplo de operaciones estadísticas en matrices\n",
    "# Matriz de ejemplo\n",
    "ventas = np.array([\n",
    "    [200, 220, 250],\n",
    "    [180, 210, 240],\n",
    "    [170, 200, 230]\n",
    "])\n",
    "\n",
    "# Media por columnas (promedio por mes)\n",
    "media_columnas = np.mean(ventas, axis=0)\n",
    "print(\"Media por columnas:\", media_columnas)\n",
    "\n",
    "# Desviación estándar por filas (variabilidad por producto)\n",
    "desviacion_filas = np.std(ventas, axis=1)\n",
    "print(\"Desviación por filas:\", desviacion_filas)\n",
    "\n",
    "# Mínimo por eje\n",
    "min_filas = np.min(ventas, axis=1)\n",
    "print(\"Mínimos por fila:\", min_filas)\n",
    "\n",
    "# Máximo por eje\n",
    "max_columnas = np.max(ventas, axis=0)\n",
    "print(\"Máximos por columna:\", max_columnas)\n",
    "\n",
    "# Varianza por eje\n",
    "varianza_columnas = np.var(ventas, axis=0)\n",
    "print(\"Varianza por columnas:\", varianza_columnas)\n"
   ]
  },
  {
   "cell_type": "markdown",
   "id": "db771d5a",
   "metadata": {},
   "source": [
    "## 🔎 Uso de argmin() y argmax()"
   ]
  },
  {
   "cell_type": "code",
   "execution_count": null,
   "id": "29e419df",
   "metadata": {},
   "outputs": [],
   "source": [
    "# Índices del valor máximo por fila\n",
    "idx_max_filas = np.argmax(ventas, axis=1)\n",
    "print(\"Índice de máximo por fila:\", idx_max_filas)\n",
    "\n",
    "# Índices del valor mínimo por columna\n",
    "idx_min_columnas = np.argmin(ventas, axis=0)\n",
    "print(\"Índice de mínimo por columna:\", idx_min_columnas)\n"
   ]
  },
  {
   "cell_type": "markdown",
   "id": "a2ff8f1d",
   "metadata": {},
   "source": [
    "## 🔄 Transformaciones de forma"
   ]
  },
  {
   "cell_type": "code",
   "execution_count": null,
   "id": "7a9e71a1",
   "metadata": {},
   "outputs": [],
   "source": [
    "# Array original\n",
    "arr = np.arange(12).reshape(3, 4)\n",
    "\n",
    "# Flatten: convierte a 1D\n",
    "flattened = arr.flatten()\n",
    "print(\"Flatten:\", flattened)\n",
    "\n",
    "# Ravel: igual a flatten pero más eficiente\n",
    "raveled = arr.ravel()\n",
    "print(\"Ravel:\", raveled)\n",
    "\n",
    "# Reshape: de (3, 4) a (2, 6)\n",
    "reshaped = arr.reshape(2, 6)\n",
    "print(\"Reshape:\", reshaped)\n"
   ]
  },
  {
   "cell_type": "markdown",
   "id": "d42ddd6d",
   "metadata": {},
   "source": [
    "## 🔄 Concatenación y Apilamiento"
   ]
  },
  {
   "cell_type": "code",
   "execution_count": null,
   "id": "9d552084",
   "metadata": {},
   "outputs": [],
   "source": [
    "a = np.array([[1, 2], [3, 4]])\n",
    "b = np.array([[5, 6], [7, 8]])\n",
    "\n",
    "# Concatenar verticalmente\n",
    "concat_v = np.concatenate([a, b], axis=0)\n",
    "print(\"Concatenación vertical:\\n\", concat_v)\n",
    "\n",
    "# Concatenar horizontalmente\n",
    "concat_h = np.concatenate([a, b], axis=1)\n",
    "print(\"Concatenación horizontal:\\n\", concat_h)\n",
    "\n",
    "# Stack: crea un nuevo eje\n",
    "stacked = np.stack([a, b], axis=0)\n",
    "print(\"Stack eje 0:\\n\", stacked)\n",
    "\n",
    "# vstack y hstack\n",
    "vstacked = np.vstack([a, b])\n",
    "hstacked = np.hstack([a, b])\n",
    "print(\"vstack:\\n\", vstacked)\n",
    "print(\"hstack:\\n\", hstacked)\n"
   ]
  },
  {
   "cell_type": "markdown",
   "id": "e337123d",
   "metadata": {},
   "source": [
    "## 🔁 Inversión con np.flip()"
   ]
  },
  {
   "cell_type": "code",
   "execution_count": null,
   "id": "cad10cfb",
   "metadata": {},
   "outputs": [],
   "source": [
    "# Invertir filas\n",
    "flip_filas = np.flip(a, axis=0)\n",
    "print(\"Filas invertidas:\\n\", flip_filas)\n",
    "\n",
    "# Invertir columnas\n",
    "flip_columnas = np.flip(a, axis=1)\n",
    "print(\"Columnas invertidas:\\n\", flip_columnas)\n"
   ]
  },
  {
   "cell_type": "markdown",
   "metadata": {},
   "source": [
    "# 🔍 Clasificación con KNN (Dataset Iris)"
   ]
  },
  {
   "cell_type": "markdown",
   "id": "3e8e76ae",
   "metadata": {},
   "source": [
    "# 🧠 Algoritmo KNN desde cero con NumPy – Guía Teórica + Matemática\n",
    "\n",
    "## 1. Cargar el dataset\n",
    "Importar el archivo `Iris.csv` y extraer las características numéricas $X \\in \\mathbb{R}^{n \\times d}$ y las etiquetas categóricas $y \\in \\{0, 1, ..., C-1\\}$, donde:\n",
    "- $n$: número de ejemplos,\n",
    "- $d$: número de características,\n",
    "- $C$: número de clases.\n",
    "\n"
   ]
  },
  {
   "cell_type": "code",
   "execution_count": null,
   "id": "13e65773",
   "metadata": {},
   "outputs": [],
   "source": []
  },
  {
   "cell_type": "markdown",
   "id": "b4f03369",
   "metadata": {},
   "source": [
    "## 2. Preprocesamiento\n",
    "Transformar las etiquetas categóricas a valores numéricos utilizando codificación ordinal. El resultado será un vector $y \\in \\mathbb{N}^n$.\n",
    "\n"
   ]
  },
  {
   "cell_type": "code",
   "execution_count": null,
   "id": "697d8f5c",
   "metadata": {},
   "outputs": [],
   "source": []
  },
  {
   "cell_type": "markdown",
   "id": "4d72a7e5",
   "metadata": {},
   "source": [
    "## 3. División del dataset\n",
    "Separar el dataset en entrenamiento y prueba:\n",
    "- $X_{\\text{train}}, y_{\\text{train}}$\n",
    "- $X_{\\text{test}}, y_{\\text{test}}$\n",
    "\n",
    "\n"
   ]
  },
  {
   "cell_type": "code",
   "execution_count": null,
   "id": "483b9d64",
   "metadata": {},
   "outputs": [],
   "source": []
  },
  {
   "cell_type": "markdown",
   "id": "864575d9",
   "metadata": {},
   "source": [
    "## 4. Cálculo de distancias\n",
    "\n",
    "Para cada ejemplo de prueba $\\mathbf{x} \\in X_{\\text{test}}$, calcular su distancia a cada punto de entrenamiento $\\mathbf{x}_i \\in X_{\\text{train}}$ mediante la **distancia euclidiana**:\n",
    "\n",
    "$$\n",
    "d(\\mathbf{x}, \\mathbf{x}_i) = \\sqrt{\\sum_{j=1}^d (x_j - x_{i,j})^2}\n",
    "$$\n",
    "\n"
   ]
  },
  {
   "cell_type": "code",
   "execution_count": null,
   "id": "10641589",
   "metadata": {},
   "outputs": [],
   "source": []
  },
  {
   "cell_type": "markdown",
   "id": "56ce13fd",
   "metadata": {},
   "source": [
    "## 5. Selección de los $k$ vecinos más cercanos\n",
    "\n",
    "Ordenar todas las distancias y tomar los índices de los $k$ menores valores:\n",
    "\n",
    "$$\n",
    "\\text{vecinos}(\\mathbf{x}) = \\text{argsort}(d(\\mathbf{x}, \\mathbf{x}_i))[:k]\n",
    "$$\n",
    "\n"
   ]
  },
  {
   "cell_type": "code",
   "execution_count": null,
   "id": "3dfde412",
   "metadata": {},
   "outputs": [],
   "source": []
  },
  {
   "cell_type": "markdown",
   "id": "01b5f07a",
   "metadata": {},
   "source": [
    "## 6. Votación mayoritaria\n",
    "\n",
    "Para la predicción de $\\hat{y}$, usar la clase más frecuente entre los vecinos:\n",
    "\n",
    "$$\n",
    "\\hat{y} = \\arg\\max_{c \\in \\{0, \\dots, C-1\\}} \\sum_{i \\in \\text{vecinos}(\\mathbf{x})} \\mathbf{1}[y_i = c]\n",
    "$$\n",
    "\n",
    "Donde $\\mathbf{1}[\\cdot]$ es la función indicadora.\n",
    "\n"
   ]
  },
  {
   "cell_type": "code",
   "execution_count": null,
   "id": "10c9fbe3",
   "metadata": {},
   "outputs": [],
   "source": []
  },
  {
   "cell_type": "markdown",
   "id": "cd4fb097",
   "metadata": {},
   "source": [
    "## 7. Evaluación del modelo\n",
    "\n",
    "Comparar $\\hat{y}$ con $y_{\\text{test}}$ y calcular la **exactitud (accuracy)** como:\n",
    "\n",
    "$$\n",
    "\\text{Accuracy} = \\frac{1}{n_{\\text{test}}} \\sum_{i=1}^{n_{\\text{test}}} \\mathbf{1}[\\hat{y}_i = y_i]\n",
    "$$"
   ]
  },
  {
   "cell_type": "code",
   "execution_count": null,
   "id": "70abef32",
   "metadata": {},
   "outputs": [],
   "source": []
  },
  {
   "cell_type": "markdown",
   "metadata": {},
   "source": [
    "## 🧪 Retos adicionales para estudiantes (no resolver en clase)\n",
    "- Cambia el valor de `k` y analiza los resultados.\n",
    "- Usa `np.argmax` y `np.argmin` en arrays aleatorios.\n",
    "- Normaliza el dataset Iris manualmente con `np.mean` y `np.std` usando `axis=0`."
   ]
  },
  {
   "cell_type": "code",
   "execution_count": null,
   "id": "f5aa7d85",
   "metadata": {},
   "outputs": [],
   "source": []
  },
  {
   "cell_type": "markdown",
   "id": "4ef94079",
   "metadata": {},
   "source": [
    "# Ejercicio en Diapositivas\n"
   ]
  },
  {
   "attachments": {
    "image.png": {
     "image/png": "[encoded data removed]"
    }
   },
   "cell_type": "markdown",
   "id": "3c098592",
   "metadata": {},
   "source": [
    "\n",
    "![image.png](attachment:image.png)"
   ]
  },
  {
   "cell_type": "code",
   "execution_count": 3,
   "id": "6ca00ca6",
   "metadata": {},
   "outputs": [],
   "source": [
    "import numpy as np"
   ]
  },
  {
   "cell_type": "code",
   "execution_count": 8,
   "id": "1246afbe",
   "metadata": {},
   "outputs": [
    {
     "name": "stdout",
     "output_type": "stream",
     "text": [
      "[[28 30 27]\n",
      " [25 27 26]\n",
      " [33 35 34]]\n"
     ]
    }
   ],
   "source": [
    "temperaturas=[[28,30,27],[25,27,26],[33,35,34]]\n",
    "\n",
    "\n",
    "temperaturas_np=np.array(temperaturas)\n",
    "print(temperaturas_np)"
   ]
  },
  {
   "cell_type": "code",
   "execution_count": 10,
   "id": "19d5752e",
   "metadata": {},
   "outputs": [
    {
     "name": "stdout",
     "output_type": "stream",
     "text": [
      "[30 27 35]\n"
     ]
    }
   ],
   "source": [
    "max_temp_c=np.max(temperaturas_np,axis=1)\n",
    "print(max_temp_c)"
   ]
  },
  {
   "cell_type": "code",
   "execution_count": 11,
   "id": "28d03d7f",
   "metadata": {},
   "outputs": [
    {
     "name": "stdout",
     "output_type": "stream",
     "text": [
      "[25 27 26]\n"
     ]
    }
   ],
   "source": [
    "max_temp_d=np.min(temperaturas_np,axis=0)\n",
    "print(max_temp_d)"
   ]
  },
  {
   "cell_type": "markdown",
   "id": "64bdc015",
   "metadata": {},
   "source": [
    "### Normalizar, convertir los valores entre 0 y 1\n"
   ]
  },
  {
   "cell_type": "code",
   "execution_count": 13,
   "id": "a0ccde62",
   "metadata": {},
   "outputs": [
    {
     "data": {
      "text/plain": [
       "np.int64(35)"
      ]
     },
     "execution_count": 13,
     "metadata": {},
     "output_type": "execute_result"
    }
   ],
   "source": [
    "max_array=np.max(temperaturas_np)\n",
    "max_array"
   ]
  },
  {
   "cell_type": "code",
   "execution_count": 14,
   "id": "c8be5809",
   "metadata": {},
   "outputs": [
    {
     "data": {
      "text/plain": [
       "np.int64(25)"
      ]
     },
     "execution_count": 14,
     "metadata": {},
     "output_type": "execute_result"
    }
   ],
   "source": [
    "min_array=np.min(temperaturas_np)\n",
    "min_array"
   ]
  },
  {
   "attachments": {
    "image.png": {
     "image/png": "[encoded data removed]"
    }
   },
   "cell_type": "markdown",
   "id": "b121b197",
   "metadata": {},
   "source": [
    "![image.png](attachment:image.png)"
   ]
  },
  {
   "cell_type": "code",
   "execution_count": 21,
   "id": "c15db5cb",
   "metadata": {},
   "outputs": [
    {
     "data": {
      "text/plain": [
       "np.int64(10)"
      ]
     },
     "execution_count": 21,
     "metadata": {},
     "output_type": "execute_result"
    }
   ],
   "source": [
    "rank=max_array-min_array\n",
    "rank"
   ]
  },
  {
   "cell_type": "code",
   "execution_count": 22,
   "id": "4452ea6d",
   "metadata": {},
   "outputs": [
    {
     "name": "stdout",
     "output_type": "stream",
     "text": [
      "[[ 3  5  2]\n",
      " [ 0  2  1]\n",
      " [ 8 10  9]]\n"
     ]
    }
   ],
   "source": [
    "array_norm_p=temperaturas_np-min_array\n",
    "print(array_norm_p)"
   ]
  },
  {
   "cell_type": "code",
   "execution_count": 25,
   "id": "fb889efc",
   "metadata": {},
   "outputs": [
    {
     "name": "stdout",
     "output_type": "stream",
     "text": [
      "[[0.3 0.5 0.2]\n",
      " [0.  0.2 0.1]\n",
      " [0.8 1.  0.9]]\n"
     ]
    }
   ],
   "source": [
    "array_norm=array_norm_p/rank\n",
    "\n",
    "print(array_norm)"
   ]
  }
 ],
 "metadata": {
  "kernelspec": {
   "display_name": "Programacion_2",
   "language": "python",
   "name": "python3"
  },
  "language_info": {
   "codemirror_mode": {
    "name": "ipython",
    "version": 3
   },
   "file_extension": ".py",
   "mimetype": "text/x-python",
   "name": "python",
   "nbconvert_exporter": "python",
   "pygments_lexer": "ipython3",
   "version": "3.12.9"
  }
 },
 "nbformat": 4,
 "nbformat_minor": 5
}
