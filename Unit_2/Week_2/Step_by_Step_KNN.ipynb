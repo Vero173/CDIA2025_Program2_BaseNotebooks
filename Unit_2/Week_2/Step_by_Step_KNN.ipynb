{
 "cells": [
  {
   "cell_type": "markdown",
   "id": "8894c66f",
   "metadata": {},
   "source": [
    "# KNN Iris.csv"
   ]
  },
  {
   "cell_type": "markdown",
   "id": "53ced8fc",
   "metadata": {},
   "source": [
    "## 📄 1. Cargar y procesar el archivo Iris.csv con NumPy"
   ]
  },
  {
   "cell_type": "code",
   "execution_count": null,
   "id": "cac7be29",
   "metadata": {},
   "outputs": [],
   "source": [
    "import numpy as np\n",
    "\n",
    "# Cargar el archivo CSV como texto\n",
    "data = np.genfromtxt(\"Iris.csv\", delimiter=\",\", dtype=str, skip_header=1)\n",
    "\n",
    "# Extraer características (columnas 1 a 4)\n",
    "X = data[:, 1:5].astype(float)\n",
    "\n",
    "# Extraer etiquetas (columna 5)\n",
    "y_raw = data[:, 5]\n",
    "\n",
    "# Codificar etiquetas manualmente\n",
    "classes, y = np.unique(y_raw, return_inverse=True)\n",
    "\n",
    "print(\"Clases:\", classes)\n",
    "print(\"Etiquetas codificadas:\", y)"
   ]
  },
  {
   "cell_type": "markdown",
   "id": "f7031585",
   "metadata": {},
   "source": [
    "## 🔀 2. Mezclar y dividir los datos"
   ]
  },
  {
   "cell_type": "code",
   "execution_count": null,
   "id": "9b693090",
   "metadata": {},
   "outputs": [],
   "source": [
    "# Asegúrate de que X esté definido ejecutando la celda donde se carga y procesa el archivo Iris.csv\n",
    "\n",
    "np.random.seed(42)\n",
    "indices = np.random.permutation(len(X))\n",
    "train_size = int(0.7 * len(X))\n",
    "\n",
    "X_train = X[indices[:train_size]]\n",
    "y_train = y[indices[:train_size]]\n",
    "X_test = X[indices[train_size:]]\n",
    "y_test = y[indices[train_size:]]\n"
   ]
  },
  {
   "cell_type": "markdown",
   "id": "c2aeecb8",
   "metadata": {},
   "source": [
    "## 📐 3. Implementar KNN en NumPy "
   ]
  },
  {
   "cell_type": "code",
   "execution_count": null,
   "id": "c83a3edb",
   "metadata": {},
   "outputs": [],
   "source": [
    "def euclidean_distance(x1, x2):\n",
    "    return np.sqrt(np.sum((x1 - x2) ** 2))\n",
    "\n",
    "def knn_predict(X_train, y_train, x_test, k=3):\n",
    "    distances = np.sqrt(np.sum((X_train - x_test) ** 2, axis=1))\n",
    "    nearest_indices = np.argsort(distances)[:k]\n",
    "    nearest_labels = y_train[nearest_indices]\n",
    "    # Conteo de clases\n",
    "    labels, counts = np.unique(nearest_labels, return_counts=True)\n",
    "    return labels[np.argmax(counts)]\n"
   ]
  },
  {
   "cell_type": "markdown",
   "id": "071f9c69",
   "metadata": {},
   "source": [
    "##  4. Hacer predicciones y calcular precisión"
   ]
  },
  {
   "cell_type": "code",
   "execution_count": null,
   "id": "b4160405",
   "metadata": {},
   "outputs": [],
   "source": [
    "y_pred = np.array([knn_predict(X_train, y_train, x, k=3) for x in X_test])\n",
    "accuracy = np.mean(y_pred == y_test)\n",
    "\n",
    "print(f\"Exactitud total: {accuracy:.2%}\")\n"
   ]
  }
 ],
 "metadata": {
  "kernelspec": {
   "display_name": "Programacion_2",
   "language": "python",
   "name": "python3"
  },
  "language_info": {
   "codemirror_mode": {
    "name": "ipython",
    "version": 3
   },
   "file_extension": ".py",
   "mimetype": "text/x-python",
   "name": "python",
   "nbconvert_exporter": "python",
   "pygments_lexer": "ipython3",
   "version": "3.12.9"
  }
 },
 "nbformat": 4,
 "nbformat_minor": 5
}
