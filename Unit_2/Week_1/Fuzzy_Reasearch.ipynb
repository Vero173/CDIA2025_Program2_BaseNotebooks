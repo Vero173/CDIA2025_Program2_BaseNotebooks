{
 "cells": [
  {
   "cell_type": "markdown",
   "id": "f9df3177",
   "metadata": {},
   "source": [
    "# 📓 Notebook: Inicio de Proyecto de Investigación Formativa\n",
    "# \"Desarrollo de una Mini Librería de Lógica Difusa en Python\"\n",
    "\n",
    "## 📅 Semana 1: Construcción de bases con NumPy y Programación Orientada a Objetos (POO)"
   ]
  },
  {
   "cell_type": "markdown",
   "id": "280835bb",
   "metadata": {},
   "source": [
    "## 🔄 Contexto Inicial\n",
    "\n",
    "> Aplicaremos conceptos de Programación Orientada a Objetos y manipulación de arrays en NumPy para iniciar el desarrollo de una librería de lógica difusa.\n",
    "\n",
    "**Objetivo:**\n",
    "- Crear clases básicas para representar conjuntos difusos y funciones de membresía.\n",
    "- Utilizar NumPy para operar sobre datos de forma eficiente."
   ]
  },
  {
   "cell_type": "markdown",
   "id": "b7549955",
   "metadata": {},
   "source": [
    "## 🔹 Sección 1: Repaso de Creación y Manipulación de Arrays"
   ]
  },
  {
   "cell_type": "code",
   "execution_count": null,
   "id": "cae6844e",
   "metadata": {},
   "outputs": [],
   "source": [
    "import numpy as np\n",
    "\n",
    "# Crear un array de 0 a 10\n",
    "valores = np.arange(0, 11)\n",
    "print(\"Valores:\", valores)\n",
    "\n",
    "# Aplicar una función de membresía triangular simple\n",
    "membresia = np.maximum(1 - np.abs(valores - 5)/5, 0)\n",
    "print(\"Membresía Triangular:\", membresia)\n",
    "\n",
    "# Graficar (requiere matplotlib)\n",
    "import matplotlib.pyplot as plt\n",
    "\n",
    "plt.plot(valores, membresia)\n",
    "plt.title(\"Función de Membresía Triangular\")\n",
    "plt.xlabel(\"Valor\")\n",
    "plt.ylabel(\"Grado de Membresía\")\n",
    "plt.grid(True)\n",
    "plt.show()"
   ]
  },
  {
   "cell_type": "markdown",
   "id": "f16ba9c1",
   "metadata": {},
   "source": [
    "## 🔹 Sección 2: Definiendo la clase `FuzzySet`"
   ]
  },
  {
   "cell_type": "code",
   "execution_count": null,
   "id": "3f943c7a",
   "metadata": {},
   "outputs": [],
   "source": [
    "class FuzzySet:\n",
    "    def __init__(self, universe, membership_function):\n",
    "        self.universe = np.array(universe)\n",
    "        self.membership_function = membership_function\n",
    "        self.membership_values = self.calculate_membership()\n",
    "\n",
    "    def calculate_membership(self):\n",
    "        return np.array([self.membership_function(x) for x in self.universe])\n",
    "\n",
    "    def plot(self):\n",
    "        plt.plot(self.universe, self.membership_values)\n",
    "        plt.title(\"Fuzzy Set\")\n",
    "        plt.xlabel(\"Universe\")\n",
    "        plt.ylabel(\"Membership Degree\")\n",
    "        plt.grid(True)\n",
    "        plt.show()\n",
    "\n"
   ]
  },
  {
   "cell_type": "code",
   "execution_count": null,
   "id": "2b542d13",
   "metadata": {},
   "outputs": [],
   "source": [
    "# Ejemplo de uso:\n",
    "def triangular(x, a=3, b=5, c=7):\n",
    "    return np.maximum(np.minimum((x-a)/(b-a), (c-x)/(c-b)), 0)\n",
    "\n",
    "universo = np.linspace(0, 10, 100)\n",
    "fuzzy_example = FuzzySet(universo, lambda x: triangular(x, 3, 5, 7))\n",
    "fuzzy_example.plot()"
   ]
  },
  {
   "cell_type": "markdown",
   "id": "3d7a9969",
   "metadata": {},
   "source": [
    "## 🔹 Sección 3: Actividades para los estudiantes\n",
    "\n",
    "### ✏️ Actividad 1:\n",
    "> Crear otra clase llamada `MembershipFunction` que permita definir funciones triangulares o trapezoidales."
   ]
  },
  {
   "cell_type": "code",
   "execution_count": 1,
   "id": "f90b75f8",
   "metadata": {},
   "outputs": [
    {
     "name": "stdout",
     "output_type": "stream",
     "text": [
      "1.0\n",
      "0.5\n",
      "1.0\n",
      "0.3333333333333333\n"
     ]
    }
   ],
   "source": [
    "class MembershipFunction:\n",
    "    def __init__(self, tipo, *puntos):\n",
    "        self.tipo = tipo.lower()\n",
    "        self.puntos = puntos\n",
    "\n",
    "        if self.tipo == \"triangular\" and len(puntos) != 3:\n",
    "            raise ValueError(\"Una función triangular debe tener exactamente 3 puntos (a, b, c).\")\n",
    "        elif self.tipo == \"trapezoidal\" and len(puntos) != 4:\n",
    "            raise ValueError(\"Una función trapezoidal debe tener exactamente 4 puntos (a, b, c, d).\")\n",
    "\n",
    "    def evaluar(self, x):\n",
    "        if self.tipo == \"triangular\":\n",
    "            a, b, c = self.puntos\n",
    "            if x <= a or x >= c:\n",
    "                return 0.0\n",
    "            elif a < x < b:\n",
    "                return (x - a) / (b - a)\n",
    "            elif b <= x < c:\n",
    "                return (c - x) / (c - b)\n",
    "            elif x == b:\n",
    "                return 1.0\n",
    "\n",
    "        elif self.tipo == \"trapezoidal\":\n",
    "            a, b, c, d = self.puntos\n",
    "            if x <= a or x >= d:\n",
    "                return 0.0\n",
    "            elif a < x < b:\n",
    "                return (x - a) / (b - a)\n",
    "            elif b <= x <= c:\n",
    "                return 1.0\n",
    "            elif c < x < d:\n",
    "                return (d - x) / (d - c)\n",
    "\n",
    "        else:\n",
    "            raise ValueError(\"Tipo de función desconocido.\")\n",
    "# Función triangular con vértices a=0, b=5, c=10\n",
    "tri = MembershipFunction(\"triangular\", 0, 5, 10)\n",
    "\n",
    "# Función trapezoidal con puntos a=0, b=3, c=7, d=10\n",
    "trap = MembershipFunction(\"trapezoidal\", 0, 3, 7, 10)\n",
    "\n",
    "# Evaluación de algunos valores\n",
    "print(tri.evaluar(5))   # → 1.0\n",
    "print(tri.evaluar(2.5)) # → 0.5\n",
    "print(trap.evaluar(5))  # → 1.0\n",
    "print(trap.evaluar(9))  # → 0.25\n"
   ]
  },
  {
   "cell_type": "markdown",
   "id": "22870ec7",
   "metadata": {},
   "source": [
    "### ✏️ Actividad 2:\n",
    "Crear un conjunto difuso que modele el concepto \"Temperatura Alta\" en el rango de 0 a 100.\n",
    "\n",
    "\n"
   ]
  },
  {
   "cell_type": "code",
   "execution_count": 2,
   "id": "eafb89b8",
   "metadata": {},
   "outputs": [
    {
     "name": "stdout",
     "output_type": "stream",
     "text": [
      "Temperatura: 50 → pertenencia: 0.00\n",
      "Temperatura: 65 → pertenencia: 0.50\n",
      "Temperatura: 75 → pertenencia: 1.00\n",
      "Temperatura: 85 → pertenencia: 1.00\n",
      "Temperatura: 95 → pertenencia: 0.50\n"
     ]
    }
   ],
   "source": [
    "# Usamos la clase previamente definida\n",
    "temperatura_alta = MembershipFunction(\"trapezoidal\", 60, 70, 90, 100)\n",
    "for temp in [50, 65, 75, 85, 95]:\n",
    "    pertenencia = temperatura_alta.evaluar(temp)\n",
    "    print(f\"Temperatura: {temp} → pertenencia: {pertenencia:.2f}\")\n"
   ]
  },
  {
   "cell_type": "markdown",
   "id": "8071effc",
   "metadata": {},
   "source": [
    "### ✏️ Actividad 3:\n",
    "> Investigar qué es la **operación de corte** (alpha-cut) en conjuntos difusos y cómo se podría implementar en NumPy."
   ]
  },
  {
   "cell_type": "code",
   "execution_count": 3,
   "id": "00d42a7e",
   "metadata": {},
   "outputs": [
    {
     "name": "stdout",
     "output_type": "stream",
     "text": [
      "α-corte (alpha = 0.5): [3 4]\n"
     ]
    }
   ],
   "source": [
    "x = [1, 2, 3, 4, 5]\n",
    "mu_A = [0.1, 0.4, 0.6, 0.9, 0.2]\n",
    "import numpy as np\n",
    "\n",
    "# Valores del universo\n",
    "x = np.array([1, 2, 3, 4, 5])\n",
    "# Grados de pertenencia\n",
    "mu_A = np.array([0.1, 0.4, 0.6, 0.9, 0.2])\n",
    "\n",
    "# Valor de alfa\n",
    "alpha = 0.5\n",
    "\n",
    "# Aplicación del α-corte\n",
    "A_alpha = x[mu_A >= alpha]\n",
    "\n",
    "print(\"α-corte (alpha = 0.5):\", A_alpha)\n"
   ]
  },
  {
   "cell_type": "markdown",
   "id": "a96286c8",
   "metadata": {},
   "source": [
    "## 🔹 Sección 4: Reflexión Final\n",
    "\n",
    "- ¿Cómo ayuda NumPy en la manipulación eficiente de datos para sistemas difusos?\n",
    "- ¿Por qué usar objetos y clases mejora la organización del código en proyectos científicos?\n",
    "\n",
    "\n",
    "⏳ *Próxima sesión: Operaciones entre conjuntos difusos: intersección, unión y complementación usando NumPy.*\n"
   ]
  },
  {
   "cell_type": "markdown",
   "id": "b5c5bd5b",
   "metadata": {},
   "source": [
    "1.NumPy facilita la manipulación eficiente de datos en sistemas difusos gracias a su capacidad para realizar operaciones vectorizadas, lo que significa que se pueden aplicar funciones y filtros a grandes cantidades de datos sin necesidad de bucles explícitos. Esto no solo mejora el rendimiento y la velocidad de cálculo, sino que también hace que el código sea más conciso y legible.\n",
    "\n",
    "En el contexto de conjuntos difusos, NumPy permite:\n",
    "\n",
    "Representar funciones de pertenencia como arrays.\n",
    "\n",
    "Realizar cortes difusos (α-cortes) de manera rápida.\n",
    "\n",
    "Combinar o comparar conjuntos mediante operaciones lógicas o matemáticas a nivel de array.  \n",
    "\n",
    "2.El uso de objetos y clases en programación (paradigma orientado a objetos) permite organizar mejor el código, especialmente en proyectos científicos donde suele haber:\n",
    "\n",
    "Múltiples tipos de entidades (por ejemplo, conjuntos difusos, funciones, reglas).\n",
    "\n",
    "Necesidad de reutilizar operaciones (como cortes, uniones o evaluaciones).\n",
    "\n",
    "Proyectos con crecimiento potencial y múltiples módulos."
   ]
  }
 ],
 "metadata": {
  "kernelspec": {
   "display_name": "Programacion_2",
   "language": "python",
   "name": "python3"
  },
  "language_info": {
   "codemirror_mode": {
    "name": "ipython",
    "version": 3
   },
   "file_extension": ".py",
   "mimetype": "text/x-python",
   "name": "python",
   "nbconvert_exporter": "python",
   "pygments_lexer": "ipython3",
   "version": "3.12.9"
  }
 },
 "nbformat": 4,
 "nbformat_minor": 5
}
