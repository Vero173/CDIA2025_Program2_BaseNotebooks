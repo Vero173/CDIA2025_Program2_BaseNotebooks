{
 "cells": [
  {
   "cell_type": "markdown",
   "id": "f9df3177",
   "metadata": {},
   "source": [
    "# 📓 Notebook: Inicio de Proyecto de Investigación Formativa\n",
    "# \"Desarrollo de una Mini Librería de Lógica Difusa en Python\"\n",
    "\n",
    "## 📅 Semana 1: Construcción de bases con NumPy y Programación Orientada a Objetos (POO)"
   ]
  },
  {
   "cell_type": "markdown",
   "id": "280835bb",
   "metadata": {},
   "source": [
    "## 🔄 Contexto Inicial\n",
    "\n",
    "> Aplicaremos conceptos de Programación Orientada a Objetos y manipulación de arrays en NumPy para iniciar el desarrollo de una librería de lógica difusa.\n",
    "\n",
    "**Objetivo:**\n",
    "- Crear clases básicas para representar conjuntos difusos y funciones de membresía.\n",
    "- Utilizar NumPy para operar sobre datos de forma eficiente."
   ]
  },
  {
   "cell_type": "markdown",
   "id": "b7549955",
   "metadata": {},
   "source": [
    "## 🔹 Sección 1: Repaso de Creación y Manipulación de Arrays"
   ]
  },
  {
   "cell_type": "code",
   "execution_count": null,
   "id": "cae6844e",
   "metadata": {},
   "outputs": [],
   "source": [
    "import numpy as np\n",
    "\n",
    "# Crear un array de 0 a 10\n",
    "valores = np.arange(0, 11)\n",
    "print(\"Valores:\", valores)\n",
    "\n",
    "# Aplicar una función de membresía triangular simple\n",
    "membresia = np.maximum(1 - np.abs(valores - 5)/5, 0)\n",
    "print(\"Membresía Triangular:\", membresia)\n",
    "\n",
    "# Graficar (requiere matplotlib)\n",
    "import matplotlib.pyplot as plt\n",
    "\n",
    "plt.plot(valores, membresia)\n",
    "plt.title(\"Función de Membresía Triangular\")\n",
    "plt.xlabel(\"Valor\")\n",
    "plt.ylabel(\"Grado de Membresía\")\n",
    "plt.grid(True)\n",
    "plt.show()"
   ]
  },
  {
   "cell_type": "markdown",
   "id": "f16ba9c1",
   "metadata": {},
   "source": [
    "## 🔹 Sección 2: Definiendo la clase `FuzzySet`"
   ]
  },
  {
   "cell_type": "code",
   "execution_count": null,
   "id": "3f943c7a",
   "metadata": {},
   "outputs": [],
   "source": [
    "class FuzzySet:\n",
    "    def __init__(self, universe, membership_function):\n",
    "        self.universe = np.array(universe)\n",
    "        self.membership_function = membership_function\n",
    "        self.membership_values = self.calculate_membership()\n",
    "\n",
    "    def calculate_membership(self):\n",
    "        return np.array([self.membership_function(x) for x in self.universe])\n",
    "\n",
    "    def plot(self):\n",
    "        plt.plot(self.universe, self.membership_values)\n",
    "        plt.title(\"Fuzzy Set\")\n",
    "        plt.xlabel(\"Universe\")\n",
    "        plt.ylabel(\"Membership Degree\")\n",
    "        plt.grid(True)\n",
    "        plt.show()\n",
    "\n"
   ]
  },
  {
   "cell_type": "code",
   "execution_count": null,
   "id": "2b542d13",
   "metadata": {},
   "outputs": [],
   "source": [
    "# Ejemplo de uso:\n",
    "def triangular(x, a=3, b=5, c=7):\n",
    "    return np.maximum(np.minimum((x-a)/(b-a), (c-x)/(c-b)), 0)\n",
    "\n",
    "universo = np.linspace(0, 10, 100)\n",
    "fuzzy_example = FuzzySet(universo, lambda x: triangular(x, 3, 5, 7))\n",
    "fuzzy_example.plot()"
   ]
  },
  {
   "cell_type": "markdown",
   "id": "3d7a9969",
   "metadata": {},
   "source": [
    "## 🔹 Sección 3: Actividades para los estudiantes\n",
    "\n",
    "### ✏️ Actividad 1:\n",
    "> Crear otra clase llamada `MembershipFunction` que permita definir funciones triangulares o trapezoidales."
   ]
  },
  {
   "cell_type": "code",
   "execution_count": null,
   "id": "f90b75f8",
   "metadata": {},
   "outputs": [],
   "source": []
  },
  {
   "cell_type": "markdown",
   "id": "22870ec7",
   "metadata": {},
   "source": [
    "### ✏️ Actividad 2:\n",
    "> Crear un conjunto difuso que modele el concepto \"Temperatura Alta\" en el rango de 0 a 100.\n",
    "\n",
    "\n"
   ]
  },
  {
   "cell_type": "code",
   "execution_count": null,
   "id": "eafb89b8",
   "metadata": {},
   "outputs": [],
   "source": []
  },
  {
   "cell_type": "markdown",
   "id": "8071effc",
   "metadata": {},
   "source": [
    "### ✏️ Actividad 3:\n",
    "> Investigar qué es la **operación de corte** (alpha-cut) en conjuntos difusos y cómo se podría implementar en NumPy."
   ]
  },
  {
   "cell_type": "code",
   "execution_count": null,
   "id": "00d42a7e",
   "metadata": {},
   "outputs": [],
   "source": []
  },
  {
   "cell_type": "markdown",
   "id": "a96286c8",
   "metadata": {},
   "source": [
    "## 🔹 Sección 4: Reflexión Final\n",
    "\n",
    "- ¿Cómo ayuda NumPy en la manipulación eficiente de datos para sistemas difusos?\n",
    "- ¿Por qué usar objetos y clases mejora la organización del código en proyectos científicos?\n",
    "\n",
    "\n",
    "⏳ *Próxima sesión: Operaciones entre conjuntos difusos: intersección, unión y complementación usando NumPy.*\n"
   ]
  }
 ],
 "metadata": {
  "kernelspec": {
   "display_name": "Program_2",
   "language": "python",
   "name": "python3"
  },
  "language_info": {
   "codemirror_mode": {
    "name": "ipython",
    "version": 3
   },
   "file_extension": ".py",
   "mimetype": "text/x-python",
   "name": "python",
   "nbconvert_exporter": "python",
   "pygments_lexer": "ipython3",
   "version": "3.12.9"
  }
 },
 "nbformat": 4,
 "nbformat_minor": 5
}
