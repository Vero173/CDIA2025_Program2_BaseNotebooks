{
 "cells": [
  {
   "cell_type": "markdown",
   "id": "7224bbd8",
   "metadata": {},
   "source": [
    "# Notebook: Instalación y Operaciones Básicas en NumPy"
   ]
  },
  {
   "cell_type": "markdown",
   "id": "34dee115",
   "metadata": {},
   "source": [
    "## Sección 1: Instalación y verificación"
   ]
  },
  {
   "cell_type": "code",
   "execution_count": 1,
   "id": "3c7c2f7b",
   "metadata": {},
   "outputs": [],
   "source": [
    "# (Este paso se realiza en consola, no en el notebook)\n",
    "\n",
    "# pip install numpy\n",
    "# conda install numpy"
   ]
  },
  {
   "cell_type": "markdown",
   "id": "758d3a6c",
   "metadata": {},
   "source": [
    "Verificar instalación desde Python:"
   ]
  },
  {
   "cell_type": "code",
   "execution_count": null,
   "id": "089d23f8",
   "metadata": {},
   "outputs": [],
   "source": [
    "import numpy as np\n",
    "print(\"NumPy version:\", np.__version__)"
   ]
  },
  {
   "cell_type": "markdown",
   "id": "bf9dfd9d",
   "metadata": {},
   "source": [
    "\n",
    "## 🧩 Sección 2: Creación de Arrays\n",
    "\n",
    "### 🔹 1. Array desde una lista"
   ]
  },
  {
   "cell_type": "code",
   "execution_count": null,
   "id": "aadf34b1",
   "metadata": {},
   "outputs": [],
   "source": [
    "array1 = np.array([1, 2, 3, 4, 5])\n",
    "print(\"Array desde lista:\", array1)"
   ]
  },
  {
   "cell_type": "markdown",
   "id": "af5b4aae",
   "metadata": {},
   "source": [
    "### 🔹 3. Array de unos"
   ]
  },
  {
   "cell_type": "code",
   "execution_count": null,
   "id": "bd211b1f",
   "metadata": {},
   "outputs": [],
   "source": [
    "ones_array = np.ones(5)\n",
    "print(\"Array de unos:\", ones_array)"
   ]
  },
  {
   "cell_type": "code",
   "execution_count": null,
   "id": "96a0ebe5",
   "metadata": {},
   "outputs": [
    {
     "ename": "NameError",
     "evalue": "name 'np' is not defined",
     "output_type": "error",
     "traceback": [
      "\u001b[31m---------------------------------------------------------------------------\u001b[39m",
      "\u001b[31mNameError\u001b[39m                                 Traceback (most recent call last)",
      "\u001b[36mCell\u001b[39m\u001b[36m \u001b[39m\u001b[32mIn[1]\u001b[39m\u001b[32m, line 1\u001b[39m\n\u001b[32m----> \u001b[39m\u001b[32m1\u001b[39m O_array=\u001b[43mnp\u001b[49m.zeros(\u001b[32m5\u001b[39m)\n\u001b[32m      2\u001b[39m \u001b[38;5;28mprint\u001b[39m(\u001b[33m\"\u001b[39m\u001b[33mArray de ceros:\u001b[39m\u001b[33m\"\u001b[39m, O_array)\n",
      "\u001b[31mNameError\u001b[39m: name 'np' is not defined"
     ]
    }
   ],
   "source": [
    "O_array =np.zeros(5)\n",
    "print(\"Array de ceros:\", O_array)"
   ]
  },
  {
   "cell_type": "code",
   "execution_count": null,
   "id": "12c6ac09",
   "metadata": {},
   "outputs": [],
   "source": [
    "o_array=np.ones(10)\n",
    "print(\"Array de unos:\", o_array)"
   ]
  },
  {
   "cell_type": "markdown",
   "id": "90040b97",
   "metadata": {},
   "source": [
    "### 🔹 4. Secuencia de valores"
   ]
  },
  {
   "cell_type": "code",
   "execution_count": null,
   "id": "164204b2",
   "metadata": {},
   "outputs": [],
   "source": [
    "sequence_array = np.arange(0, 10, 2)\n",
    "print(\"Array de secuencia:\", sequence_array)"
   ]
  },
  {
   "cell_type": "markdown",
   "id": "1947de09",
   "metadata": {},
   "source": [
    "### 🔹 5. Array bidimensional"
   ]
  },
  {
   "cell_type": "code",
   "execution_count": null,
   "id": "775d3e7a",
   "metadata": {},
   "outputs": [],
   "source": [
    "matrix_2d = np.array([[1, 2, 3], [4, 5, 6]])\n",
    "print(\"Matriz 2D:\", matrix_2d)"
   ]
  },
  {
   "cell_type": "code",
   "execution_count": 1,
   "id": "2b8871b6",
   "metadata": {},
   "outputs": [
    {
     "ename": "NameError",
     "evalue": "name 'np' is not defined",
     "output_type": "error",
     "traceback": [
      "\u001b[31m---------------------------------------------------------------------------\u001b[39m",
      "\u001b[31mNameError\u001b[39m                                 Traceback (most recent call last)",
      "\u001b[36mCell\u001b[39m\u001b[36m \u001b[39m\u001b[32mIn[1]\u001b[39m\u001b[32m, line 1\u001b[39m\n\u001b[32m----> \u001b[39m\u001b[32m1\u001b[39m matrix_2d = \u001b[43mnp\u001b[49m.array([[\u001b[32m1\u001b[39m, \u001b[32m2\u001b[39m, \u001b[32m3\u001b[39m], [\u001b[32m4\u001b[39m, \u001b[32m5\u001b[39m, \u001b[32m6\u001b[39m]])\n\u001b[32m      2\u001b[39m \u001b[38;5;28mprint\u001b[39m(\u001b[33m\"\u001b[39m\u001b[33mtamaño de la matriz 2D:\u001b[39m\u001b[33m\"\u001b[39m, matrix_2d.size)\n\u001b[32m      3\u001b[39m \u001b[38;5;28mprint\u001b[39m(\u001b[33m\"\u001b[39m\u001b[33mdimensiones de la matriz 2D:\u001b[39m\u001b[33m\"\u001b[39m, matrix_2d.ndim)\n",
      "\u001b[31mNameError\u001b[39m: name 'np' is not defined"
     ]
    }
   ],
   "source": [
    "matrix_2d = np.array([[1, 2, 3], [4, 5, 6]])\n",
    "print(\"tamaño de la matriz 2D:\", matrix_2d.size)\n",
    "print(\"dimensiones de la matriz 2D:\", matrix_2d.ndim)\n",
    "print(\"forma de la matriz 2D:\", matrix_2d.shape)"
   ]
  },
  {
   "cell_type": "markdown",
   "id": "b79b2df1",
   "metadata": {},
   "source": [
    "## 🧩 Sección 3: Operaciones Básicas con Arrays\n",
    "\n",
    "### 🔹 1. Suma y multiplicación"
   ]
  },
  {
   "cell_type": "code",
   "execution_count": null,
   "id": "6063dc44",
   "metadata": {},
   "outputs": [],
   "source": [
    "b = np.array([5, 6, 7, 8, 9])\n",
    "suma = array1 + b\n",
    "producto = array1 * b\n",
    "print(\"Suma de arrays:\", suma)\n",
    "print(\"Producto elemento a elemento:\", producto)"
   ]
  },
  {
   "cell_type": "markdown",
   "id": "531d1ad9",
   "metadata": {},
   "source": [
    "\n",
    "### 🔹 2. Funciones matemáticas"
   ]
  },
  {
   "cell_type": "code",
   "execution_count": null,
   "id": "bdb4af11",
   "metadata": {},
   "outputs": [],
   "source": [
    "raiz = np.sqrt(array1)\n",
    "seno = np.sin(array1)\n",
    "exponencial = np.exp(array1)\n",
    "print(\"Raíz cuadrada:\", raiz)\n",
    "print(\"Seno:\", seno)\n",
    "print(\"Exponencial:\", exponencial)"
   ]
  },
  {
   "cell_type": "markdown",
   "id": "0853e548",
   "metadata": {},
   "source": [
    "\n",
    "### 🔹 3. Estadísticas básicas"
   ]
  },
  {
   "cell_type": "code",
   "execution_count": null,
   "id": "bd80302c",
   "metadata": {},
   "outputs": [],
   "source": [
    "print(\"Media:\", np.mean(array1))\n",
    "print(\"Máximo:\", np.max(array1))\n",
    "print(\"Mínimo:\", np.min(array1))"
   ]
  },
  {
   "cell_type": "markdown",
   "id": "c27d0310",
   "metadata": {},
   "source": [
    "## 🧩 Sección 4: Manipulación de Arrays\n",
    "\n",
    "### 🔹 1. Cambio de forma (reshape)\n"
   ]
  },
  {
   "cell_type": "code",
   "execution_count": null,
   "id": "78c61e22",
   "metadata": {},
   "outputs": [],
   "source": [
    "reshaped_array = np.arange(6).reshape(3, 2)\n",
    "print(\"Array reestructurado:\", reshaped_array)"
   ]
  },
  {
   "cell_type": "markdown",
   "id": "eedeca03",
   "metadata": {},
   "source": [
    "### 🔹 2. Transposición"
   ]
  },
  {
   "cell_type": "code",
   "execution_count": null,
   "id": "bd488c55",
   "metadata": {},
   "outputs": [],
   "source": [
    "print(\"Transpuesto:\", reshaped_array.T)"
   ]
  },
  {
   "cell_type": "markdown",
   "id": "950cf654",
   "metadata": {},
   "source": [
    "### 🔹 3. Concatenación"
   ]
  },
  {
   "cell_type": "code",
   "execution_count": null,
   "id": "a0b0416a",
   "metadata": {},
   "outputs": [],
   "source": [
    "concat_array = np.concatenate([array1, b])\n",
    "print(\"Concatenación:\", concat_array)"
   ]
  },
  {
   "cell_type": "markdown",
   "id": "ee78edfe",
   "metadata": {},
   "source": [
    "### 🔹 4. División de arrays"
   ]
  },
  {
   "cell_type": "code",
   "execution_count": null,
   "id": "7f41123e",
   "metadata": {},
   "outputs": [],
   "source": []
  },
  {
   "cell_type": "code",
   "execution_count": null,
   "id": "52bbb814",
   "metadata": {},
   "outputs": [],
   "source": []
  },
  {
   "cell_type": "code",
   "execution_count": null,
   "id": "0f471efb",
   "metadata": {},
   "outputs": [],
   "source": [
    "split_array = np.split(array1, 5)\n",
    "print(\"División:\", split_array)"
   ]
  },
  {
   "cell_type": "markdown",
   "id": "1b929165",
   "metadata": {},
   "source": [
    "## 🧪 Sección 5: Ejercicios Extra para Clase\n",
    "\n",
    "### ✏️ Ejercicio 1:\n",
    "VERONICA ARGUDO\n",
    "MARCUS MAYORGA\n",
    "LUIS IRDOÑEZ\n"
   ]
  },
  {
   "cell_type": "code",
   "execution_count": 3,
   "id": "50d7ba78",
   "metadata": {},
   "outputs": [
    {
     "name": "stdout",
     "output_type": "stream",
     "text": [
      "[[ 1  2  3]\n",
      " [ 4  5  6]\n",
      " [ 7  8  9]\n",
      " [10 11 12]\n",
      " [13 14 15]]\n"
     ]
    }
   ],
   "source": [
    "import numpy as np\n",
    "\n",
    "\n",
    "array = np.arange(1, 16)\n",
    "\n",
    "\n",
    "matriz = array.reshape(5, 3)\n",
    "\n",
    "print(matriz)\n"
   ]
  },
  {
   "cell_type": "markdown",
   "id": "a8f52323",
   "metadata": {},
   "source": [
    "### ✏️ Ejercicio 2:\n",
    "> Crear una matriz identidad de 4x4.\n",
    "\n",
    "\n"
   ]
  },
  {
   "cell_type": "code",
   "execution_count": 4,
   "id": "15304cf7",
   "metadata": {},
   "outputs": [
    {
     "name": "stdout",
     "output_type": "stream",
     "text": [
      "Matriz identidad:\n",
      " [[1. 0. 0.]\n",
      " [0. 1. 0.]\n",
      " [0. 0. 1.]]\n"
     ]
    }
   ],
   "source": [
    "import numpy as np\n",
    "##matriz identidad\n",
    "matriz_identidad = np.eye(3)\n",
    "print(\"Matriz identidad:\\n\", matriz_identidad)\n"
   ]
  },
  {
   "cell_type": "markdown",
   "id": "8ee9caa9",
   "metadata": {},
   "source": [
    "### ✏️ Ejercicio 3:\n",
    "> Generar un array de 10 valores linealmente espaciados entre 0 y 5.\n",
    "\n"
   ]
  },
  {
   "cell_type": "code",
   "execution_count": null,
   "id": "904a9427",
   "metadata": {},
   "outputs": [
    {
     "name": "stdout",
     "output_type": "stream",
     "text": [
      "[0.         0.55555556 1.11111111 1.66666667 2.22222222 2.77777778\n",
      " 3.33333333 3.88888889 4.44444444 5.        ]\n"
     ]
    }
   ],
   "source": [
    "import numpy as np\n",
    "\n",
    "valores = np.linspace(0, 5, 10)\n",
    "print(valores)\n"
   ]
  },
  {
   "cell_type": "markdown",
   "id": "36af8532",
   "metadata": {},
   "source": [
    "### ✏️ Ejercicio 4:\n",
    "> Concatenar dos arrays 1D y dividir el resultado en tres partes iguales.\n",
    "\n"
   ]
  },
  {
   "cell_type": "code",
   "execution_count": null,
   "id": "72a1c5cf",
   "metadata": {},
   "outputs": [
    {
     "name": "stdout",
     "output_type": "stream",
     "text": [
      "Parte 1: [1 2]\n",
      "Parte 2: [3 4]\n",
      "Parte 3: [5 6]\n"
     ]
    }
   ],
   "source": [
    "import numpy as np\n",
    "\n",
    "\n",
    "a = np.array([1, 2, 3])\n",
    "b = np.array([4, 5, 6])\n",
    "\n",
    "\n",
    "c = np.concatenate((a, b))  \n",
    "\n",
    "\n",
    "partes = np.split(c, 3)\n",
    "\n",
    "\n",
    "for i, parte in enumerate(partes):\n",
    "    print(f\"Parte {i+1}:\", parte)\n"
   ]
  },
  {
   "cell_type": "markdown",
   "id": "5d5feba8",
   "metadata": {},
   "source": [
    "### ✏️ Ejercicio 5:\n",
    "> Crear un array de 10 números aleatorios entre 0 y 1. Calcular su media y desviación estándar.\n",
    "\n"
   ]
  },
  {
   "cell_type": "code",
   "execution_count": null,
   "id": "c7288e8f",
   "metadata": {},
   "outputs": [
    {
     "name": "stdout",
     "output_type": "stream",
     "text": [
      "Array: [0.82040595 0.68363851 0.12106802 0.95326062 0.66758647 0.20218216\n",
      " 0.34309678 0.25017105 0.93707956 0.65629173]\n",
      "Media: 0.5634780837773656\n",
      "Desviación estándar: 0.29400722785796574\n"
     ]
    }
   ],
   "source": [
    "import numpy as np\n",
    "\n",
    "\n",
    "arr = np.random.rand(10)\n",
    "\n",
    "\n",
    "media = np.mean(arr)\n",
    "\n",
    "\n",
    "desviacion = np.std(arr)\n",
    "\n",
    "\n",
    "print(\"Array:\", arr)\n",
    "print(\"Media:\", media)\n",
    "print(\"Desviación estándar:\", desviacion)\n"
   ]
  },
  {
   "cell_type": "markdown",
   "id": "f0e6f033",
   "metadata": {},
   "source": [
    "### 🔥 Ejercicio 6 (Desafío):\n",
    "> Crear una función que reciba un array y devuelva otro array normalizado entre 0 y 1 (es decir, valores entre el mínimo y máximo del array)."
   ]
  },
  {
   "cell_type": "code",
   "execution_count": 8,
   "id": "2fab837c",
   "metadata": {},
   "outputs": [
    {
     "name": "stdout",
     "output_type": "stream",
     "text": [
      "Original: [ 4  8 15 16 23 42]\n",
      "Normalizado: [0.         0.10526316 0.28947368 0.31578947 0.5        1.        ]\n"
     ]
    }
   ],
   "source": [
    "import numpy as np\n",
    "\n",
    "def normalizar_array(arr):\n",
    "    minimo = np.min(arr)\n",
    "    maximo = np.max(arr)\n",
    "    if maximo == minimo:\n",
    "        return np.zeros_like(arr)  \n",
    "    return (arr - minimo) / (maximo - minimo)\n",
    "\n",
    "\n",
    "arr = np.array([4, 8, 15, 16, 23, 42])\n",
    "normalizado = normalizar_array(arr)\n",
    "\n",
    "print(\"Original:\", arr)\n",
    "print(\"Normalizado:\", normalizado)\n"
   ]
  }
 ],
 "metadata": {
  "kernelspec": {
   "display_name": "Programacion_2",
   "language": "python",
   "name": "python3"
  },
  "language_info": {
   "codemirror_mode": {
    "name": "ipython",
    "version": 3
   },
   "file_extension": ".py",
   "mimetype": "text/x-python",
   "name": "python",
   "nbconvert_exporter": "python",
   "pygments_lexer": "ipython3",
   "version": "3.12.9"
  }
 },
 "nbformat": 4,
 "nbformat_minor": 5
}
