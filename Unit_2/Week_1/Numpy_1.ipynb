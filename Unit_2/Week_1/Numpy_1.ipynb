{
 "cells": [
  {
   "cell_type": "markdown",
   "id": "7224bbd8",
   "metadata": {},
   "source": [
    "# Notebook: Instalación y Operaciones Básicas en NumPy"
   ]
  },
  {
   "cell_type": "markdown",
   "id": "34dee115",
   "metadata": {},
   "source": [
    "## Sección 1: Instalación y verificación"
   ]
  },
  {
   "cell_type": "code",
   "execution_count": 1,
   "id": "3c7c2f7b",
   "metadata": {},
   "outputs": [],
   "source": [
    "# (Este paso se realiza en consola, no en el notebook)\n",
    "\n",
    "# pip install numpy\n",
    "# conda install numpy"
   ]
  },
  {
   "cell_type": "markdown",
   "id": "758d3a6c",
   "metadata": {},
   "source": [
    "Verificar instalación desde Python:"
   ]
  },
  {
   "cell_type": "code",
   "execution_count": null,
   "id": "089d23f8",
   "metadata": {},
   "outputs": [],
   "source": [
    "import numpy as np\n",
    "print(\"NumPy version:\", np.__version__)"
   ]
  },
  {
   "cell_type": "markdown",
   "id": "bf9dfd9d",
   "metadata": {},
   "source": [
    "\n",
    "## 🧩 Sección 2: Creación de Arrays\n",
    "\n",
    "### 🔹 1. Array desde una lista"
   ]
  },
  {
   "cell_type": "code",
   "execution_count": null,
   "id": "aadf34b1",
   "metadata": {},
   "outputs": [],
   "source": [
    "array1 = np.array([1, 2, 3, 4, 5])\n",
    "print(\"Array desde lista:\", array1)"
   ]
  },
  {
   "cell_type": "markdown",
   "id": "af5b4aae",
   "metadata": {},
   "source": [
    "### 🔹 3. Array de unos"
   ]
  },
  {
   "cell_type": "code",
   "execution_count": null,
   "id": "bd211b1f",
   "metadata": {},
   "outputs": [],
   "source": [
    "ones_array = np.ones(5)\n",
    "print(\"Array de unos:\", ones_array)"
   ]
  },
  {
   "cell_type": "markdown",
   "id": "90040b97",
   "metadata": {},
   "source": [
    "### 🔹 4. Secuencia de valores"
   ]
  },
  {
   "cell_type": "code",
   "execution_count": null,
   "id": "164204b2",
   "metadata": {},
   "outputs": [],
   "source": [
    "sequence_array = np.arange(0, 10, 2)\n",
    "print(\"Array de secuencia:\", sequence_array)"
   ]
  },
  {
   "cell_type": "markdown",
   "id": "1947de09",
   "metadata": {},
   "source": [
    "### 🔹 5. Array bidimensional"
   ]
  },
  {
   "cell_type": "code",
   "execution_count": null,
   "id": "775d3e7a",
   "metadata": {},
   "outputs": [],
   "source": [
    "matrix_2d = np.array([[1, 2, 3], [4, 5, 6]])\n",
    "print(\"Matriz 2D:\", matrix_2d)"
   ]
  },
  {
   "cell_type": "markdown",
   "id": "b79b2df1",
   "metadata": {},
   "source": [
    "## 🧩 Sección 3: Operaciones Básicas con Arrays\n",
    "\n",
    "### 🔹 1. Suma y multiplicación"
   ]
  },
  {
   "cell_type": "code",
   "execution_count": null,
   "id": "6063dc44",
   "metadata": {},
   "outputs": [],
   "source": [
    "b = np.array([5, 6, 7, 8, 9])\n",
    "suma = array1 + b\n",
    "producto = array1 * b\n",
    "print(\"Suma de arrays:\", suma)\n",
    "print(\"Producto elemento a elemento:\", producto)"
   ]
  },
  {
   "cell_type": "markdown",
   "id": "531d1ad9",
   "metadata": {},
   "source": [
    "\n",
    "### 🔹 2. Funciones matemáticas"
   ]
  },
  {
   "cell_type": "code",
   "execution_count": null,
   "id": "bdb4af11",
   "metadata": {},
   "outputs": [],
   "source": [
    "raiz = np.sqrt(array1)\n",
    "seno = np.sin(array1)\n",
    "exponencial = np.exp(array1)\n",
    "print(\"Raíz cuadrada:\", raiz)\n",
    "print(\"Seno:\", seno)\n",
    "print(\"Exponencial:\", exponencial)"
   ]
  },
  {
   "cell_type": "markdown",
   "id": "0853e548",
   "metadata": {},
   "source": [
    "\n",
    "### 🔹 3. Estadísticas básicas"
   ]
  },
  {
   "cell_type": "code",
   "execution_count": null,
   "id": "bd80302c",
   "metadata": {},
   "outputs": [],
   "source": [
    "print(\"Media:\", np.mean(array1))\n",
    "print(\"Máximo:\", np.max(array1))\n",
    "print(\"Mínimo:\", np.min(array1))"
   ]
  },
  {
   "cell_type": "markdown",
   "id": "c27d0310",
   "metadata": {},
   "source": [
    "## 🧩 Sección 4: Manipulación de Arrays\n",
    "\n",
    "### 🔹 1. Cambio de forma (reshape)\n"
   ]
  },
  {
   "cell_type": "code",
   "execution_count": null,
   "id": "78c61e22",
   "metadata": {},
   "outputs": [],
   "source": [
    "reshaped_array = np.arange(6).reshape(3, 2)\n",
    "print(\"Array reestructurado:\", reshaped_array)"
   ]
  },
  {
   "cell_type": "markdown",
   "id": "eedeca03",
   "metadata": {},
   "source": [
    "### 🔹 2. Transposición"
   ]
  },
  {
   "cell_type": "code",
   "execution_count": null,
   "id": "bd488c55",
   "metadata": {},
   "outputs": [],
   "source": [
    "print(\"Transpuesto:\", reshaped_array.T)"
   ]
  },
  {
   "cell_type": "markdown",
   "id": "950cf654",
   "metadata": {},
   "source": [
    "### 🔹 3. Concatenación"
   ]
  },
  {
   "cell_type": "code",
   "execution_count": null,
   "id": "a0b0416a",
   "metadata": {},
   "outputs": [],
   "source": [
    "concat_array = np.concatenate([array1, b])\n",
    "print(\"Concatenación:\", concat_array)"
   ]
  },
  {
   "cell_type": "markdown",
   "id": "ee78edfe",
   "metadata": {},
   "source": [
    "### 🔹 4. División de arrays"
   ]
  },
  {
   "cell_type": "code",
   "execution_count": null,
   "id": "0f471efb",
   "metadata": {},
   "outputs": [],
   "source": [
    "split_array = np.split(array1, 5)\n",
    "print(\"División:\", split_array)"
   ]
  },
  {
   "cell_type": "markdown",
   "id": "1b929165",
   "metadata": {},
   "source": [
    "## 🧪 Sección 5: Ejercicios Extra para Clase\n",
    "\n",
    "### ✏️ Ejercicio 1:\n",
    "> Crear un array de 15 elementos y reestructurarlo en una matriz de 5 filas y 3 columnas.\n",
    "\n"
   ]
  },
  {
   "cell_type": "code",
   "execution_count": null,
   "id": "50d7ba78",
   "metadata": {},
   "outputs": [],
   "source": []
  },
  {
   "cell_type": "markdown",
   "id": "a8f52323",
   "metadata": {},
   "source": [
    "### ✏️ Ejercicio 2:\n",
    "> Crear una matriz identidad de 4x4.\n",
    "\n",
    "\n"
   ]
  },
  {
   "cell_type": "code",
   "execution_count": null,
   "id": "15304cf7",
   "metadata": {},
   "outputs": [],
   "source": []
  },
  {
   "cell_type": "markdown",
   "id": "8ee9caa9",
   "metadata": {},
   "source": [
    "### ✏️ Ejercicio 3:\n",
    "> Generar un array de 10 valores linealmente espaciados entre 0 y 5.\n",
    "\n"
   ]
  },
  {
   "cell_type": "code",
   "execution_count": null,
   "id": "904a9427",
   "metadata": {},
   "outputs": [],
   "source": []
  },
  {
   "cell_type": "markdown",
   "id": "36af8532",
   "metadata": {},
   "source": [
    "### ✏️ Ejercicio 4:\n",
    "> Concatenar dos arrays 1D y dividir el resultado en tres partes iguales.\n",
    "\n"
   ]
  },
  {
   "cell_type": "code",
   "execution_count": null,
   "id": "72a1c5cf",
   "metadata": {},
   "outputs": [],
   "source": []
  },
  {
   "cell_type": "markdown",
   "id": "5d5feba8",
   "metadata": {},
   "source": [
    "### ✏️ Ejercicio 5:\n",
    "> Crear un array de 10 números aleatorios entre 0 y 1. Calcular su media y desviación estándar.\n",
    "\n"
   ]
  },
  {
   "cell_type": "code",
   "execution_count": null,
   "id": "c7288e8f",
   "metadata": {},
   "outputs": [],
   "source": []
  },
  {
   "cell_type": "markdown",
   "id": "f0e6f033",
   "metadata": {},
   "source": [
    "### 🔥 Ejercicio 6 (Desafío):\n",
    "> Crear una función que reciba un array y devuelva otro array normalizado entre 0 y 1 (es decir, valores entre el mínimo y máximo del array)."
   ]
  },
  {
   "cell_type": "code",
   "execution_count": null,
   "id": "2fab837c",
   "metadata": {},
   "outputs": [],
   "source": []
  }
 ],
 "metadata": {
  "kernelspec": {
   "display_name": "Program_2",
   "language": "python",
   "name": "python3"
  },
  "language_info": {
   "codemirror_mode": {
    "name": "ipython",
    "version": 3
   },
   "file_extension": ".py",
   "mimetype": "text/x-python",
   "name": "python",
   "nbconvert_exporter": "python",
   "pygments_lexer": "ipython3",
   "version": "3.12.9"
  }
 },
 "nbformat": 4,
 "nbformat_minor": 5
}
