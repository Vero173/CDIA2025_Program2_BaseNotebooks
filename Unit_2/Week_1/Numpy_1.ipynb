{
 "cells": [
  {
   "cell_type": "markdown",
   "id": "7224bbd8",
   "metadata": {},
   "source": [
    "# Notebook: Instalación y Operaciones Básicas en NumPy"
   ]
  },
  {
   "cell_type": "markdown",
   "id": "34dee115",
   "metadata": {},
   "source": [
    "## Sección 1: Instalación y verificación"
   ]
  },
  {
   "cell_type": "markdown",
   "id": "f4db4c8f",
   "metadata": {},
   "source": [
    "# (Este paso se realiza en consola, no en el notebook)\n",
    "\n",
    "# pip install numpy\n",
    "# conda install numpy"
   ]
  },
  {
   "cell_type": "markdown",
   "id": "758d3a6c",
   "metadata": {},
   "source": [
    "Verificar instalación desde Python:"
   ]
  },
  {
   "cell_type": "code",
   "execution_count": 1,
   "id": "089d23f8",
   "metadata": {},
   "outputs": [
    {
     "name": "stdout",
     "output_type": "stream",
     "text": [
      "NumPy version: 2.2.5\n"
     ]
    }
   ],
   "source": [
    "import numpy as np\n",
    "print(\"NumPy version:\", np.__version__)"
   ]
  },
  {
   "cell_type": "markdown",
   "id": "bf9dfd9d",
   "metadata": {},
   "source": [
    "\n",
    "## 🧩 Sección 2: Creación de Arrays\n",
    "\n",
    "### 🔹 1. Array desde una lista"
   ]
  },
  {
   "cell_type": "code",
   "execution_count": 2,
   "id": "aadf34b1",
   "metadata": {},
   "outputs": [
    {
     "name": "stdout",
     "output_type": "stream",
     "text": [
      "Array desde lista: [1 2 3 4 5]\n"
     ]
    }
   ],
   "source": [
    "array1 = np.array([1, 2, 3, 4, 5])\n",
    "print(\"Array desde lista:\", array1)"
   ]
  },
  {
   "cell_type": "markdown",
   "id": "af5b4aae",
   "metadata": {},
   "source": [
    "### 🔹 3. Array de unos"
   ]
  },
  {
   "cell_type": "code",
   "execution_count": 3,
   "id": "bd211b1f",
   "metadata": {},
   "outputs": [
    {
     "name": "stdout",
     "output_type": "stream",
     "text": [
      "Array de unos: [1. 1. 1. 1. 1.]\n"
     ]
    }
   ],
   "source": [
    "ones_array = np.ones(5)\n",
    "print(\"Array de unos:\", ones_array)"
   ]
  },
  {
   "cell_type": "code",
   "execution_count": 4,
   "id": "96a0ebe5",
   "metadata": {},
   "outputs": [
    {
     "name": "stdout",
     "output_type": "stream",
     "text": [
      "Array de ceros: [0. 0. 0. 0. 0.]\n"
     ]
    }
   ],
   "source": [
    "O_array =np.zeros(5)\n",
    "print(\"Array de ceros:\", O_array)"
   ]
  },
  {
   "cell_type": "code",
   "execution_count": 5,
   "id": "12c6ac09",
   "metadata": {},
   "outputs": [
    {
     "name": "stdout",
     "output_type": "stream",
     "text": [
      "Array de unos: [1. 1. 1. 1. 1. 1. 1. 1. 1. 1.]\n"
     ]
    }
   ],
   "source": [
    "o_array=np.ones(10)\n",
    "print(\"Array de unos:\", o_array)"
   ]
  },
  {
   "cell_type": "markdown",
   "id": "90040b97",
   "metadata": {},
   "source": [
    "### 🔹 4. Secuencia de valores"
   ]
  },
  {
   "cell_type": "code",
   "execution_count": 6,
   "id": "164204b2",
   "metadata": {},
   "outputs": [
    {
     "name": "stdout",
     "output_type": "stream",
     "text": [
      "Array de secuencia: [0 2 4 6 8]\n"
     ]
    }
   ],
   "source": [
    "sequence_array = np.arange(0, 10, 2)\n",
    "print(\"Array de secuencia:\", sequence_array)"
   ]
  },
  {
   "cell_type": "markdown",
   "id": "1947de09",
   "metadata": {},
   "source": [
    "### 🔹 5. Array bidimensional"
   ]
  },
  {
   "cell_type": "code",
   "execution_count": 7,
   "id": "775d3e7a",
   "metadata": {},
   "outputs": [
    {
     "name": "stdout",
     "output_type": "stream",
     "text": [
      "Matriz 2D: [[1 2 3]\n",
      " [4 5 6]]\n"
     ]
    }
   ],
   "source": [
    "matrix_2d = np.array([[1, 2, 3], [4, 5, 6]])\n",
    "print(\"Matriz 2D:\", matrix_2d)"
   ]
  },
  {
   "cell_type": "code",
   "execution_count": 8,
   "id": "2b8871b6",
   "metadata": {},
   "outputs": [
    {
     "name": "stdout",
     "output_type": "stream",
     "text": [
      "tamaño de la matriz 2D: 6\n",
      "dimensiones de la matriz 2D: 2\n",
      "forma de la matriz 2D: (2, 3)\n"
     ]
    }
   ],
   "source": [
    "matrix_2d = np.array([[1, 2, 3], [4, 5, 6]])\n",
    "print(\"tamaño de la matriz 2D:\", matrix_2d.size)\n",
    "print(\"dimensiones de la matriz 2D:\", matrix_2d.ndim)\n",
    "print(\"forma de la matriz 2D:\", matrix_2d.shape)"
   ]
  },
  {
   "cell_type": "markdown",
   "id": "b79b2df1",
   "metadata": {},
   "source": [
    "## 🧩 Sección 3: Operaciones Básicas con Arrays\n",
    "\n",
    "### 🔹 1. Suma y multiplicación"
   ]
  },
  {
   "cell_type": "code",
   "execution_count": 9,
   "id": "6063dc44",
   "metadata": {},
   "outputs": [
    {
     "name": "stdout",
     "output_type": "stream",
     "text": [
      "Suma de arrays: [ 6  8 10 12 14]\n",
      "Producto elemento a elemento: [ 5 12 21 32 45]\n"
     ]
    }
   ],
   "source": [
    "b = np.array([5, 6, 7, 8, 9])\n",
    "suma = array1 + b\n",
    "producto = array1 * b\n",
    "print(\"Suma de arrays:\", suma)\n",
    "print(\"Producto elemento a elemento:\", producto)"
   ]
  },
  {
   "cell_type": "markdown",
   "id": "531d1ad9",
   "metadata": {},
   "source": [
    "\n",
    "### 🔹 2. Funciones matemáticas"
   ]
  },
  {
   "cell_type": "code",
   "execution_count": 10,
   "id": "bdb4af11",
   "metadata": {},
   "outputs": [
    {
     "name": "stdout",
     "output_type": "stream",
     "text": [
      "Raíz cuadrada: [1.         1.41421356 1.73205081 2.         2.23606798]\n",
      "Seno: [ 0.84147098  0.90929743  0.14112001 -0.7568025  -0.95892427]\n",
      "Exponencial: [  2.71828183   7.3890561   20.08553692  54.59815003 148.4131591 ]\n"
     ]
    }
   ],
   "source": [
    "raiz = np.sqrt(array1)\n",
    "seno = np.sin(array1)\n",
    "exponencial = np.exp(array1)\n",
    "print(\"Raíz cuadrada:\", raiz)\n",
    "print(\"Seno:\", seno)\n",
    "print(\"Exponencial:\", exponencial)"
   ]
  },
  {
   "cell_type": "markdown",
   "id": "0853e548",
   "metadata": {},
   "source": [
    "\n",
    "### 🔹 3. Estadísticas básicas"
   ]
  },
  {
   "cell_type": "code",
   "execution_count": 11,
   "id": "bd80302c",
   "metadata": {},
   "outputs": [
    {
     "name": "stdout",
     "output_type": "stream",
     "text": [
      "Media: 3.0\n",
      "Máximo: 5\n",
      "Mínimo: 1\n"
     ]
    }
   ],
   "source": [
    "print(\"Media:\", np.mean(array1))\n",
    "print(\"Máximo:\", np.max(array1))\n",
    "print(\"Mínimo:\", np.min(array1))"
   ]
  },
  {
   "cell_type": "markdown",
   "id": "c27d0310",
   "metadata": {},
   "source": [
    "## 🧩 Sección 4: Manipulación de Arrays\n",
    "\n",
    "### 🔹 1. Cambio de forma (reshape)\n"
   ]
  },
  {
   "cell_type": "code",
   "execution_count": 12,
   "id": "78c61e22",
   "metadata": {},
   "outputs": [
    {
     "name": "stdout",
     "output_type": "stream",
     "text": [
      "Array reestructurado: [[0 1]\n",
      " [2 3]\n",
      " [4 5]]\n"
     ]
    }
   ],
   "source": [
    "reshaped_array = np.arange(6).reshape(3, 2)\n",
    "print(\"Array reestructurado:\", reshaped_array)"
   ]
  },
  {
   "cell_type": "markdown",
   "id": "eedeca03",
   "metadata": {},
   "source": [
    "### 🔹 2. Transposición"
   ]
  },
  {
   "cell_type": "code",
   "execution_count": 13,
   "id": "bd488c55",
   "metadata": {},
   "outputs": [
    {
     "name": "stdout",
     "output_type": "stream",
     "text": [
      "Transpuesto: [[0 2 4]\n",
      " [1 3 5]]\n"
     ]
    }
   ],
   "source": [
    "print(\"Transpuesto:\", reshaped_array.T)"
   ]
  },
  {
   "cell_type": "markdown",
   "id": "950cf654",
   "metadata": {},
   "source": [
    "### 🔹 3. Concatenación"
   ]
  },
  {
   "cell_type": "code",
   "execution_count": 14,
   "id": "a0b0416a",
   "metadata": {},
   "outputs": [
    {
     "name": "stdout",
     "output_type": "stream",
     "text": [
      "Concatenación: [1 2 3 4 5 5 6 7 8 9]\n"
     ]
    }
   ],
   "source": [
    "concat_array = np.concatenate([array1, b])\n",
    "print(\"Concatenación:\", concat_array)"
   ]
  },
  {
   "cell_type": "markdown",
   "id": "ee78edfe",
   "metadata": {},
   "source": [
    "### 🔹 4. División de arrays"
   ]
  },
  {
   "cell_type": "code",
   "execution_count": 15,
   "id": "0f471efb",
   "metadata": {},
   "outputs": [
    {
     "name": "stdout",
     "output_type": "stream",
     "text": [
      "División: [array([1]), array([2]), array([3]), array([4]), array([5])]\n"
     ]
    }
   ],
   "source": [
    "split_array = np.split(array1, 5)\n",
    "print(\"División:\", split_array)"
   ]
  },
  {
   "cell_type": "markdown",
   "id": "1b929165",
   "metadata": {},
   "source": [
    "## 🧪 Sección 5: Ejercicios Extra para Clase\n",
    "\n",
    "### ✏️ Ejercicio 1:\n",
    "VERONICA ARGUDO\n",
    "MARCUS MAYORGA\n",
    "LUIS IRDOÑEZ\n"
   ]
  },
  {
   "cell_type": "code",
   "execution_count": 16,
   "id": "50d7ba78",
   "metadata": {},
   "outputs": [
    {
     "name": "stdout",
     "output_type": "stream",
     "text": [
      "[[ 1  2  3]\n",
      " [ 4  5  6]\n",
      " [ 7  8  9]\n",
      " [10 11 12]\n",
      " [13 14 15]]\n"
     ]
    }
   ],
   "source": [
    "import numpy as np\n",
    "\n",
    "\n",
    "array = np.arange(1, 16)\n",
    "\n",
    "\n",
    "matriz = array.reshape(5, 3)\n",
    "\n",
    "print(matriz)\n"
   ]
  },
  {
   "cell_type": "markdown",
   "id": "a8f52323",
   "metadata": {},
   "source": [
    "### ✏️ Ejercicio 2:\n",
    "> Crear una matriz identidad de 4x4.\n",
    "\n",
    "\n"
   ]
  },
  {
   "cell_type": "code",
   "execution_count": 17,
   "id": "15304cf7",
   "metadata": {},
   "outputs": [
    {
     "name": "stdout",
     "output_type": "stream",
     "text": [
      "Matriz identidad:\n",
      " [[1. 0. 0.]\n",
      " [0. 1. 0.]\n",
      " [0. 0. 1.]]\n"
     ]
    }
   ],
   "source": [
    "import numpy as np\n",
    "##matriz identidad\n",
    "matriz_identidad = np.eye(3)\n",
    "print(\"Matriz identidad:\\n\", matriz_identidad)\n"
   ]
  },
  {
   "cell_type": "markdown",
   "id": "8ee9caa9",
   "metadata": {},
   "source": [
    "### ✏️ Ejercicio 3:\n",
    "> Generar un array de 10 valores linealmente espaciados entre 0 y 5.\n",
    "\n"
   ]
  },
  {
   "cell_type": "code",
   "execution_count": 18,
   "id": "904a9427",
   "metadata": {},
   "outputs": [
    {
     "name": "stdout",
     "output_type": "stream",
     "text": [
      "[0.         0.55555556 1.11111111 1.66666667 2.22222222 2.77777778\n",
      " 3.33333333 3.88888889 4.44444444 5.        ]\n"
     ]
    }
   ],
   "source": [
    "import numpy as np\n",
    "\n",
    "valores = np.linspace(0, 5, 10)\n",
    "print(valores)\n"
   ]
  },
  {
   "cell_type": "markdown",
   "id": "36af8532",
   "metadata": {},
   "source": [
    "### ✏️ Ejercicio 4:\n",
    "> Concatenar dos arrays 1D y dividir el resultado en tres partes iguales.\n",
    "\n"
   ]
  },
  {
   "cell_type": "code",
   "execution_count": 19,
   "id": "72a1c5cf",
   "metadata": {},
   "outputs": [
    {
     "name": "stdout",
     "output_type": "stream",
     "text": [
      "Parte 1: [1 2]\n",
      "Parte 2: [3 4]\n",
      "Parte 3: [5 6]\n"
     ]
    }
   ],
   "source": [
    "import numpy as np\n",
    "\n",
    "\n",
    "a = np.array([1, 2, 3])\n",
    "b = np.array([4, 5, 6])\n",
    "\n",
    "\n",
    "c = np.concatenate((a, b))  \n",
    "\n",
    "\n",
    "partes = np.split(c, 3)\n",
    "\n",
    "\n",
    "for i, parte in enumerate(partes):\n",
    "    print(f\"Parte {i+1}:\", parte)\n"
   ]
  },
  {
   "cell_type": "markdown",
   "id": "5d5feba8",
   "metadata": {},
   "source": [
    "### ✏️ Ejercicio 5:\n",
    "> Crear un array de 10 números aleatorios entre 0 y 1. Calcular su media y desviación estándar.\n",
    "\n"
   ]
  },
  {
   "cell_type": "code",
   "execution_count": 20,
   "id": "c7288e8f",
   "metadata": {},
   "outputs": [
    {
     "name": "stdout",
     "output_type": "stream",
     "text": [
      "Array: [0.58693473 0.91757352 0.16794244 0.67231872 0.66292612 0.37543849\n",
      " 0.23586586 0.27395292 0.89256684 0.02028197]\n",
      "Media: 0.4805801624352906\n",
      "Desviación estándar: 0.2941551766297552\n"
     ]
    }
   ],
   "source": [
    "import numpy as np\n",
    "\n",
    "\n",
    "arr = np.random.rand(10)\n",
    "\n",
    "\n",
    "media = np.mean(arr)\n",
    "\n",
    "\n",
    "desviacion = np.std(arr)\n",
    "\n",
    "\n",
    "print(\"Array:\", arr)\n",
    "print(\"Media:\", media)\n",
    "print(\"Desviación estándar:\", desviacion)\n"
   ]
  },
  {
   "cell_type": "markdown",
   "id": "f0e6f033",
   "metadata": {},
   "source": [
    "### 🔥 Ejercicio 6 (Desafío):\n",
    "> Crear una función que reciba un array y devuelva otro array normalizado entre 0 y 1 (es decir, valores entre el mínimo y máximo del array)."
   ]
  },
  {
   "cell_type": "code",
   "execution_count": 21,
   "id": "2fab837c",
   "metadata": {},
   "outputs": [
    {
     "name": "stdout",
     "output_type": "stream",
     "text": [
      "Original: [ 4  8 15 16 23 42]\n",
      "Normalizado: [0.         0.10526316 0.28947368 0.31578947 0.5        1.        ]\n"
     ]
    }
   ],
   "source": [
    "import numpy as np\n",
    "\n",
    "def normalizar_array(arr):\n",
    "    minimo = np.min(arr)\n",
    "    maximo = np.max(arr)\n",
    "    if maximo == minimo:\n",
    "        return np.zeros_like(arr)  \n",
    "    return (arr - minimo) / (maximo - minimo)\n",
    "\n",
    "\n",
    "arr = np.array([4, 8, 15, 16, 23, 42])\n",
    "normalizado = normalizar_array(arr)\n",
    "\n",
    "print(\"Original:\", arr)\n",
    "print(\"Normalizado:\", normalizado)\n"
   ]
  }
 ],
 "metadata": {
  "kernelspec": {
   "display_name": "Programacion_2",
   "language": "python",
   "name": "python3"
  },
  "language_info": {
   "codemirror_mode": {
    "name": "ipython",
    "version": 3
   },
   "file_extension": ".py",
   "mimetype": "text/x-python",
   "name": "python",
   "nbconvert_exporter": "python",
   "pygments_lexer": "ipython3",
   "version": "3.12.9"
  }
 },
 "nbformat": 4,
 "nbformat_minor": 5
}
