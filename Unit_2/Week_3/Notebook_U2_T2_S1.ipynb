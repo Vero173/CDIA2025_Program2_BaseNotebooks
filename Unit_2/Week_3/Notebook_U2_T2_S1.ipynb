{
 "cells": [
  {
   "cell_type": "markdown",
   "metadata": {},
   "source": [
    "# 🧠 Indexación Avanzada, Slicing y Broadcasting en NumPy\n",
    "\n",
    "Este notebook complementa el contenido de la Semana 1 del Tema 2 de la Unidad 2 de Programación II, basado en el libro *Numerical Python* y el material proporcionado por el docente. A continuación, trabajaremos con ejemplos prácticos para dominar:\n",
    "\n",
    "- Indexación básica y multidimensional\n",
    "- Slicing y máscaras booleanas\n",
    "- Broadcasting y sus reglas"
   ]
  },
  {
   "cell_type": "markdown",
   "metadata": {},
   "source": [
    "# Indexación, Slicing y Broadcasting en NumPy: Fundamentos para Ciencia de Datos"
   ]
  },
  {
   "cell_type": "code",
   "execution_count": null,
   "metadata": {},
   "outputs": [],
   "source": [
    "import numpy as np\n",
    "np.set_printoptions(precision=2)\n",
    "\n",
    "# Creación de arrays para pruebas\n",
    "arr1d = np.arange(10)\n",
    "arr2d = np.arange(20).reshape(4, 5)\n",
    "arr3d = np.arange(2*3*4).reshape(2, 3, 4)\n",
    "\n",
    "arr1d, arr2d, arr3d.shape"
   ]
  },
  {
   "cell_type": "markdown",
   "metadata": {},
   "source": [
    "## 🔢 Indexación Básica y Multidimensional\n",
    "Accedemos a elementos individuales o subconjuntos específicos:"
   ]
  },
  {
   "cell_type": "code",
   "execution_count": null,
   "metadata": {},
   "outputs": [],
   "source": [
    "# Indexación 1D\n",
    "print(\"arr1d[0] =\", arr1d[0])\n",
    "print(\"arr1d[-1] =\", arr1d[-1])\n",
    "\n",
    "# Indexación 2D\n",
    "print(\"arr2d[1, 2] =\", arr2d[1, 2])\n",
    "print(\"arr2d[0] (primera fila) =\", arr2d[0])\n",
    "print(\"arr2d[:, 1] (segunda columna) =\", arr2d[:, 1])"
   ]
  },
  {
   "cell_type": "markdown",
   "metadata": {},
   "source": [
    "## ✂️ Slicing y Slicing Avanzado\n",
    "Extraemos subconjuntos de arrays:"
   ]
  },
  {
   "cell_type": "code",
   "execution_count": null,
   "metadata": {},
   "outputs": [],
   "source": [
    "# Slicing básico\n",
    "print(\"arr1d[2:7:2] =\", arr1d[2:7:2])\n",
    "print(\"arr1d[::-1] =\", arr1d[::-1])\n",
    "\n",
    "# Slicing 2D\n",
    "print(\"arr2d[1:3, 2:5] =\\n\", arr2d[1:3, 2:5])"
   ]
  },
  {
   "cell_type": "markdown",
   "metadata": {},
   "source": [
    "## 🎭 Máscaras Booleanas\n",
    "Filtramos datos con condiciones lógicas:"
   ]
  },
  {
   "cell_type": "code",
   "execution_count": null,
   "metadata": {},
   "outputs": [],
   "source": [
    "# Máscaras booleanas\n",
    "mask = arr2d > 10\n",
    "print(\"Máscara (arr2d > 10):\\n\", mask)\n",
    "print(\"Filtrado:\", arr2d[mask])\n",
    "\n",
    "# Condiciones combinadas\n",
    "print(\"(arr2d > 10) & (arr2d < 15):\", arr2d[(arr2d > 10) & (arr2d < 15)])"
   ]
  },
  {
   "cell_type": "markdown",
   "metadata": {},
   "source": [
    "## 📦 Broadcasting en NumPy\n",
    "Operaciones entre arrays de diferentes dimensiones:"
   ]
  },
  {
   "cell_type": "code",
   "execution_count": null,
   "metadata": {},
   "outputs": [],
   "source": [
    "# Broadcasting ejemplo\n",
    "columna = np.arange(4).reshape(4, 1)\n",
    "fila = np.arange(5).reshape(1, 5)\n",
    "resultado = columna + fila\n",
    "print(\"Columna + Fila (Broadcasting):\\n\", resultado)\n",
    "\n",
    "# Verificación de reglas\n",
    "A = np.ones((3, 1))\n",
    "B = np.ones((1, 4))\n",
    "print(\"A * B (Broadcasting):\\n\", A * B)"
   ]
  }
 ],
 "metadata": {
  "kernelspec": {
   "display_name": "Python 3",
   "language": "python",
   "name": "python3"
  },
  "language_info": {
   "name": "python",
   "version": "3.9"
  }
 },
 "nbformat": 4,
 "nbformat_minor": 2
}
